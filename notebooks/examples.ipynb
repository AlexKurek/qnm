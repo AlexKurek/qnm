{
 "cells": [
  {
   "cell_type": "code",
   "execution_count": null,
   "metadata": {},
   "outputs": [],
   "source": [
    "import sys\n",
    "sys.path.append(\"..\")"
   ]
  },
  {
   "cell_type": "code",
   "execution_count": null,
   "metadata": {},
   "outputs": [],
   "source": [
    "print(sys.version)"
   ]
  },
  {
   "cell_type": "code",
   "execution_count": null,
   "metadata": {},
   "outputs": [],
   "source": [
    "%config InlineBackend.figure_format = 'retina'"
   ]
  },
  {
   "cell_type": "code",
   "execution_count": null,
   "metadata": {},
   "outputs": [],
   "source": [
    "import qnm"
   ]
  },
  {
   "cell_type": "code",
   "execution_count": null,
   "metadata": {},
   "outputs": [],
   "source": [
    "print(qnm.__path__)\n",
    "print(qnm.__version__)"
   ]
  },
  {
   "cell_type": "code",
   "execution_count": null,
   "metadata": {},
   "outputs": [],
   "source": [
    "import numpy as np\n",
    "import matplotlib as mpl\n",
    "import matplotlib.pyplot as plt\n",
    "mpl.rc('text', usetex = True)\n",
    "mpl.rc('font', size = 16)\n",
    "mpl.rc('figure', figsize = [16, 8])\n",
    "mpl.rc('xtick.major', size = 8)\n",
    "mpl.rc('ytick.major', size = 8)"
   ]
  },
  {
   "cell_type": "markdown",
   "metadata": {},
   "source": [
    "### Download the precomputed data, if needed. This only has to happen once."
   ]
  },
  {
   "cell_type": "code",
   "execution_count": null,
   "metadata": {},
   "outputs": [],
   "source": [
    "qnm.download_data()"
   ]
  },
  {
   "cell_type": "markdown",
   "metadata": {},
   "source": [
    "### Load a single 'spin sequence' and get values of frequency, separation constant, and the spherical-spheroidal decomposition"
   ]
  },
  {
   "cell_type": "code",
   "execution_count": null,
   "metadata": {},
   "outputs": [],
   "source": [
    "s, l, m, n = (-2, 2, 2, 0)\n",
    "mode_seq = qnm.modes_cache(s=s,l=l,m=m,n=n)\n",
    "a = 0.68\n",
    "omega, A, C = mode_seq(a=a)\n",
    "print(\"omega_{{{0},{1},{2},{3}}} = {4}, A{{{0},{1},{2},{3}}} = {5}\".format(s,l,m,n,omega,A))"
   ]
  },
  {
   "cell_type": "markdown",
   "metadata": {},
   "source": [
    "### Visualize a collection of spin sequences in the complex $\\omega$ plane, and their associated separation constants"
   ]
  },
  {
   "cell_type": "code",
   "execution_count": null,
   "metadata": {},
   "outputs": [],
   "source": [
    "def format_om_A_plots(modestr, fig=None):\n",
    "    if fig is None:\n",
    "        fig = plt.gcf()\n",
    "    \n",
    "    ax = fig.get_axes()\n",
    "    ax[0].invert_yaxis()\n",
    "    ax[0].set_xlabel(r'$\\textrm{Re}[\\omega_{' + modestr + r'}]$')\n",
    "    ax[0].set_ylabel(r'$\\textrm{Im}[\\omega_{' + modestr + r'}]$')\n",
    "    ax[1].set_xlabel(r'$\\textrm{Re}[A_{' + modestr + r'}]$')\n",
    "    ax[1].set_ylabel(r'$\\textrm{Im}[A_{' + modestr + r'}]$')"
   ]
  },
  {
   "cell_type": "code",
   "execution_count": null,
   "metadata": {},
   "outputs": [],
   "source": [
    "s, l, m = (-2, 2, 2)\n",
    "mode_list = [(s, l, m, n) for n in np.arange(0,7)]\n",
    "modes = { ind : qnm.modes_cache(*ind) for ind in mode_list }\n",
    "\n",
    "plt.subplot(1, 2, 1)\n",
    "for mode, seq in modes.items():\n",
    "    plt.plot(np.real(seq.omega),np.imag(seq.omega))\n",
    "\n",
    "plt.subplot(1, 2, 2)\n",
    "for mode, seq in modes.items():\n",
    "    plt.plot(np.real(seq.A),np.imag(seq.A))\n",
    "\n",
    "format_om_A_plots(\"{},{},{},n\".format(s,l,m))\n",
    "\n",
    "plt.savefig(\"example_22n.png\", bbox_inches=\"tight\", dpi=300)\n",
    "\n",
    "plt.show()"
   ]
  },
  {
   "cell_type": "code",
   "execution_count": null,
   "metadata": {},
   "outputs": [],
   "source": [
    "s, l, n = (-2, 2, 0)\n",
    "mode_list = [(s, l, m, n) for m in np.arange(-l,l+1)]\n",
    "modes = { ind : qnm.modes_cache(*ind) for ind in mode_list }\n",
    "\n",
    "plt.subplot(1, 2, 1)\n",
    "for mode, seq in modes.items():\n",
    "    plt.plot(np.real(seq.omega),np.imag(seq.omega))\n",
    "\n",
    "plt.subplot(1, 2, 2)\n",
    "for mode, seq in modes.items():\n",
    "    plt.plot(np.real(seq.A),np.imag(seq.A))\n",
    "\n",
    "format_om_A_plots(\"{},{},m,{}\".format(s,l,n))\n",
    "\n",
    "plt.savefig(\"example_2m0.png\", bbox_inches=\"tight\", dpi=300)\n",
    "\n",
    "plt.show()"
   ]
  },
  {
   "cell_type": "code",
   "execution_count": null,
   "metadata": {},
   "outputs": [],
   "source": []
  }
 ],
 "metadata": {
  "kernelspec": {
   "display_name": "Python 3",
   "language": "python",
   "name": "python3"
  },
  "language_info": {
   "codemirror_mode": {
    "name": "ipython",
    "version": 3
   },
   "file_extension": ".py",
   "mimetype": "text/x-python",
   "name": "python",
   "nbconvert_exporter": "python",
   "pygments_lexer": "ipython3",
   "version": "3.7.4"
  }
 },
 "nbformat": 4,
 "nbformat_minor": 2
}
