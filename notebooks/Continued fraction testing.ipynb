{
 "cells": [
  {
   "cell_type": "markdown",
   "metadata": {},
   "source": [
    "# Testing the Lentz method for continued fractions"
   ]
  },
  {
   "cell_type": "code",
   "execution_count": 2,
   "metadata": {},
   "outputs": [],
   "source": [
    "import time\n",
    "import numpy as np\n",
    "import itertools"
   ]
  },
  {
   "cell_type": "code",
   "execution_count": 3,
   "metadata": {},
   "outputs": [],
   "source": [
    "import sys\n",
    "sys.path.append(\"..\")"
   ]
  },
  {
   "cell_type": "code",
   "execution_count": 4,
   "metadata": {},
   "outputs": [],
   "source": [
    "from qnm.contfrac import lentz, lentz_gen"
   ]
  },
  {
   "cell_type": "code",
   "execution_count": 5,
   "metadata": {},
   "outputs": [
    {
     "data": {
      "text/plain": [
       "(1.4142135623638004, 4.488287519421874e-11, 14)"
      ]
     },
     "execution_count": 5,
     "metadata": {},
     "output_type": "execute_result"
    }
   ],
   "source": [
    "def rt2b(n):\n",
    "    if (n==0):\n",
    "        return 1\n",
    "    return 2\n",
    "\n",
    "def rt2a(n): return 1\n",
    "\n",
    "lentz(rt2a, rt2b)"
   ]
  },
  {
   "cell_type": "code",
   "execution_count": 6,
   "metadata": {},
   "outputs": [
    {
     "data": {
      "text/plain": [
       "(1.6180339887802424, 6.785971784495359e-11, 25)"
      ]
     },
     "execution_count": 6,
     "metadata": {},
     "output_type": "execute_result"
    }
   ],
   "source": [
    "phia = rt2a\n",
    "phib = rt2a\n",
    "\n",
    "lentz(phia, phib)"
   ]
  },
  {
   "cell_type": "code",
   "execution_count": 7,
   "metadata": {},
   "outputs": [
    {
     "data": {
      "text/plain": [
       "(3.1415926535897922, 8.881784197001252e-16, 21)"
      ]
     },
     "execution_count": 7,
     "metadata": {},
     "output_type": "execute_result"
    }
   ],
   "source": [
    "def pia(n):\n",
    "    if (n==1):\n",
    "        return 4.\n",
    "    return (n-1.)*(n-1.)\n",
    "    \n",
    "def pib(n):\n",
    "    if (n==0):\n",
    "        return 0.\n",
    "    return 2*n-1.\n",
    "\n",
    "lentz(pia, pib, tol=1.e-15)"
   ]
  },
  {
   "cell_type": "code",
   "execution_count": 8,
   "metadata": {},
   "outputs": [
    {
     "data": {
      "text/plain": [
       "(2.7182818284590464, 3.3306690738754696e-16, 16)"
      ]
     },
     "execution_count": 8,
     "metadata": {},
     "output_type": "execute_result"
    }
   ],
   "source": [
    "def e_a(n):\n",
    "    if (n==1):\n",
    "        return 1.\n",
    "    return (n-1.)\n",
    "    \n",
    "def e_b(n):\n",
    "    if (n==0):\n",
    "        return 2.\n",
    "    return n\n",
    "\n",
    "lentz(e_a, e_b, tol=1.e-15)"
   ]
  },
  {
   "cell_type": "code",
   "execution_count": 9,
   "metadata": {},
   "outputs": [
    {
     "name": "stdout",
     "output_type": "stream",
     "text": [
      "0.6420926159343308\n"
     ]
    },
    {
     "data": {
      "text/plain": [
       "(0.6420926159343306, 1.1102230246251565e-16, 9)"
      ]
     },
     "execution_count": 9,
     "metadata": {},
     "output_type": "execute_result"
    }
   ],
   "source": [
    "def cot1_a(n):\n",
    "    return -1.\n",
    "    \n",
    "def cot1_b(n):\n",
    "    return 2.*n+1.\n",
    "\n",
    "print(1./np.tan(1.))\n",
    "lentz(cot1_a, cot1_b, tol=1.e-15)"
   ]
  },
  {
   "cell_type": "code",
   "execution_count": 10,
   "metadata": {
    "scrolled": true
   },
   "outputs": [
    {
     "name": "stdout",
     "output_type": "stream",
     "text": [
      "(1.4142135623638004, 4.488287519421874e-11, 14)\n",
      "(1.4142135623638004, 4.488287519421874e-11, 14)\n",
      "func=1.59473705292 sec, gen=1.83648109436 sec\n"
     ]
    }
   ],
   "source": [
    "def rt2b_g():\n",
    "    yield 1\n",
    "    for x in itertools.repeat(2):\n",
    "        yield x\n",
    "\n",
    "def rt2a_g():\n",
    "    for x in itertools.repeat(1):\n",
    "        yield x\n",
    "\n",
    "N_trials = 100000\n",
    "\n",
    "start_f = time.time()\n",
    "for _ in range(N_trials):\n",
    "    v = lentz(rt2a, rt2b)\n",
    "end_f = time.time()\n",
    "\n",
    "print(v)\n",
    "\n",
    "start_g = time.time()\n",
    "for _ in range(N_trials):\n",
    "    v = lentz_gen(rt2a_g(), rt2b_g())\n",
    "end_g = time.time()\n",
    "\n",
    "print(v)\n",
    "                    \n",
    "print(\"func={} sec, gen={} sec\".format(end_f-start_f,end_g-start_g))"
   ]
  },
  {
   "cell_type": "code",
   "execution_count": null,
   "metadata": {},
   "outputs": [],
   "source": []
  }
 ],
 "metadata": {
  "kernelspec": {
   "display_name": "Python 3",
   "language": "python",
   "name": "python3"
  },
  "language_info": {
   "codemirror_mode": {
    "name": "ipython",
    "version": 2
   },
   "file_extension": ".py",
   "mimetype": "text/x-python",
   "name": "python",
   "nbconvert_exporter": "python",
   "pygments_lexer": "ipython2",
   "version": "2.7.15"
  }
 },
 "nbformat": 4,
 "nbformat_minor": 2
}
