{
 "cells": [
  {
   "cell_type": "code",
   "execution_count": 1,
   "metadata": {},
   "outputs": [],
   "source": [
    "import radial\n",
    "import angular"
   ]
  },
  {
   "cell_type": "code",
   "execution_count": 1,
   "metadata": {},
   "outputs": [],
   "source": [
    "import numpy as np\n",
    "import matplotlib.pyplot as plt"
   ]
  },
  {
   "cell_type": "markdown",
   "metadata": {},
   "source": [
    "# Exploring values of inversion error function"
   ]
  },
  {
   "cell_type": "code",
   "execution_count": 3,
   "metadata": {},
   "outputs": [
    {
     "data": {
      "text/plain": [
       "(-3.7832264403820357-1.8368923380529323j)"
      ]
     },
     "execution_count": 3,
     "metadata": {},
     "output_type": "execute_result"
    }
   ],
   "source": [
    "radial.Leaver_Cf_trunc_inversion(0.4-0.2j, 0., -2, 2, 4.+0.j, 0, 300, 1.+0.j)"
   ]
  },
  {
   "cell_type": "code",
   "execution_count": 4,
   "metadata": {},
   "outputs": [],
   "source": [
    "Npts=100\n",
    "omegar=np.arange(0.2, .5, .3/Npts)\n",
    "omegai=np.arange(-0.2, -0., .2/Npts)\n",
    "Or, Oi = np.meshgrid(omegar, omegai)\n",
    "Os = Or + 1.j*Oi"
   ]
  },
  {
   "cell_type": "code",
   "execution_count": 5,
   "metadata": {
    "scrolled": true
   },
   "outputs": [],
   "source": [
    "leav1 = lambda omega: radial.Leaver_Cf_trunc_inversion(omega, 0., -2, 2, 4.+0.j, 0, 300, 0.j)\n",
    "leavf = np.vectorize(leav1)\n",
    "Leavers = np.abs(leavf(Os))"
   ]
  },
  {
   "cell_type": "code",
   "execution_count": 6,
   "metadata": {},
   "outputs": [
    {
     "data": {
      "image/png": "[encoded data removed]",
      "text/plain": [
       "<Figure size 432x288 with 2 Axes>"
      ]
     },
     "metadata": {},
     "output_type": "display_data"
    }
   ],
   "source": [
    "CS = plt.contourf(Or, Oi, np.exp(-Leavers))\n",
    "plt.colorbar(CS)\n",
    "plt.show()"
   ]
  },
  {
   "cell_type": "code",
   "execution_count": 7,
   "metadata": {},
   "outputs": [
    {
     "data": {
      "text/plain": [
       "(3.7252106530184745+0j)"
      ]
     },
     "execution_count": 7,
     "metadata": {},
     "output_type": "execute_result"
    }
   ],
   "source": [
    "angular.sep_const_closest(4., -2, 0.1, 2, 20)"
   ]
  },
  {
   "cell_type": "code",
   "execution_count": 8,
   "metadata": {},
   "outputs": [],
   "source": [
    "Npts=100\n",
    "omegar=np.arange(0.35, .45, .1/Npts)\n",
    "omegai=np.arange(-0.15, -0., .15/Npts)\n",
    "Or, Oi = np.meshgrid(omegar, omegai)\n",
    "Os = Or + 1.j*Oi"
   ]
  },
  {
   "cell_type": "code",
   "execution_count": 9,
   "metadata": {},
   "outputs": [],
   "source": [
    "a = 0.2\n",
    "s = -2\n",
    "m = 2\n",
    "\n",
    "n_inv = 2\n",
    "Nr = 300\n",
    "r_N = 0.\n",
    "l_max = 20\n",
    "\n",
    "leav1 = lambda omega: radial.Leaver_Cf_trunc_inversion(omega, a, s, m, \n",
    "                                                       angular.sep_const_closest(4., s, a*omega, m, l_max),\n",
    "                                                       n_inv, Nr, r_N)\n",
    "leavf = np.vectorize(leav1)\n",
    "Leavers = np.abs(leavf(Os))"
   ]
  },
  {
   "cell_type": "code",
   "execution_count": 10,
   "metadata": {},
   "outputs": [
    {
     "data": {
      "image/png": "[encoded data removed]",
      "text/plain": [
       "<Figure size 432x288 with 2 Axes>"
      ]
     },
     "metadata": {},
     "output_type": "display_data"
    }
   ],
   "source": [
    "CS = plt.contourf(Or, Oi, np.exp(-Leavers))\n",
    "plt.colorbar(CS)\n",
    "plt.show()"
   ]
  },
  {
   "cell_type": "code",
   "execution_count": 11,
   "metadata": {},
   "outputs": [],
   "source": [
    "from scipy import optimize"
   ]
  },
  {
   "cell_type": "code",
   "execution_count": 12,
   "metadata": {
    "scrolled": false
   },
   "outputs": [
    {
     "name": "stdout",
     "output_type": "stream",
     "text": [
      "    fjac: array([[-0.58055883, -0.81421831],\n",
      "       [ 0.81421831, -0.58055883]])\n",
      "     fun: array([ 1.33226763e-14, -1.33226763e-14])\n",
      " message: 'The solution converged.'\n",
      "    nfev: 19\n",
      "     qtf: array([-1.57221040e-12, -7.31598543e-13])\n",
      "       r: array([-37.7375798 , -11.24345049,  -6.74371103])\n",
      "  status: 1\n",
      " success: True\n",
      "       x: array([ 0.34833034, -0.8319382 ])\n",
      "(0.34833033663025764-0.8319382006483369j)\n"
     ]
    }
   ],
   "source": [
    "a = 0.5\n",
    "s = -2\n",
    "m = 2\n",
    "\n",
    "n_inv = 3\n",
    "Nr = 300\n",
    "r_N = 0.\n",
    "l_max = 20\n",
    "\n",
    "A0 = 4.\n",
    "omega_guess = 1.-1.j\n",
    "\n",
    "def leavA(x):\n",
    "    omega = x[0] + 1.j*x[1]\n",
    "    A = angular.sep_const_closest(A0, s, a*omega, m, l_max)\n",
    "    Leav_err = radial.Leaver_Cf_trunc_inversion(omega, a, s, m, A, n_inv, Nr, r_N)\n",
    "    return [np.real(Leav_err), np.imag(Leav_err)]\n",
    "\n",
    "sol = optimize.root(leavA, [np.real(omega_guess), np.imag(omega_guess)], tol=1e-10)\n",
    "print(sol)\n",
    "omega_sol = sol.x[0] + 1.j*sol.x[1]\n",
    "print(omega_sol)"
   ]
  },
  {
   "cell_type": "code",
   "execution_count": 13,
   "metadata": {},
   "outputs": [
    {
     "data": {
      "text/plain": [
       "array([  3.65472734+1.22498937j,   9.82054178+0.6074719j ,\n",
       "        17.90847623+0.38296443j,  27.95862701+0.27548481j,\n",
       "        39.98916164+0.215713j  ,  54.00893186+0.17902532j,\n",
       "        70.02240192+0.15487222j,  88.03196779+0.13811716j,\n",
       "       108.03899516+0.12601303j, 130.04430444+0.11698107j,\n",
       "       154.04841106+0.11006087j, 180.05165144+0.10464061j,\n",
       "       208.05425245+0.10031534j, 238.05637147+0.09680831j,\n",
       "       270.05812039+0.09392509j, 304.05958047+0.09152584j,\n",
       "       340.06081191+0.08950783j, 418.04932771+0.07278469j,\n",
       "       378.0618591 +0.08785411j])"
      ]
     },
     "execution_count": 13,
     "metadata": {},
     "output_type": "execute_result"
    }
   ],
   "source": [
    "angular.sep_consts(s, a*omega_sol, m, l_max)"
   ]
  },
  {
   "cell_type": "code",
   "execution_count": 14,
   "metadata": {
    "scrolled": true
   },
   "outputs": [
    {
     "data": {
      "text/plain": [
       "array([  4.+0.j,  10.+0.j,  18.+0.j,  28.+0.j,  40.+0.j,  54.+0.j,\n",
       "        70.+0.j,  88.+0.j, 108.+0.j, 130.+0.j, 154.+0.j, 180.+0.j,\n",
       "       208.+0.j, 238.+0.j, 270.+0.j, 304.+0.j, 340.+0.j, 378.+0.j,\n",
       "       418.+0.j])"
      ]
     },
     "execution_count": 14,
     "metadata": {},
     "output_type": "execute_result"
    }
   ],
   "source": [
    "angular.sep_consts(s, 0., 2, 20)"
   ]
  },
  {
   "cell_type": "markdown",
   "metadata": {},
   "source": [
    "# Testing the nearby_root_finder class"
   ]
  },
  {
   "cell_type": "code",
   "execution_count": 2,
   "metadata": {},
   "outputs": [],
   "source": [
    "import QNM_root_finder"
   ]
  },
  {
   "cell_type": "code",
   "execution_count": 3,
   "metadata": {},
   "outputs": [],
   "source": [
    "tol = 1e-10\n",
    "a = 0.5\n",
    "s = -2\n",
    "m = 2\n",
    "\n",
    "n_inv = 3\n",
    "Nr = 300\n",
    "r_N = 0.\n",
    "l_max = 20\n",
    "\n",
    "A0 = 4.\n",
    "omega_guess = 1.-1.j"
   ]
  },
  {
   "cell_type": "code",
   "execution_count": 4,
   "metadata": {},
   "outputs": [],
   "source": [
    "finder = QNM_root_finder.nearby_root_finder(a=a, s=s, m=m, A_closest_to=A0,\n",
    "                                            l_max=l_max, omega_guess=omega_guess,\n",
    "                                            tol=tol, n_inv=n_inv, Nr=Nr, r_N=r_N)"
   ]
  },
  {
   "cell_type": "code",
   "execution_count": 5,
   "metadata": {},
   "outputs": [
    {
     "data": {
      "text/plain": [
       "(0.3483303366364627-0.8319382005769503j)"
      ]
     },
     "execution_count": 5,
     "metadata": {},
     "output_type": "execute_result"
    }
   ],
   "source": [
    "finder.do_solve()"
   ]
  },
  {
   "cell_type": "code",
   "execution_count": 6,
   "metadata": {},
   "outputs": [
    {
     "name": "stdout",
     "output_type": "stream",
     "text": [
      "(-0.18955722077138332-0.9633880334067098j)\n",
      "(6.819921724576794e-08-9.111526855232199e-08j)\n",
      "1.1381179814192027e-07\n"
     ]
    }
   ],
   "source": [
    "finder.set_params(a=0.1)\n",
    "finder.set_params(Nr=300)\n",
    "o1 = finder.do_solve()\n",
    "finder.set_params(Nr=301)\n",
    "o2 = finder.do_solve()\n",
    "print(o1)\n",
    "print(o1-o2)\n",
    "print(np.abs(o1-o2))"
   ]
  },
  {
   "cell_type": "code",
   "execution_count": 7,
   "metadata": {},
   "outputs": [
    {
     "name": "stdout",
     "output_type": "stream",
     "text": [
      "(0.24695762233292828-1.1067118774808864j)\n",
      "(-1.7486012637846216e-15-8.881784197001252e-16j)\n",
      "1.9612412612756718e-15\n"
     ]
    }
   ],
   "source": [
    "finder.set_params(a=0.3)\n",
    "finder.set_params(l_max=20)\n",
    "o1 = finder.do_solve()\n",
    "finder.set_params(l_max=21)\n",
    "o2 = finder.do_solve()\n",
    "print(o1)\n",
    "print(o1-o2)\n",
    "print(np.abs(o1-o2))"
   ]
  },
  {
   "cell_type": "markdown",
   "metadata": {},
   "source": [
    "# Testing the QNM_seq_root_finder class"
   ]
  },
  {
   "cell_type": "code",
   "execution_count": 8,
   "metadata": {},
   "outputs": [
    {
     "name": "stdout",
     "output_type": "stream",
     "text": [
      "n=0, l=3, started from guess omega=(0.673575314055-0.0962250448649j), found omega=(0.599443288437-0.092703047945j)\n",
      "n=1, l=3, started from guess omega=(0.673575314055-0.288675134595j), found omega=(0.582643803033-0.281298113435j)\n",
      "n=2, l=3, started from guess omega=(0.673575314055-0.481125224325j), found omega=(0.551684900778-0.479092750967j)\n",
      "n=3, l=3, started from guess omega=(0.673575314055-0.673575314055j), found omega=(0.551684900778-0.479092750967j)\n",
      "n=4, l=3, started from guess omega=(0.673575314055-0.866025403784j), found omega=(0.551684900778-0.479092750967j)\n",
      "n=5, l=3, started from guess omega=(0.673575314055-1.05847549351j), found omega=(0.511961911058-0.690337095969j)\n",
      "n=6, l=3, started from guess omega=(0.673575314055-1.25092558324j), found omega=(0.470174005822-0.915649392501j)\n"
     ]
    }
   ],
   "source": [
    "a_max = .97\n",
    "\n",
    "ns=np.arange(0,7)\n",
    "s=-2\n",
    "l=3\n",
    "m=3\n",
    "seqs = [None] * len(ns)\n",
    "for n in ns:\n",
    "    seqs[n] = QNM_root_finder.QNM_seq_root_finder(n=n, a_max=a_max, delta_a=5e-3, s=s, l=l, m=m)\n",
    "    seqs[n].do_find_sequence()"
   ]
  },
  {
   "cell_type": "code",
   "execution_count": 9,
   "metadata": {},
   "outputs": [
    {
     "data": {
      "image/png": "[encoded data removed]",
      "text/plain": [
       "<Figure size 432x288 with 1 Axes>"
      ]
     },
     "metadata": {},
     "output_type": "display_data"
    }
   ],
   "source": [
    "for n in ns:\n",
    "    plt.plot(np.real(seqs[n].omega), np.imag(seqs[n].omega))\n",
    "plt.xlim(-1.5, 1.5)\n",
    "plt.ylim(-1.7,0)\n",
    "plt.gca().invert_yaxis()\n",
    "plt.show()"
   ]
  },
  {
   "cell_type": "code",
   "execution_count": 10,
   "metadata": {},
   "outputs": [
    {
     "data": {
      "image/png": "[encoded data removed]",
      "text/plain": [
       "<Figure size 432x288 with 1 Axes>"
      ]
     },
     "metadata": {},
     "output_type": "display_data"
    }
   ],
   "source": [
    "for n in ns:\n",
    "    plt.plot(np.real(seqs[n].A), np.imag(seqs[n].A))\n",
    "plt.show()"
   ]
  },
  {
   "cell_type": "code",
   "execution_count": 11,
   "metadata": {
    "scrolled": true
   },
   "outputs": [
    {
     "data": {
      "image/png": "[encoded data removed]",
      "text/plain": [
       "<Figure size 432x288 with 1 Axes>"
      ]
     },
     "metadata": {},
     "output_type": "display_data"
    }
   ],
   "source": [
    "n=2\n",
    "plt.plot(np.real(seqs[n].omega), np.imag(seqs[n].omega))\n",
    "plt.xlim(0., 1.5)\n",
    "plt.ylim(-1.7,0)\n",
    "plt.gca().invert_yaxis()\n",
    "plt.show()"
   ]
  },
  {
   "cell_type": "code",
   "execution_count": null,
   "metadata": {},
   "outputs": [],
   "source": []
  }
 ],
 "metadata": {
  "kernelspec": {
   "display_name": "Python 3",
   "language": "python",
   "name": "python3"
  },
  "language_info": {
   "codemirror_mode": {
    "name": "ipython",
    "version": 2
   },
   "file_extension": ".py",
   "mimetype": "text/x-python",
   "name": "python",
   "nbconvert_exporter": "python",
   "pygments_lexer": "ipython2",
   "version": "2.7.15"
  }
 },
 "nbformat": 4,
 "nbformat_minor": 2
}
