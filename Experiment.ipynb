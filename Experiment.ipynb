{
 "cells": [
  {
   "cell_type": "code",
   "execution_count": 1,
   "metadata": {},
   "outputs": [],
   "source": [
    "import radial\n",
    "import angular"
   ]
  },
  {
   "cell_type": "code",
   "execution_count": 1,
   "metadata": {},
   "outputs": [],
   "source": [
    "import numpy as np\n",
    "import matplotlib.pyplot as plt"
   ]
  },
  {
   "cell_type": "markdown",
   "metadata": {},
   "source": [
    "# Exploring values of inversion error function"
   ]
  },
  {
   "cell_type": "code",
   "execution_count": 3,
   "metadata": {},
   "outputs": [
    {
     "data": {
      "text/plain": [
       "(-3.7832264403820357-1.8368923380529323j)"
      ]
     },
     "execution_count": 3,
     "metadata": {},
     "output_type": "execute_result"
    }
   ],
   "source": [
    "radial.Leaver_Cf_trunc_inversion(0.4-0.2j, 0., -2, 2, 4.+0.j, 0, 300, 1.+0.j)"
   ]
  },
  {
   "cell_type": "code",
   "execution_count": 4,
   "metadata": {},
   "outputs": [],
   "source": [
    "Npts=100\n",
    "omegar=np.arange(0.2, .5, .3/Npts)\n",
    "omegai=np.arange(-0.2, -0., .2/Npts)\n",
    "Or, Oi = np.meshgrid(omegar, omegai)\n",
    "Os = Or + 1.j*Oi"
   ]
  },
  {
   "cell_type": "code",
   "execution_count": 5,
   "metadata": {
    "scrolled": true
   },
   "outputs": [],
   "source": [
    "leav1 = lambda omega: radial.Leaver_Cf_trunc_inversion(omega, 0., -2, 2, 4.+0.j, 0, 300, 0.j)\n",
    "leavf = np.vectorize(leav1)\n",
    "Leavers = np.abs(leavf(Os))"
   ]
  },
  {
   "cell_type": "code",
   "execution_count": 6,
   "metadata": {},
   "outputs": [
    {
     "data": {
      "image/png": "[encoded data removed]",
      "text/plain": [
       "<Figure size 432x288 with 2 Axes>"
      ]
     },
     "metadata": {},
     "output_type": "display_data"
    }
   ],
   "source": [
    "CS = plt.contourf(Or, Oi, np.exp(-Leavers))\n",
    "plt.colorbar(CS)\n",
    "plt.show()"
   ]
  },
  {
   "cell_type": "code",
   "execution_count": 7,
   "metadata": {},
   "outputs": [
    {
     "data": {
      "text/plain": [
       "(3.7252106530184745+0j)"
      ]
     },
     "execution_count": 7,
     "metadata": {},
     "output_type": "execute_result"
    }
   ],
   "source": [
    "angular.sep_const_closest(4., -2, 0.1, 2, 20)"
   ]
  },
  {
   "cell_type": "code",
   "execution_count": 8,
   "metadata": {},
   "outputs": [],
   "source": [
    "Npts=100\n",
    "omegar=np.arange(0.35, .45, .1/Npts)\n",
    "omegai=np.arange(-0.15, -0., .15/Npts)\n",
    "Or, Oi = np.meshgrid(omegar, omegai)\n",
    "Os = Or + 1.j*Oi"
   ]
  },
  {
   "cell_type": "code",
   "execution_count": 9,
   "metadata": {},
   "outputs": [],
   "source": [
    "a = 0.2\n",
    "s = -2\n",
    "m = 2\n",
    "\n",
    "n_inv = 2\n",
    "Nr = 300\n",
    "r_N = 0.\n",
    "l_max = 20\n",
    "\n",
    "leav1 = lambda omega: radial.Leaver_Cf_trunc_inversion(omega, a, s, m, \n",
    "                                                       angular.sep_const_closest(4., s, a*omega, m, l_max),\n",
    "                                                       n_inv, Nr, r_N)\n",
    "leavf = np.vectorize(leav1)\n",
    "Leavers = np.abs(leavf(Os))"
   ]
  },
  {
   "cell_type": "code",
   "execution_count": 10,
   "metadata": {},
   "outputs": [
    {
     "data": {
      "image/png": "[encoded data removed]",
      "text/plain": [
       "<Figure size 432x288 with 2 Axes>"
      ]
     },
     "metadata": {},
     "output_type": "display_data"
    }
   ],
   "source": [
    "CS = plt.contourf(Or, Oi, np.exp(-Leavers))\n",
    "plt.colorbar(CS)\n",
    "plt.show()"
   ]
  },
  {
   "cell_type": "code",
   "execution_count": 11,
   "metadata": {},
   "outputs": [],
   "source": [
    "from scipy import optimize"
   ]
  },
  {
   "cell_type": "code",
   "execution_count": 12,
   "metadata": {
    "scrolled": false
   },
   "outputs": [
    {
     "name": "stdout",
     "output_type": "stream",
     "text": [
      "    fjac: array([[-0.58055883, -0.81421831],\n",
      "       [ 0.81421831, -0.58055883]])\n",
      "     fun: array([ 1.33226763e-14, -1.33226763e-14])\n",
      " message: 'The solution converged.'\n",
      "    nfev: 19\n",
      "     qtf: array([-1.57221040e-12, -7.31598543e-13])\n",
      "       r: array([-37.7375798 , -11.24345049,  -6.74371103])\n",
      "  status: 1\n",
      " success: True\n",
      "       x: array([ 0.34833034, -0.8319382 ])\n",
      "(0.34833033663025764-0.8319382006483369j)\n"
     ]
    }
   ],
   "source": [
    "a = 0.5\n",
    "s = -2\n",
    "m = 2\n",
    "\n",
    "n_inv = 3\n",
    "Nr = 300\n",
    "r_N = 0.\n",
    "l_max = 20\n",
    "\n",
    "A0 = 4.\n",
    "omega_guess = 1.-1.j\n",
    "\n",
    "def leavA(x):\n",
    "    omega = x[0] + 1.j*x[1]\n",
    "    A = angular.sep_const_closest(A0, s, a*omega, m, l_max)\n",
    "    Leav_err = radial.Leaver_Cf_trunc_inversion(omega, a, s, m, A, n_inv, Nr, r_N)\n",
    "    return [np.real(Leav_err), np.imag(Leav_err)]\n",
    "\n",
    "sol = optimize.root(leavA, [np.real(omega_guess), np.imag(omega_guess)], tol=1e-10)\n",
    "print(sol)\n",
    "omega_sol = sol.x[0] + 1.j*sol.x[1]\n",
    "print(omega_sol)"
   ]
  },
  {
   "cell_type": "code",
   "execution_count": 13,
   "metadata": {},
   "outputs": [
    {
     "data": {
      "text/plain": [
       "array([  3.65472734+1.22498937j,   9.82054178+0.6074719j ,\n",
       "        17.90847623+0.38296443j,  27.95862701+0.27548481j,\n",
       "        39.98916164+0.215713j  ,  54.00893186+0.17902532j,\n",
       "        70.02240192+0.15487222j,  88.03196779+0.13811716j,\n",
       "       108.03899516+0.12601303j, 130.04430444+0.11698107j,\n",
       "       154.04841106+0.11006087j, 180.05165144+0.10464061j,\n",
       "       208.05425245+0.10031534j, 238.05637147+0.09680831j,\n",
       "       270.05812039+0.09392509j, 304.05958047+0.09152584j,\n",
       "       340.06081191+0.08950783j, 418.04932771+0.07278469j,\n",
       "       378.0618591 +0.08785411j])"
      ]
     },
     "execution_count": 13,
     "metadata": {},
     "output_type": "execute_result"
    }
   ],
   "source": [
    "angular.sep_consts(s, a*omega_sol, m, l_max)"
   ]
  },
  {
   "cell_type": "code",
   "execution_count": 14,
   "metadata": {
    "scrolled": true
   },
   "outputs": [
    {
     "data": {
      "text/plain": [
       "array([  4.+0.j,  10.+0.j,  18.+0.j,  28.+0.j,  40.+0.j,  54.+0.j,\n",
       "        70.+0.j,  88.+0.j, 108.+0.j, 130.+0.j, 154.+0.j, 180.+0.j,\n",
       "       208.+0.j, 238.+0.j, 270.+0.j, 304.+0.j, 340.+0.j, 378.+0.j,\n",
       "       418.+0.j])"
      ]
     },
     "execution_count": 14,
     "metadata": {},
     "output_type": "execute_result"
    }
   ],
   "source": [
    "angular.sep_consts(s, 0., 2, 20)"
   ]
  },
  {
   "cell_type": "markdown",
   "metadata": {},
   "source": [
    "# Testing the nearby_root_finder class"
   ]
  },
  {
   "cell_type": "code",
   "execution_count": 2,
   "metadata": {},
   "outputs": [],
   "source": [
    "import QNM_root_finder"
   ]
  },
  {
   "cell_type": "code",
   "execution_count": 3,
   "metadata": {},
   "outputs": [],
   "source": [
    "tol = 1e-10\n",
    "a = 0.5\n",
    "s = -2\n",
    "m = 2\n",
    "\n",
    "n_inv = 3\n",
    "Nr = 300\n",
    "r_N = 0.\n",
    "l_max = 20\n",
    "\n",
    "A0 = 4.\n",
    "omega_guess = 1.-1.j"
   ]
  },
  {
   "cell_type": "code",
   "execution_count": 4,
   "metadata": {},
   "outputs": [],
   "source": [
    "finder = QNM_root_finder.nearby_root_finder(a=a, s=s, m=m, A_closest_to=A0,\n",
    "                                            l_max=l_max, omega_guess=omega_guess,\n",
    "                                            tol=tol, n_inv=n_inv, Nr=Nr, r_N=r_N)"
   ]
  },
  {
   "cell_type": "code",
   "execution_count": 5,
   "metadata": {},
   "outputs": [
    {
     "data": {
      "text/plain": [
       "(0.3483303366364627-0.8319382005769503j)"
      ]
     },
     "execution_count": 5,
     "metadata": {},
     "output_type": "execute_result"
    }
   ],
   "source": [
    "finder.do_solve()"
   ]
  },
  {
   "cell_type": "code",
   "execution_count": 6,
   "metadata": {},
   "outputs": [
    {
     "name": "stdout",
     "output_type": "stream",
     "text": [
      "(-0.18955722077138332-0.9633880334067098j)\n",
      "(6.819921724576794e-08-9.111526855232199e-08j)\n",
      "1.1381179814192027e-07\n"
     ]
    }
   ],
   "source": [
    "finder.set_params(a=0.1)\n",
    "finder.set_params(Nr=300)\n",
    "o1 = finder.do_solve()\n",
    "finder.set_params(Nr=301)\n",
    "o2 = finder.do_solve()\n",
    "print(o1)\n",
    "print(o1-o2)\n",
    "print(np.abs(o1-o2))"
   ]
  },
  {
   "cell_type": "code",
   "execution_count": 7,
   "metadata": {},
   "outputs": [
    {
     "name": "stdout",
     "output_type": "stream",
     "text": [
      "(0.24695762233292828-1.1067118774808864j)\n",
      "(-1.7486012637846216e-15-8.881784197001252e-16j)\n",
      "1.9612412612756718e-15\n"
     ]
    }
   ],
   "source": [
    "finder.set_params(a=0.3)\n",
    "finder.set_params(l_max=20)\n",
    "o1 = finder.do_solve()\n",
    "finder.set_params(l_max=21)\n",
    "o2 = finder.do_solve()\n",
    "print(o1)\n",
    "print(o1-o2)\n",
    "print(np.abs(o1-o2))"
   ]
  },
  {
   "cell_type": "markdown",
   "metadata": {},
   "source": [
    "# Testing the QNM_seq_root_finder class"
   ]
  },
  {
   "cell_type": "code",
   "execution_count": 29,
   "metadata": {},
   "outputs": [],
   "source": [
    "ns=np.arange(0,7)"
   ]
  },
  {
   "cell_type": "code",
   "execution_count": 30,
   "metadata": {},
   "outputs": [
    {
     "data": {
      "text/plain": [
       "array([0, 1, 2, 3, 4, 5, 6])"
      ]
     },
     "execution_count": 30,
     "metadata": {},
     "output_type": "execute_result"
    }
   ],
   "source": [
    "ns"
   ]
  },
  {
   "cell_type": "code",
   "execution_count": 31,
   "metadata": {},
   "outputs": [],
   "source": [
    "seqs = [None] * len(ns)\n",
    "for n in ns:\n",
    "    seqs[n] = QNM_root_finder.QNM_seq_root_finder(n_inv=n, a_max=0.99)\n",
    "    seqs[n].do_find_sequence()"
   ]
  },
  {
   "cell_type": "code",
   "execution_count": 40,
   "metadata": {},
   "outputs": [
    {
     "data": {
      "image/png": "[encoded data removed]",
      "text/plain": [
       "<Figure size 432x288 with 1 Axes>"
      ]
     },
     "metadata": {},
     "output_type": "display_data"
    }
   ],
   "source": [
    "for n in ns:\n",
    "    plt.plot(np.real(seqs[n].omega), np.imag(seqs[n].omega))\n",
    "plt.xlim(0., 1.)\n",
    "plt.ylim(-1.7,0)\n",
    "plt.gca().invert_yaxis()\n",
    "plt.show()"
   ]
  },
  {
   "cell_type": "code",
   "execution_count": 39,
   "metadata": {},
   "outputs": [
    {
     "data": {
      "image/png": "[encoded data removed]",
      "text/plain": [
       "<Figure size 432x288 with 1 Axes>"
      ]
     },
     "metadata": {},
     "output_type": "display_data"
    }
   ],
   "source": [
    "for n in ns:\n",
    "    plt.plot(np.real(seqs[n].A), np.imag(seqs[n].A))\n",
    "plt.show()"
   ]
  },
  {
   "cell_type": "code",
   "execution_count": 41,
   "metadata": {
    "scrolled": true
   },
   "outputs": [
    {
     "data": {
      "image/png": "[encoded data removed]",
      "text/plain": [
       "<Figure size 432x288 with 1 Axes>"
      ]
     },
     "metadata": {},
     "output_type": "display_data"
    }
   ],
   "source": [
    "n=2\n",
    "plt.plot(np.real(seqs[n].omega), np.imag(seqs[n].omega))\n",
    "plt.xlim(0., 1.)\n",
    "plt.ylim(-1.7,0)\n",
    "plt.gca().invert_yaxis()\n",
    "plt.show()"
   ]
  },
  {
   "cell_type": "code",
   "execution_count": 36,
   "metadata": {},
   "outputs": [
    {
     "data": {
      "text/plain": [
       "array([-1.18682841e-13-2.36144437e-13j,  5.87307980e-14-5.37347944e-14j,\n",
       "        5.06261699e-14-5.52891066e-14j,  4.02455846e-14-5.65103520e-14j,\n",
       "        3.07531778e-14-5.70654635e-14j,  1.93178806e-14-5.65103520e-14j,\n",
       "        7.93809463e-15-5.50670620e-14j, -4.66293670e-15-5.25135491e-14j,\n",
       "       -1.76525461e-14-4.90718577e-14j, -3.20854454e-14-4.40758541e-14j,\n",
       "       -4.82947016e-14-3.76365605e-14j, -6.55586696e-14-2.98649994e-14j,\n",
       "       -8.40993941e-14-2.04281037e-14j, -1.05582210e-13-9.10382880e-15j,\n",
       "       -1.28119737e-13+4.32986980e-15j, -1.55708779e-13+1.89848137e-14j,\n",
       "       -1.84796622e-13+3.63042929e-14j, -2.18491891e-13+5.48450174e-14j,\n",
       "       -2.59570143e-13+7.49400542e-14j, -3.04423153e-13+9.57012247e-14j,\n",
       "       -3.57436303e-13+1.16462395e-13j, -4.19719814e-13+1.36002321e-13j,\n",
       "       -4.91662266e-13+1.52211577e-13j, -5.78981307e-13+1.63424829e-13j,\n",
       "       -6.80844270e-13+1.65756298e-13j, -8.05189249e-13+1.53543844e-13j,\n",
       "       -9.53903623e-13+1.21902488e-13j, -1.13259402e-12+6.15063556e-14j,\n",
       "        1.13520304e-13+2.13529194e-12j,  1.44495527e-13+2.50721666e-12j,\n",
       "        1.75304216e-13+2.93287616e-12j,  2.05890860e-13+3.41848772e-12j,\n",
       "        2.31648034e-13+3.96804811e-12j, -3.88578059e-16+2.22044605e-16j,\n",
       "        3.33066907e-16+8.88178420e-16j, -1.66533454e-16+6.66133815e-16j,\n",
       "        4.44089210e-16+8.88178420e-16j, -1.66533454e-16+1.11022302e-15j,\n",
       "        6.66133815e-16+1.44328993e-15j,  4.44089210e-16+1.99840144e-15j,\n",
       "        6.10622664e-16+1.66533454e-15j,  1.05471187e-15+2.33146835e-15j,\n",
       "        8.88178420e-16+2.99760217e-15j,  1.11022302e-15+2.66453526e-15j,\n",
       "        1.27675648e-15+3.21964677e-15j,  2.77555756e-16+2.77555756e-15j,\n",
       "        3.33066907e-16+2.22044605e-15j,  8.88178420e-16+7.77156117e-16j,\n",
       "       -1.33226763e-15-2.55351296e-15j, -1.99840144e-15-7.43849426e-15j,\n",
       "       -1.55431223e-15-1.52100554e-14j, -4.82947016e-15-2.80886425e-14j,\n",
       "       -6.82787160e-15-4.76285678e-14j, -1.10467191e-14-7.80486786e-14j,\n",
       "       -1.32671651e-14-1.22790667e-13j, -1.69864123e-14-1.90070182e-13j,\n",
       "       -1.98729921e-14-2.90212299e-13j, -2.31481501e-14-4.38427072e-13j,\n",
       "       -1.91513472e-14-6.58806343e-13j, -1.07691633e-14-9.86544180e-13j,\n",
       "        1.38222767e-14-1.47692969e-12j,  6.37268016e-14-2.21600516e-12j,\n",
       "        1.60538249e-13-3.34032801e-12j,  1.55986335e-14-1.18793864e-14j,\n",
       "        2.70339306e-14-2.03170814e-14j,  4.77395901e-14-3.31956684e-14j,\n",
       "        8.65418848e-14-5.26245714e-14j,  1.54098956e-13-8.48210391e-14j,\n",
       "        3.77475828e-15-2.20934382e-14j,  9.82547377e-15-5.17363929e-14j,\n",
       "        2.35367281e-14-1.22901689e-13j,  6.51700915e-14-3.05200309e-13j,\n",
       "        1.82576176e-13-7.94586619e-13j,  5.33961764e-13-2.18680629e-12j,\n",
       "        1.66205938e-12-6.38600284e-12j,  5.50826051e-12-1.98357997e-11j,\n",
       "       -5.59552404e-14+3.46944695e-13j, -3.13526982e-13+1.30628841e-12j,\n",
       "       -1.05937481e-12+3.68738373e-12j,  5.18141086e-13+3.33399974e-13j,\n",
       "        8.90731933e-13+1.64157576e-12j, -5.28321831e-12+1.75803816e-11j,\n",
       "        8.98714436e-12+2.51143550e-12j, -2.35403919e-11+6.24407193e-11j,\n",
       "        4.95942176e-11+2.80895307e-11j, -2.13837392e-10+1.29162347e-10j,\n",
       "       -7.28672678e-12-5.89006621e-12j, -2.34908759e-11-2.29221642e-11j,\n",
       "       -6.71032119e-11-6.74373335e-11j, -2.57827093e-12-1.19754207e-12j,\n",
       "       -1.38743350e-10+4.77029527e-12j,  1.54676162e-02+1.36074395e-01j,\n",
       "        1.28033098e-02+1.31026004e-01j,  1.03611611e-02+1.25215763e-01j,\n",
       "        8.14637423e-03+1.18581077e-01j,  6.15640570e-03+1.10973956e-01j,\n",
       "        4.39255002e-03+1.02115083e-01j,  3.25712967e-03+9.30203158e-02j,\n",
       "        1.83834413e-03+7.97595053e-02j])"
      ]
     },
     "execution_count": 36,
     "metadata": {},
     "output_type": "execute_result"
    }
   ],
   "source": [
    "np.array(seqs[4].omega)-np.array(seqs[5].omega)"
   ]
  },
  {
   "cell_type": "code",
   "execution_count": null,
   "metadata": {},
   "outputs": [],
   "source": []
  }
 ],
 "metadata": {
  "kernelspec": {
   "display_name": "Python 3",
   "language": "python",
   "name": "python3"
  },
  "language_info": {
   "codemirror_mode": {
    "name": "ipython",
    "version": 2
   },
   "file_extension": ".py",
   "mimetype": "text/x-python",
   "name": "python",
   "nbconvert_exporter": "python",
   "pygments_lexer": "ipython2",
   "version": "2.7.15"
  }
 },
 "nbformat": 4,
 "nbformat_minor": 2
}
