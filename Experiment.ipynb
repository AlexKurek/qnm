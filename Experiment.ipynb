{
 "cells": [
  {
   "cell_type": "code",
   "execution_count": 3,
   "metadata": {},
   "outputs": [],
   "source": [
    "import logging\n",
    "rl = logging.getLogger()\n",
    "rl.setLevel(logging.INFO)"
   ]
  },
  {
   "cell_type": "code",
   "execution_count": 4,
   "metadata": {},
   "outputs": [],
   "source": [
    "import radial\n",
    "import angular\n",
    "import nearby_root_finder"
   ]
  },
  {
   "cell_type": "code",
   "execution_count": 5,
   "metadata": {},
   "outputs": [],
   "source": [
    "import numpy as np\n",
    "import matplotlib as mpl\n",
    "import matplotlib.pyplot as plt\n",
    "mpl.rc('text', usetex = True)"
   ]
  },
  {
   "cell_type": "markdown",
   "metadata": {},
   "source": [
    "# Exploring values of inversion error function"
   ]
  },
  {
   "cell_type": "code",
   "execution_count": 3,
   "metadata": {},
   "outputs": [
    {
     "data": {
      "text/plain": [
       "(-3.7832264403820357-1.8368923380529323j)"
      ]
     },
     "execution_count": 3,
     "metadata": {},
     "output_type": "execute_result"
    }
   ],
   "source": [
    "radial.Leaver_Cf_trunc_inversion(0.4-0.2j, 0., -2, 2, 4.+0.j, 0, 300, 1.+0.j)"
   ]
  },
  {
   "cell_type": "code",
   "execution_count": 4,
   "metadata": {},
   "outputs": [],
   "source": [
    "Npts=100\n",
    "omegar=np.arange(0.2, .5, .3/Npts)\n",
    "omegai=np.arange(-0.2, -0., .2/Npts)\n",
    "Or, Oi = np.meshgrid(omegar, omegai)\n",
    "Os = Or + 1.j*Oi"
   ]
  },
  {
   "cell_type": "code",
   "execution_count": 5,
   "metadata": {
    "scrolled": true
   },
   "outputs": [],
   "source": [
    "leav1 = lambda omega: radial.Leaver_Cf_trunc_inversion(omega, 0., -2, 2, 4.+0.j, 0, 300, 0.j)\n",
    "leavf = np.vectorize(leav1)\n",
    "Leavers = leavf(Os)"
   ]
  },
  {
   "cell_type": "code",
   "execution_count": 16,
   "metadata": {
    "scrolled": false
   },
   "outputs": [],
   "source": [
    "def leav1(omega): \n",
    "    inv_err, cf_err, its = radial.Leaver_Cf_inv_Lentz(omega, 0., -2, 2, 4.+0.j, 0)\n",
    "    # logging.info(\"Lentz terminated with cf_err={}, its={}\".format(cf_err, its))\n",
    "    return inv_err\n",
    "leavf = np.vectorize(leav1)\n",
    "Leavers = leavf(Os)"
   ]
  },
  {
   "cell_type": "code",
   "execution_count": 8,
   "metadata": {},
   "outputs": [
    {
     "data": {
      "image/png": "[encoded data removed]",
      "text/plain": [
       "<Figure size 432x288 with 2 Axes>"
      ]
     },
     "metadata": {},
     "output_type": "display_data"
    }
   ],
   "source": [
    "CS = plt.contourf(Or, Oi, 1/np.abs(Leavers))\n",
    "plt.colorbar(CS)\n",
    "plt.show()"
   ]
  },
  {
   "cell_type": "code",
   "execution_count": 9,
   "metadata": {},
   "outputs": [
    {
     "data": {
      "text/plain": [
       "(3.7259203780062347+0j)"
      ]
     },
     "execution_count": 9,
     "metadata": {},
     "output_type": "execute_result"
    }
   ],
   "source": [
    "angular.sep_const_closest(4., -2, 0.1, 2, 20)"
   ]
  },
  {
   "cell_type": "code",
   "execution_count": 10,
   "metadata": {},
   "outputs": [],
   "source": [
    "Npts=120\n",
    "orrange=[0., .4]\n",
    "oirange=[-2.3,-0.75]\n",
    "omegar=np.arange(orrange[0], orrange[1], (orrange[1]-orrange[0])/Npts)\n",
    "omegai=np.arange(oirange[0], oirange[1], (oirange[1]-oirange[0])/Npts)\n",
    "Or, Oi = np.meshgrid(omegar, omegai)\n",
    "Os = Or + 1.j*Oi"
   ]
  },
  {
   "cell_type": "code",
   "execution_count": 14,
   "metadata": {},
   "outputs": [],
   "source": [
    "a = 0.0\n",
    "s = -2\n",
    "m = 2\n",
    "l = 2\n",
    "\n",
    "n_inv = 6\n",
    "Nr = 300\n",
    "r_N = 0.\n",
    "l_max = 20\n",
    "\n",
    "def leav1(omega):\n",
    "    inv_err, _, _ = radial.Leaver_Cf_inv_Lentz(omega, a, s, m,\n",
    "                                               angular.sep_const_closest(angular.SWSphericalH_A(s,l,m),\n",
    "                                                                                 s, a*omega, m, l_max),\n",
    "                                               n_inv, N_max=400)\n",
    "    return inv_err\n",
    "\n",
    "leavf = np.vectorize(leav1)\n",
    "Leavers = leavf(Os)"
   ]
  },
  {
   "cell_type": "code",
   "execution_count": 23,
   "metadata": {},
   "outputs": [
    {
     "data": {
      "text/plain": [
       "(2.5757174171303632e-14+5.519868356850301e-29j)"
      ]
     },
     "execution_count": 23,
     "metadata": {},
     "output_type": "execute_result"
    }
   ],
   "source": [
    "leav1(-2.j+1.e-30)"
   ]
  },
  {
   "cell_type": "code",
   "execution_count": 24,
   "metadata": {
    "scrolled": false
   },
   "outputs": [
    {
     "data": {
      "image/png": "[encoded data removed]",
      "text/plain": [
       "<Figure size 720x720 with 2 Axes>"
      ]
     },
     "metadata": {},
     "output_type": "display_data"
    }
   ],
   "source": [
    "plt.figure(figsize=(10,10))\n",
    "CS = plt.contourf(Or, Oi, np.exp(-np.abs(Leavers)))\n",
    "plt.gca().invert_yaxis()\n",
    "plt.gca().set_aspect('equal')\n",
    "plt.colorbar(CS)\n",
    "plt.savefig(\"test.png\", bbox_inches=\"tight\", dpi=300)\n",
    "plt.show()"
   ]
  },
  {
   "cell_type": "code",
   "execution_count": 16,
   "metadata": {
    "scrolled": false
   },
   "outputs": [
    {
     "data": {
      "image/png": "[encoded data removed]",
      "text/plain": [
       "<Figure size 720x720 with 2 Axes>"
      ]
     },
     "metadata": {},
     "output_type": "display_data"
    }
   ],
   "source": [
    "plt.figure(figsize=(10,10))\n",
    "CS = plt.contourf(Or, Oi, np.angle(Leavers))\n",
    "plt.gca().invert_yaxis()\n",
    "plt.gca().set_aspect('equal')\n",
    "plt.colorbar(CS)\n",
    "plt.show()"
   ]
  },
  {
   "cell_type": "code",
   "execution_count": 12,
   "metadata": {},
   "outputs": [],
   "source": [
    "from scipy import optimize"
   ]
  },
  {
   "cell_type": "code",
   "execution_count": 13,
   "metadata": {
    "scrolled": false
   },
   "outputs": [
    {
     "name": "stdout",
     "output_type": "stream",
     "text": [
      "    fjac: array([[-0.57359808, -0.81913689],\n",
      "       [ 0.81913689, -0.57359808]])\n",
      "     fun: array([-1.33226763e-14, -2.08721929e-14])\n",
      " message: 'The solution converged.'\n",
      "    nfev: 19\n",
      "     qtf: array([-1.81513595e-12, -8.49256196e-13])\n",
      "       r: array([-37.83289639, -11.46901807,  -6.65014296])\n",
      "  status: 1\n",
      " success: True\n",
      "       x: array([ 0.34774125, -0.83259476])\n",
      "(0.3477412539359394-0.8325947550362678j)\n"
     ]
    }
   ],
   "source": [
    "a = 0.5\n",
    "s = -2\n",
    "m = 2\n",
    "\n",
    "n_inv = 3\n",
    "Nr = 300\n",
    "r_N = 0.\n",
    "l_max = 20\n",
    "\n",
    "A0 = 4.\n",
    "omega_guess = 1.-1.j\n",
    "\n",
    "def leavA(x):\n",
    "    omega = x[0] + 1.j*x[1]\n",
    "    A = angular.sep_const_closest(A0, s, a*omega, m, l_max)\n",
    "    Leav_err = radial.Leaver_Cf_trunc_inversion(omega, a, s, m, A, n_inv, Nr, r_N)\n",
    "    return [np.real(Leav_err), np.imag(Leav_err)]\n",
    "\n",
    "sol = optimize.root(leavA, [np.real(omega_guess), np.imag(omega_guess)], tol=1e-10)\n",
    "print(sol)\n",
    "omega_sol = sol.x[0] + 1.j*sol.x[1]\n",
    "print(omega_sol)"
   ]
  },
  {
   "cell_type": "code",
   "execution_count": 14,
   "metadata": {},
   "outputs": [
    {
     "data": {
      "text/plain": [
       "array([  3.64660074+1.21471602j,   9.82630392+0.6137243j ,\n",
       "        17.91099677+0.38582177j,  27.95981518+0.27679539j,\n",
       "        39.98983299+0.21636142j,  54.00938032+0.17936711j,\n",
       "        70.0227435 +0.15505889j,  88.0322533 +0.13821883j,\n",
       "       108.03924895+0.12606481j, 130.04453913+0.11700177j,\n",
       "       154.04863361+0.11006122j, 180.05186591+0.10462704j,\n",
       "       208.05446134+0.10029188j, 238.05657636+0.09677759j,\n",
       "       270.05832233+0.0938889j , 304.05978018+0.09148542j,\n",
       "       340.06100989+0.08946407j, 418.04949541+0.07276048j,\n",
       "       378.06205594+0.08780761j])"
      ]
     },
     "execution_count": 14,
     "metadata": {},
     "output_type": "execute_result"
    }
   ],
   "source": [
    "angular.sep_consts(s, a*omega_sol, m, l_max)"
   ]
  },
  {
   "cell_type": "code",
   "execution_count": 15,
   "metadata": {
    "scrolled": true
   },
   "outputs": [
    {
     "data": {
      "text/plain": [
       "array([  4.+0.j,  10.+0.j,  18.+0.j,  28.+0.j,  40.+0.j,  54.+0.j,\n",
       "        70.+0.j,  88.+0.j, 108.+0.j, 130.+0.j, 154.+0.j, 180.+0.j,\n",
       "       208.+0.j, 238.+0.j, 270.+0.j, 304.+0.j, 340.+0.j, 378.+0.j,\n",
       "       418.+0.j])"
      ]
     },
     "execution_count": 15,
     "metadata": {},
     "output_type": "execute_result"
    }
   ],
   "source": [
    "angular.sep_consts(s, 0., 2, 20)"
   ]
  },
  {
   "cell_type": "markdown",
   "metadata": {},
   "source": [
    "# Testing the nearby_root_finder class"
   ]
  },
  {
   "cell_type": "code",
   "execution_count": 4,
   "metadata": {},
   "outputs": [],
   "source": [
    "from nearby_root_finder import nearby_root_finder"
   ]
  },
  {
   "cell_type": "code",
   "execution_count": 5,
   "metadata": {},
   "outputs": [],
   "source": [
    "tol = 1e-10\n",
    "a = 0.5\n",
    "s = -2\n",
    "m = 2\n",
    "\n",
    "n_inv = 3\n",
    "Nr = 300\n",
    "r_N = 0.\n",
    "l_max = 20\n",
    "\n",
    "A0 = 4.\n",
    "omega_guess = 1.-1.j"
   ]
  },
  {
   "cell_type": "code",
   "execution_count": 6,
   "metadata": {},
   "outputs": [],
   "source": [
    "finder = nearby_root_finder(a=a, s=s, m=m, A_closest_to=A0,\n",
    "                            l_max=l_max, omega_guess=omega_guess,\n",
    "                            tol=tol, n_inv=n_inv, Nr=Nr, r_N=r_N)"
   ]
  },
  {
   "cell_type": "code",
   "execution_count": 7,
   "metadata": {},
   "outputs": [
    {
     "data": {
      "text/plain": [
       "(0.34774125399689443-0.8325947549910427j)"
      ]
     },
     "execution_count": 7,
     "metadata": {},
     "output_type": "execute_result"
    }
   ],
   "source": [
    "finder.do_solve()"
   ]
  },
  {
   "cell_type": "code",
   "execution_count": 9,
   "metadata": {
    "scrolled": true
   },
   "outputs": [
    {
     "name": "stdout",
     "output_type": "stream",
     "text": [
      "(-0.18951803565247327-0.9634120162791132j)\n",
      "0j\n",
      "0.0\n"
     ]
    }
   ],
   "source": [
    "finder.set_params(a=0.1)\n",
    "finder.set_params(Nr=300)\n",
    "o1 = finder.do_solve()\n",
    "finder.set_params(Nr=301)\n",
    "o2 = finder.do_solve()\n",
    "print(o1)\n",
    "print(o1-o2)\n",
    "print(np.abs(o1-o2))"
   ]
  },
  {
   "cell_type": "code",
   "execution_count": 10,
   "metadata": {},
   "outputs": [
    {
     "name": "stdout",
     "output_type": "stream",
     "text": [
      "(0.2464572165794458-1.1069149779629603j)\n",
      "(1.970645868709653e-15+4.440892098500626e-15j)\n",
      "4.858494393367941e-15\n"
     ]
    }
   ],
   "source": [
    "finder.set_params(a=0.3)\n",
    "finder.set_params(l_max=20)\n",
    "o1 = finder.do_solve()\n",
    "finder.set_params(l_max=21)\n",
    "o2 = finder.do_solve()\n",
    "print(o1)\n",
    "print(o1-o2)\n",
    "print(np.abs(o1-o2))"
   ]
  },
  {
   "cell_type": "markdown",
   "metadata": {},
   "source": [
    "# Testing the Kerr_a_seq_finder class"
   ]
  },
  {
   "cell_type": "code",
   "execution_count": 1,
   "metadata": {},
   "outputs": [],
   "source": [
    "from Kerr_a_seq_finder import Kerr_a_seq_finder"
   ]
  },
  {
   "cell_type": "code",
   "execution_count": 8,
   "metadata": {
    "scrolled": true
   },
   "outputs": [
    {
     "name": "stderr",
     "output_type": "stream",
     "text": [
      "INFO:root:n=0, l=2, started from guess omega=(0.373671684418-0.0889623156889j), found omega=(0.373671684418-0.0889623156889j)\n",
      "INFO:root:n=1, l=2, started from guess omega=(0.346710996879-0.273914875291j), found omega=(0.346710996879-0.273914875291j)\n",
      "INFO:root:n=2, l=2, started from guess omega=(0.301053454613-0.478276983221j), found omega=(0.301053454613-0.478276983223j)\n",
      "INFO:root:n=3, l=2, started from guess omega=(0.251504962226-0.705148202442j), found omega=(0.251504962226-0.705148202442j)\n",
      "INFO:root:n=4, l=2, started from guess omega=(0.20751457983-0.946844890905j), found omega=(0.207514579829-0.946844890907j)\n",
      "INFO:root:n=5, l=2, started from guess omega=(0.16929940307-1.19560805409j), found omega=(0.16929940307-1.19560805409j)\n",
      "INFO:root:n=6, l=2, started from guess omega=(0.133252340199-1.44791062621j), found omega=(0.133252340199-1.44791062621j)\n",
      "INFO:root:n=7, l=2, started from guess omega=(0.0928223337522-1.70384117213j), found omega=(0.0928223524393-1.70384117686j)\n"
     ]
    }
   ],
   "source": [
    "a_max = .998\n",
    "tol=1e-10\n",
    "\n",
    "ns=np.arange(0,8)\n",
    "s=-2\n",
    "ls=np.arange(2,3)\n",
    "m=0\n",
    "seqs = {}\n",
    "for n in ns:\n",
    "    for l in ls:\n",
    "        seqs[(l,n)] = Kerr_a_seq_finder(n=n, a_max=a_max, delta_a=3e-3, s=s, l=l, m=m)\n",
    "        seqs[(l,n)].do_find_sequence()"
   ]
  },
  {
   "cell_type": "code",
   "execution_count": 65,
   "metadata": {},
   "outputs": [
    {
     "data": {
      "image/png": "[encoded data removed]",
      "text/plain": [
       "<Figure size 432x288 with 1 Axes>"
      ]
     },
     "metadata": {},
     "output_type": "display_data"
    }
   ],
   "source": [
    "plt.plot(1.e-17+np.array(seqs[(2,7)].iters))\n",
    "plt.show()"
   ]
  },
  {
   "cell_type": "code",
   "execution_count": 78,
   "metadata": {
    "scrolled": false
   },
   "outputs": [
    {
     "data": {
      "image/png": "[encoded data removed]",
      "text/plain": [
       "<Figure size 432x288 with 1 Axes>"
      ]
     },
     "metadata": {},
     "output_type": "display_data"
    }
   ],
   "source": [
    "plt.plot(1.e-17+np.array(seqs[(4,0)].cf_err))\n",
    "plt.gca().set_yscale('log')\n",
    "plt.show()"
   ]
  },
  {
   "cell_type": "code",
   "execution_count": 79,
   "metadata": {},
   "outputs": [
    {
     "data": {
      "image/png": "[encoded data removed]",
      "text/plain": [
       "<Figure size 432x288 with 1 Axes>"
      ]
     },
     "metadata": {},
     "output_type": "display_data"
    }
   ],
   "source": [
    "plt.hist(np.log10(1.e-16 + np.array(seqs[(2,2)].cf_err)))\n",
    "plt.show()"
   ]
  },
  {
   "cell_type": "code",
   "execution_count": 80,
   "metadata": {
    "scrolled": false
   },
   "outputs": [
    {
     "data": {
      "image/png": "[encoded data removed]",
      "text/plain": [
       "<Figure size 576x576 with 1 Axes>"
      ]
     },
     "metadata": {},
     "output_type": "display_data"
    }
   ],
   "source": [
    "plt.figure(figsize=(8,8))\n",
    "\n",
    "for (l,n), seq in seqs.iteritems():\n",
    "    plt.plot(np.real(seq.omega), np.imag(seq.omega))\n",
    "#plt.xlim(-1.5, 1.5)\n",
    "#plt.ylim(-1.7,0.)\n",
    "\n",
    "plt.gca().invert_yaxis()\n",
    "plt.gca().tick_params(labelsize=16)\n",
    "plt.xlabel(r'$\\textrm{Re}[\\omega_{lm}]$', fontsize=16)\n",
    "plt.ylabel(r'$\\textrm{Im}[\\omega_{lm}]$', fontsize=16)\n",
    "plt.savefig(\"test.png\", bbox_inches=\"tight\", dpi=300)\n",
    "plt.show()"
   ]
  },
  {
   "cell_type": "code",
   "execution_count": 84,
   "metadata": {},
   "outputs": [
    {
     "data": {
      "image/png": "[encoded data removed]",
      "text/plain": [
       "<Figure size 576x576 with 1 Axes>"
      ]
     },
     "metadata": {},
     "output_type": "display_data"
    }
   ],
   "source": [
    "plt.figure(figsize=(8,8))\n",
    "\n",
    "for (l,n), seq in seqs.iteritems():\n",
    "    if (l==2):\n",
    "        plt.plot(np.real(seq.A), np.imag(seq.A))\n",
    "\n",
    "plt.gca().tick_params(labelsize=16)\n",
    "plt.xlabel(r'$\\textrm{Re}[A_{lm}]$', fontsize=16)\n",
    "plt.ylabel(r'$\\textrm{Im}[A_{lm}]$', fontsize=16)\n",
    "# plt.savefig(\"test.png\", bbox_inches=\"tight\", dpi=300)\n",
    "\n",
    "plt.show()"
   ]
  },
  {
   "cell_type": "markdown",
   "metadata": {},
   "source": [
    "# Testing the build_Schw_dict function and auto-generating dict in module"
   ]
  },
  {
   "cell_type": "code",
   "execution_count": 32,
   "metadata": {},
   "outputs": [],
   "source": [
    "import Schw_table"
   ]
  },
  {
   "cell_type": "code",
   "execution_count": 33,
   "metadata": {
    "scrolled": true
   },
   "outputs": [
    {
     "data": {
      "text/plain": [
       "<module 'Schw_table' from 'Schw_table.py'>"
      ]
     },
     "execution_count": 33,
     "metadata": {},
     "output_type": "execute_result"
    }
   ],
   "source": [
    "reload(Schw_table)"
   ]
  },
  {
   "cell_type": "markdown",
   "metadata": {},
   "source": [
    "Note to self. Need to actually use N_max. Inspect what's going on with the # iters below to come up with reasonable values for N_max. Get those iters by modifying build_Schw_dict. Actually change the value of Nr_max in nearby_root_finder instead of using np.Inf"
   ]
  },
  {
   "cell_type": "code",
   "execution_count": 15,
   "metadata": {
    "scrolled": true
   },
   "outputs": [],
   "source": [
    "n_max = 20\n",
    "l_max = 20\n",
    "s_arr = [-2, -1, 0]\n",
    "\n",
    "tol = 1e-10\n",
    "\n",
    "Schw_dict = Schw_table.build_Schw_dict(s_arr=s_arr, n_max=n_max, l_max=l_max, tol=tol)\n"
   ]
  },
  {
   "cell_type": "code",
   "execution_count": 34,
   "metadata": {},
   "outputs": [],
   "source": [
    "from Schw_table import Schw_QNM_dict"
   ]
  },
  {
   "cell_type": "code",
   "execution_count": 19,
   "metadata": {},
   "outputs": [],
   "source": [
    "# my_dict = Schw_dict"
   ]
  },
  {
   "cell_type": "code",
   "execution_count": 35,
   "metadata": {},
   "outputs": [
    {
     "name": "stderr",
     "output_type": "stream",
     "text": [
      "INFO:root:Could not load Schw QNM dict from file, computing\n",
      "INFO:root:s=-2, l=2, found what I think is n=0, omega=(0.373671684418-0.0889623156889j)\n",
      "INFO:root:s=-2, l=2, found what I think is n=1, omega=(0.346710996879-0.273914875291j)\n",
      "INFO:root:s=-2, l=2, found what I think is n=2, omega=(0.301053454613-0.478276983221j)\n",
      "INFO:root:s=-2, l=2, found what I think is n=3, omega=(0.251504962226-0.705148202442j)\n",
      "INFO:root:s=-2, l=2, found what I think is n=4, omega=(0.20751457983-0.946844890905j)\n",
      "INFO:root:s=-2, l=2, found what I think is n=5, omega=(0.16929940307-1.19560805409j)\n",
      "INFO:root:s=-2, l=2, found what I think is n=6, omega=(0.133252340199-1.44791062621j)\n",
      "INFO:root:s=-2, l=2, found what I think is n=7, omega=(0.0928223337522-1.70384117213j)\n",
      "INFO:root:s=-2, l=2, found what I think is n=8, omega=(3.87065984787e-10-2.01352055809j)\n",
      "INFO:root:s=-2, l=2, found what I think is n=9, omega=(0.0632633575949-2.30264463398j)\n",
      "INFO:root:s=-2, l=2, found what I think is n=10, omega=(0.0825981429254-2.81544234716j)\n",
      "INFO:root:Potentially skipped an overtone in the series, trying to go back\n",
      "INFO:root:s=-2, l=2, found what I think is n=11, omega=(0.0765534936711-2.56082659893j)\n",
      "INFO:root:s=-2, l=2, found what I think is n=12, omega=(0.0857279473291-3.0686947294j)\n",
      "INFO:root:s=-2, l=2, found what I think is n=13, omega=(0.0873942264044-3.3212302571j)\n",
      "INFO:root:s=-2, l=2, found what I think is n=14, omega=(0.0882389583653-3.57332075667j)\n",
      "INFO:root:s=-2, l=2, found what I think is n=15, omega=(0.0885904030038-3.82510530105j)\n",
      "INFO:root:s=-2, l=2, found what I think is n=16, omega=(0.088632761806-4.07666462687j)\n",
      "INFO:root:s=-2, l=2, found what I think is n=17, omega=(0.0884768750589-4.32805006405j)\n",
      "INFO:root:s=-2, l=2, found what I think is n=18, omega=(0.0881905145585-4.57929697419j)\n",
      "INFO:root:s=-2, l=2, found what I think is n=19, omega=(0.0878200980594-4.83043023922j)\n",
      "INFO:root:s=-2, l=3, found what I think is n=0, omega=(0.599443288437-0.0927030479449j)\n",
      "INFO:root:s=-2, l=3, found what I think is n=1, omega=(0.582643803034-0.281298113429j)\n",
      "INFO:root:s=-2, l=3, found what I think is n=2, omega=(0.551684900778-0.479092750967j)\n",
      "INFO:root:s=-2, l=3, found what I think is n=3, omega=(0.511961911058-0.690337095969j)\n",
      "INFO:root:s=-2, l=3, found what I think is n=4, omega=(0.470174005816-0.915649392506j)\n",
      "INFO:root:s=-2, l=3, found what I think is n=5, omega=(0.431386478638-1.15215136214j)\n",
      "INFO:root:s=-2, l=3, found what I think is n=6, omega=(0.39765952417-1.39591224273j)\n",
      "INFO:root:s=-2, l=3, found what I think is n=7, omega=(0.3689922759-1.64384452836j)\n",
      "INFO:root:s=-2, l=3, found what I think is n=8, omega=(0.344618318594-1.89403280419j)\n",
      "INFO:root:s=-2, l=3, found what I think is n=9, omega=(0.323683131592-2.14539894977j)\n",
      "INFO:root:s=-2, l=3, found what I think is n=10, omega=(0.305460901931-2.39735455031j)\n",
      "INFO:root:s=-2, l=3, found what I think is n=11, omega=(0.289384095111-2.64957960566j)\n",
      "INFO:root:s=-2, l=3, found what I think is n=12, omega=(0.27501939609-2.9018995712j)\n",
      "INFO:root:s=-2, l=3, found what I think is n=13, omega=(0.262036159483-3.15421947792j)\n",
      "INFO:root:s=-2, l=3, found what I think is n=14, omega=(0.250179715471-3.40648859241j)\n",
      "INFO:root:s=-2, l=3, found what I think is n=15, omega=(0.239251220507-3.65868116301j)\n",
      "INFO:root:s=-2, l=3, found what I think is n=16, omega=(0.22909300268-3.91078572075j)\n",
      "INFO:root:s=-2, l=3, found what I think is n=17, omega=(0.219577988821-4.16279901904j)\n",
      "INFO:root:s=-2, l=3, found what I think is n=18, omega=(0.210602038787-4.41472254704j)\n",
      "INFO:root:s=-2, l=3, found what I think is n=19, omega=(0.202078317719-4.66656050336j)\n",
      "INFO:root:s=-2, l=4, found what I think is n=0, omega=(0.809178377532-0.0941639609889j)\n",
      "INFO:root:s=-2, l=4, found what I think is n=1, omega=(0.796631532035-0.284334349405j)\n",
      "INFO:root:s=-2, l=4, found what I think is n=2, omega=(0.772709532615-0.479908175113j)\n",
      "INFO:root:s=-2, l=4, found what I think is n=3, omega=(0.739836730006-0.683924319018j)\n",
      "INFO:root:s=-2, l=4, found what I think is n=4, omega=(0.701515509252-0.898238971759j)\n",
      "INFO:root:s=-2, l=4, found what I think is n=5, omega=(0.661572499357-1.12297675351j)\n",
      "INFO:root:s=-2, l=4, found what I think is n=6, omega=(0.623108874666-1.35668626834j)\n",
      "INFO:root:s=-2, l=4, found what I think is n=7, omega=(0.587908825028-1.59717068062j)\n",
      "INFO:root:s=-2, l=4, found what I think is n=8, omega=(0.556574766479-1.84231763364j)\n",
      "INFO:root:s=-2, l=4, found what I think is n=9, omega=(0.528997397958-2.09049122906j)\n",
      "INFO:root:s=-2, l=4, found what I think is n=10, omega=(0.504762788361-2.34056154455j)\n",
      "INFO:root:s=-2, l=4, found what I think is n=11, omega=(0.483385467206-2.59179165039j)\n",
      "INFO:root:s=-2, l=4, found what I think is n=12, omega=(0.46441092754-2.84371297316j)\n",
      "INFO:root:s=-2, l=4, found what I think is n=13, omega=(0.447448880448-3.09603015716j)\n",
      "INFO:root:s=-2, l=4, found what I think is n=14, omega=(0.432176365005-3.34855727088j)\n",
      "INFO:root:s=-2, l=4, found what I think is n=15, omega=(0.418330042466-3.60117721551j)\n",
      "INFO:root:s=-2, l=4, found what I think is n=16, omega=(0.405695964543-3.85381636838j)\n",
      "INFO:root:s=-2, l=4, found what I think is n=17, omega=(0.394099937461-4.10642877733j)\n",
      "INFO:root:s=-2, l=4, found what I think is n=18, omega=(0.383399403408-4.35898624576j)\n",
      "INFO:root:s=-2, l=4, found what I think is n=19, omega=(0.373476919731-4.6114720544j)\n",
      "INFO:root:s=-2, l=5, found what I think is n=0, omega=(1.01229531214-0.0948705160816j)\n",
      "INFO:root:s=-2, l=5, found what I think is n=1, omega=(1.00222102789-0.285817381773j)\n",
      "INFO:root:s=-2, l=5, found what I think is n=2, omega=(0.98269576081-0.480328456013j)\n",
      "INFO:root:s=-2, l=5, found what I think is n=3, omega=(0.955004006121-0.680556908643j)\n",
      "INFO:root:s=-2, l=5, found what I think is n=4, omega=(0.921081843869-0.888197592388j)\n",
      "INFO:root:s=-2, l=5, found what I think is n=5, omega=(0.883335760698-1.10418246397j)\n",
      "INFO:root:s=-2, l=5, found what I think is n=6, omega=(0.844248166831-1.32849698266j)\n",
      "INFO:root:s=-2, l=5, found what I think is n=7, omega=(0.805915282796-1.56028085721j)\n",
      "INFO:root:s=-2, l=5, found what I think is n=8, omega=(0.769756084015-1.79818077571j)\n",
      "INFO:root:s=-2, l=5, found what I think is n=9, omega=(0.736496707324-2.04074707223j)\n",
      "INFO:root:s=-2, l=5, found what I think is n=10, omega=(0.706340071974-2.28669852856j)\n",
      "INFO:root:s=-2, l=5, found what I think is n=11, omega=(0.679174937025-2.53502365939j)\n",
      "INFO:root:s=-2, l=5, found what I think is n=12, omega=(0.654739564073-2.7849755223j)\n",
      "INFO:root:s=-2, l=5, found what I think is n=13, omega=(0.632723074464-3.03602305925j)\n",
      "INFO:root:s=-2, l=5, found what I think is n=14, omega=(0.612818591012-3.28779617847j)\n",
      "INFO:root:s=-2, l=5, found what I think is n=15, omega=(0.594746719201-3.54003935822j)\n",
      "INFO:root:s=-2, l=5, found what I think is n=16, omega=(0.578263109529-3.79257678303j)\n",
      "INFO:root:s=-2, l=5, found what I think is n=17, omega=(0.563158373297-4.0452875669j)\n",
      "INFO:root:s=-2, l=5, found what I think is n=18, omega=(0.549254801305-4.29808860708j)\n",
      "INFO:root:s=-2, l=5, found what I think is n=19, omega=(0.536402094072-4.55092284976j)\n",
      "INFO:root:s=-2, l=6, found what I think is n=0, omega=(1.21200982065-0.0952658458421j)\n",
      "INFO:root:s=-2, l=6, found what I think is n=1, omega=(1.20357397439-0.286649925114j)\n",
      "INFO:root:s=-2, l=6, found what I think is n=2, omega=(1.1870736746-0.480564492781j)\n",
      "INFO:root:s=-2, l=6, found what I think is n=3, omega=(1.16327006185-0.678590980981j)\n",
      "INFO:root:s=-2, l=6, found what I think is n=4, omega=(1.13332410147-0.882102771129j)\n",
      "INFO:root:s=-2, l=6, found what I think is n=5, omega=(1.09875331097-1.0921150298j)\n",
      "INFO:root:s=-2, l=6, found what I think is n=6, omega=(1.061297053-1.30913996329j)\n",
      "INFO:root:s=-2, l=6, found what I think is n=7, omega=(1.02269792759-1.53312035993j)\n",
      "INFO:root:s=-2, l=6, found what I think is n=8, omega=(0.984468299367-1.76349242543j)\n",
      "INFO:root:s=-2, l=6, found what I think is n=9, omega=(0.947731914727-1.99935920543j)\n",
      "INFO:root:s=-2, l=6, found what I think is n=10, omega=(0.91318560041-2.23969771966j)\n",
      "INFO:root:s=-2, l=6, found what I think is n=11, omega=(0.881159139781-2.48352467735j)\n",
      "INFO:root:s=-2, l=6, found what I think is n=12, omega=(0.851718651734-2.72998986128j)\n",
      "INFO:root:s=-2, l=6, found what I think is n=13, omega=(0.824767757024-2.97840658617j)\n"
     ]
    },
    {
     "name": "stderr",
     "output_type": "stream",
     "text": [
      "INFO:root:s=-2, l=6, found what I think is n=14, omega=(0.800125127458-3.22824388626j)\n",
      "INFO:root:s=-2, l=6, found what I think is n=15, omega=(0.777575567798-3.47910212568j)\n",
      "INFO:root:s=-2, l=6, found what I think is n=16, omega=(0.756900000575-3.73068525606j)\n",
      "INFO:root:s=-2, l=6, found what I think is n=17, omega=(0.737891185462-3.98277586325j)\n",
      "INFO:root:s=-2, l=6, found what I think is n=18, omega=(0.720360733649-4.23521495274j)\n",
      "INFO:root:s=-2, l=6, found what I think is n=19, omega=(0.704141213978-4.48788644527j)\n",
      "INFO:root:s=-2, l=7, found what I think is n=0, omega=(1.40973512061-0.0955096292751j)\n",
      "INFO:root:s=-2, l=7, found what I think is n=1, omega=(1.40247093803-0.287164065494j)\n",
      "INFO:root:s=-2, l=7, found what I think is n=2, omega=(1.38818184551-0.480709209171j)\n",
      "INFO:root:s=-2, l=7, found what I think is n=3, omega=(1.36735592562-0.67734906531j)\n",
      "INFO:root:s=-2, l=7, found what I think is n=4, omega=(1.34073939548-0.878180857684j)\n",
      "INFO:root:s=-2, l=7, found what I think is n=5, omega=(1.30932802162-1.08411810133j)\n",
      "INFO:root:s=-2, l=7, found what I think is n=6, omega=(1.27432107766-1.29580310525j)\n",
      "INFO:root:s=-2, l=7, found what I think is n=7, omega=(1.23702811185-1.51353519431j)\n",
      "INFO:root:s=-2, l=7, found what I think is n=8, omega=(1.19874040855-1.73724611642j)\n",
      "INFO:root:s=-2, l=7, found what I think is n=9, omega=(1.16060086254-1.96654015492j)\n",
      "INFO:root:s=-2, l=7, found what I think is n=10, omega=(1.12351086752-2.20078873991j)\n",
      "INFO:root:s=-2, l=7, found what I think is n=11, omega=(1.08809546022-2.43924706341j)\n",
      "INFO:root:s=-2, l=7, found what I think is n=12, omega=(1.05472194814-2.68115807674j)\n",
      "INFO:root:s=-2, l=7, found what I think is n=13, omega=(1.02355055004-2.92582394974j)\n",
      "INFO:root:s=-2, l=7, found what I think is n=14, omega=(0.994594115227-3.17264262829j)\n",
      "INFO:root:s=-2, l=7, found what I think is n=15, omega=(0.9677717454-3.42111767069j)\n",
      "INFO:root:s=-2, l=7, found what I think is n=16, omega=(0.942950035924-3.67085204922j)\n",
      "INFO:root:s=-2, l=7, found what I think is n=17, omega=(0.919971591754-3.92153458078j)\n",
      "INFO:root:s=-2, l=7, found what I think is n=18, omega=(0.898673142481-4.17292447571j)\n",
      "INFO:root:s=-2, l=7, found what I think is n=19, omega=(0.878896150234-4.42483685553j)\n",
      "INFO:root:s=-2, l=8, found what I think is n=0, omega=(1.60619372827-0.0956707010266j)\n",
      "INFO:root:s=-2, l=8, found what I think is n=1, omega=(1.59981136414-0.287504020203j)\n",
      "INFO:root:s=-2, l=8, found what I think is n=2, omega=(1.58720987624-0.480804193647j)\n",
      "INFO:root:s=-2, l=8, found what I think is n=3, omega=(1.56872104093-0.676516144418j)\n",
      "INFO:root:s=-2, l=8, found what I think is n=4, omega=(1.5448517211-0.875524611708j)\n",
      "INFO:root:s=-2, l=8, found what I think is n=5, omega=(1.51628406654-1.07861216895j)\n",
      "INFO:root:s=-2, l=8, found what I think is n=6, omega=(1.48385987408-1.28640793437j)\n",
      "INFO:root:s=-2, l=8, found what I think is n=7, omega=(1.44854134554-1.4993361772j)\n",
      "INFO:root:s=-2, l=8, found what I think is n=8, omega=(1.41134714732-1.71757927345j)\n",
      "INFO:root:s=-2, l=8, found what I think is n=9, omega=(1.37327274601-1.94106920515j)\n",
      "INFO:root:s=-2, l=8, found what I think is n=10, omega=(1.33521234235-2.16951403995j)\n",
      "INFO:root:s=-2, l=8, found what I think is n=11, omega=(1.29790071443-2.4024537189j)\n",
      "INFO:root:s=-2, l=8, found what I think is n=12, omega=(1.26188579754-2.63932992259j)\n",
      "INFO:root:s=-2, l=8, found what I think is n=13, omega=(1.22753164363-2.87955289455j)\n",
      "INFO:root:s=-2, l=8, found what I think is n=14, omega=(1.19504295245-3.12255331456j)\n",
      "INFO:root:s=-2, l=8, found what I think is n=15, omega=(1.16449974263-3.36781506619j)\n",
      "INFO:root:s=-2, l=8, found what I think is n=16, omega=(1.13589279214-3.61489079568j)\n",
      "INFO:root:s=-2, l=8, found what I think is n=17, omega=(1.10915433528-3.86340497809j)\n",
      "INFO:root:s=-2, l=8, found what I think is n=18, omega=(1.08418194127-4.11304943285j)\n",
      "INFO:root:s=-2, l=8, found what I think is n=19, omega=(1.06085567797-4.36357517474j)\n",
      "INFO:root:s=-2, l=9, found what I think is n=0, omega=(1.80179478108-0.0957827493253j)\n",
      "INFO:root:s=-2, l=9, found what I think is n=1, omega=(1.79610113767-0.287740608672j)\n",
      "INFO:root:s=-2, l=9, found what I think is n=2, omega=(1.7848302156-0.480869887752j)\n",
      "INFO:root:s=-2, l=9, found what I think is n=3, omega=(1.76821785758-0.675930955306j)\n",
      "INFO:root:s=-2, l=9, found what I think is n=4, omega=(1.74662376416-0.873647717665j)\n",
      "INFO:root:s=-2, l=9, found what I think is n=5, omega=(1.72053359334-1.07468324165j)\n",
      "INFO:root:s=-2, l=9, found what I think is n=6, omega=(1.69055405603-1.27960904085j)\n",
      "INFO:root:s=-2, l=9, found what I think is n=7, omega=(1.65739631089-1.48887124188j)\n",
      "INFO:root:s=-2, l=9, found what I think is n=8, omega=(1.62184490067-1.70275985686j)\n",
      "INFO:root:s=-2, l=9, found what I think is n=9, omega=(1.58471341147-1.92138903199j)\n",
      "INFO:root:s=-2, l=9, found what I think is n=10, omega=(1.546792821-2.14469497629j)\n",
      "INFO:root:s=-2, l=9, found what I think is n=11, omega=(1.50880190487-2.37245402764j)\n",
      "INFO:root:s=-2, l=9, found what I think is n=12, omega=(1.47134910668-2.60431759156j)\n",
      "INFO:root:s=-2, l=9, found what I think is n=13, omega=(1.43491175527-2.83985620752j)\n",
      "INFO:root:s=-2, l=9, found what I think is n=14, omega=(1.39983328944-3.07860373231j)\n",
      "INFO:root:s=-2, l=9, found what I think is n=15, omega=(1.36633475695-3.32009456458j)\n",
      "INFO:root:s=-2, l=9, found what I think is n=16, omega=(1.334534806-3.56389036118j)\n",
      "INFO:root:s=-2, l=9, found what I think is n=17, omega=(1.30447263488-3.80959599884j)\n",
      "INFO:root:s=-2, l=9, found what I think is n=18, omega=(1.27612991409-4.05686660613j)\n",
      "INFO:root:s=-2, l=9, found what I think is n=19, omega=(1.24944949797-4.30540825087j)\n",
      "INFO:root:s=-2, l=10, found what I think is n=0, omega=(1.99678779412-0.0958638721295j)\n",
      "INFO:root:s=-2, l=10, found what I think is n=1, omega=(1.99164745155-0.28791194439j)\n",
      "INFO:root:s=-2, l=10, found what I think is n=2, omega=(1.98145264885-0.480917225558j)\n",
      "INFO:root:s=-2, l=10, found what I think is n=3, omega=(1.96637707155-0.675504337684j)\n",
      "INFO:root:s=-2, l=10, found what I think is n=4, omega=(1.94668513689-0.872274520168j)\n",
      "INFO:root:s=-2, l=10, found what I think is n=5, omega=(1.92273415527-1.07179067453j)\n",
      "INFO:root:s=-2, l=10, found what I think is n=6, omega=(1.89497326913-1.27455832072j)\n",
      "INFO:root:s=-2, l=10, found what I think is n=7, omega=(1.86393646816-1.48100355898j)\n",
      "INFO:root:s=-2, l=10, found what I think is n=8, omega=(1.83022748611-1.69145069724j)\n",
      "INFO:root:s=-2, l=10, found what I think is n=9, omega=(1.79449584455-1.90610350462j)\n",
      "INFO:root:s=-2, l=10, found what I think is n=10, omega=(1.75740554962-2.12503443101j)\n",
      "INFO:root:s=-2, l=10, found what I think is n=11, omega=(1.71960029238-2.34818509687j)\n",
      "INFO:root:s=-2, l=10, found what I think is n=12, omega=(1.68167046651-2.57537899245j)\n",
      "INFO:root:s=-2, l=10, found what I think is n=13, omega=(1.64412715969-2.80634443684j)\n",
      "INFO:root:s=-2, l=10, found what I think is n=14, omega=(1.60738648515-3.04074358826j)\n",
      "INFO:root:s=-2, l=10, found what I think is n=15, omega=(1.57176502395-3.2782025011j)\n",
      "INFO:root:s=-2, l=10, found what I think is n=16, omega=(1.53748475981-3.51833795758j)\n",
      "INFO:root:s=-2, l=10, found what I think is n=17, omega=(1.50468452692-3.76077846066j)\n",
      "INFO:root:s=-2, l=10, found what I think is n=18, omega=(1.47343473455-4.00517856302j)\n",
      "INFO:root:s=-2, l=10, found what I think is n=19, omega=(1.44375268947-4.25122705542j)\n",
      "INFO:root:s=-2, l=11, found what I think is n=0, omega=(2.19133378045-0.0959245100641j)\n",
      "INFO:root:s=-2, l=11, found what I think is n=1, omega=(2.1866479578-0.28804003785j)\n",
      "INFO:root:s=-2, l=11, found what I think is n=2, omega=(2.17734151129-0.480952475007j)\n",
      "INFO:root:s=-2, l=11, found what I think is n=3, omega=(2.16354607284-0.675183841924j)\n",
      "INFO:root:s=-2, l=11, found what I think is n=4, omega=(2.145461695-0.871240464688j)\n",
      "INFO:root:s=-2, l=11, found what I think is n=5, omega=(2.1233586485-1.0696033551j)\n",
      "INFO:root:s=-2, l=11, found what I think is n=6, omega=(2.09757769399-1.27071596228j)\n",
      "INFO:root:s=-2, l=11, found what I think is n=7, omega=(2.06852726891-1.47496962584j)\n",
      "INFO:root:s=-2, l=11, found what I think is n=8, omega=(2.03667611646-1.68268786946j)\n",
      "INFO:root:s=-2, l=11, found what I think is n=9, omega=(2.00254040561-1.89411147892j)\n"
     ]
    },
    {
     "name": "stderr",
     "output_type": "stream",
     "text": [
      "INFO:root:s=-2, l=11, found what I think is n=10, omega=(1.96666537277-2.10938683988j)\n",
      "INFO:root:s=-2, l=11, found what I think is n=11, omega=(1.92960278572-2.32855997902j)\n",
      "INFO:root:s=-2, l=11, found what I think is n=12, omega=(1.89188671722-2.55157799848j)\n",
      "INFO:root:s=-2, l=11, found what I think is n=13, omega=(1.85401077371-2.77829824124j)\n",
      "INFO:root:s=-2, l=11, found what I think is n=14, omega=(1.81640975894-3.00850398141j)\n",
      "INFO:root:s=-2, l=11, found what I think is n=15, omega=(1.77944779392-3.241924224j)\n",
      "INFO:root:s=-2, l=11, found what I think is n=16, omega=(1.74341353489-3.47825470232j)\n",
      "INFO:root:s=-2, l=11, found what I think is n=17, omega=(1.70852180021-3.717177433j)\n",
      "INFO:root:s=-2, l=11, found what I think is n=18, omega=(1.67492003306-3.958376995j)\n",
      "INFO:root:s=-2, l=11, found what I think is n=19, omega=(1.64269770284-4.20155267384j)\n",
      "INFO:root:s=-2, l=12, found what I think is n=0, omega=(2.38554138079-0.0959710349513j)\n",
      "INFO:root:s=-2, l=12, found what I think is n=1, omega=(2.38123573832-0.288138330736j)\n",
      "INFO:root:s=-2, l=12, found what I think is n=2, omega=(2.3726751206-0.480979437279j)\n",
      "INFO:root:s=-2, l=12, found what I think is n=3, omega=(2.35996168345-0.674937011225j)\n",
      "INFO:root:s=-2, l=12, found what I think is n=4, omega=(2.3432504464-0.870442775574j)\n",
      "INFO:root:s=-2, l=12, found what I think is n=5, omega=(2.32275069409-1.06791107599j)\n",
      "INFO:root:s=-2, l=12, found what I think is n=6, omega=(2.29872664555-1.26773072544j)\n",
      "INFO:root:s=-2, l=12, found what I think is n=7, omega=(2.27149647245-1.47025519385j)\n",
      "INFO:root:s=-2, l=12, found what I think is n=8, omega=(2.24142872071-1.67579162675j)\n",
      "INFO:root:s=-2, l=12, found what I think is n=9, omega=(2.20893536474-1.88458964501j)\n",
      "INFO:root:s=-2, l=12, found what I think is n=10, omega=(2.17446114136-2.09683127981j)\n",
      "INFO:root:s=-2, l=12, found what I think is n=11, omega=(2.13846944327-2.31262359084j)\n",
      "INFO:root:s=-2, l=12, found what I think is n=12, omega=(2.10142577891-2.53199537508j)\n",
      "INFO:root:s=-2, l=12, found what I think is n=13, omega=(2.06378042617-2.75489885868j)\n",
      "INFO:root:s=-2, l=12, found what I think is n=14, omega=(2.02595221228-2.98121646661j)\n",
      "INFO:root:s=-2, l=12, found what I think is n=15, omega=(1.98831522378-3.21077190095j)\n",
      "INFO:root:s=-2, l=12, found what I think is n=16, omega=(1.95118970291-3.4433440752j)\n",
      "INFO:root:s=-2, l=12, found what I think is n=17, omega=(1.9148376281-3.67868214147j)\n",
      "INFO:root:s=-2, l=12, found what I think is n=18, omega=(1.87946269567-3.91651993751j)\n",
      "INFO:root:s=-2, l=12, found what I think is n=19, omega=(1.84521385984-4.15658858427j)\n",
      "INFO:root:s=-2, l=13, found what I think is n=0, omega=(2.57948659768-0.0960075169446j)\n",
      "INFO:root:s=-2, l=13, found what I think is n=1, omega=(2.57550374845-0.288215413037j)\n",
      "INFO:root:s=-2, l=13, found what I think is n=2, omega=(2.5675782076-0.481000526678j)\n",
      "INFO:root:s=-2, l=13, found what I think is n=3, omega=(2.55579085355-0.674742899694j)\n",
      "INFO:root:s=-2, l=13, found what I think is n=4, omega=(2.54026425606-0.869814717592j)\n",
      "INFO:root:s=-2, l=13, found what I think is n=5, omega=(2.52116374608-1.06657584141j)\n",
      "INFO:root:s=-2, l=13, found what I think is n=6, omega=(2.49869813708-1.26536820399j)\n",
      "INFO:root:s=-2, l=13, found what I think is n=7, omega=(2.47311954203-1.46650903591j)\n",
      "INFO:root:s=-2, l=13, found what I think is n=8, omega=(2.44472168246-1.67028311864j)\n",
      "INFO:root:s=-2, l=13, found what I think is n=9, omega=(2.41383613455-1.8769345329j)\n",
      "INFO:root:s=-2, l=13, found what I think is n=10, omega=(2.38082613048-2.08665863463j)\n",
      "INFO:root:s=-2, l=13, found what I think is n=11, omega=(2.34607783845-2.29959518468j)\n",
      "INFO:root:s=-2, l=13, found what I think is n=12, omega=(2.30998944745-2.51582360833j)\n",
      "INFO:root:s=-2, l=13, found what I think is n=13, omega=(2.27295880521-2.73536121403j)\n",
      "INFO:root:s=-2, l=13, found what I think is n=14, omega=(2.23537069241-2.95816485464j)\n",
      "INFO:root:s=-2, l=13, found what I think is n=15, omega=(2.19758495932-3.18413603063j)\n",
      "INFO:root:s=-2, l=13, found what I think is n=16, omega=(2.15992666843-3.41312893004j)\n",
      "INFO:root:s=-2, l=13, found what I think is n=17, omega=(2.12267902184-3.64496049652j)\n",
      "INFO:root:s=-2, l=13, found what I think is n=18, omega=(2.08607949613-3.87942142081j)\n",
      "INFO:root:s=-2, l=13, found what I think is n=19, omega=(2.05031903404-4.11628696755j)\n",
      "INFO:root:s=-2, l=14, found what I think is n=0, omega=(2.77322421717-0.0960366559823j)\n",
      "INFO:root:s=-2, l=14, found what I think is n=1, omega=(2.76951891428-0.288276984691j)\n",
      "INFO:root:s=-2, l=14, found what I think is n=2, omega=(2.76214067644-0.481017336832j)\n",
      "INFO:root:s=-2, l=14, found what I think is n=3, omega=(2.75115463584-0.674587504349j)\n",
      "INFO:root:s=-2, l=14, found what I think is n=4, omega=(2.7366593872-0.86931148505j)\n",
      "INFO:root:s=-2, l=14, found what I think is n=5, omega=(2.71878780116-1.06550429084j)\n",
      "INFO:root:s=-2, l=14, found what I think is n=6, omega=(2.6977076791-1.26346798735j)\n",
      "INFO:root:s=-2, l=14, found what I think is n=7, omega=(2.67362190371-1.4634869061j)\n",
      "INFO:root:s=-2, l=14, found what I think is n=8, omega=(2.6467676969-1.6658221008j)\n",
      "INFO:root:s=-2, l=14, found what I think is n=9, omega=(2.61741460023-1.87070527746j)\n",
      "INFO:root:s=-2, l=14, found what I think is n=10, omega=(2.58586086236-2.07833259435j)\n",
      "INFO:root:s=-2, l=14, found what I think is n=11, omega=(2.55242806207-2.28885887479j)\n",
      "INFO:root:s=-2, l=14, found what I think is n=12, omega=(2.51745400961-2.50239286281j)\n",
      "INFO:root:s=-2, l=14, found what I think is n=13, omega=(2.4812842251-2.71899414496j)\n",
      "INFO:root:s=-2, l=14, found what I think is n=14, omega=(2.44426254283-2.9386722374j)\n",
      "INFO:root:s=-2, l=14, found what I think is n=15, omega=(2.4067215752-3.16138810504j)\n",
      "INFO:root:s=-2, l=14, found what I think is n=16, omega=(2.36897383989-3.38705807855j)\n",
      "INFO:root:s=-2, l=14, found what I think is n=17, omega=(2.3313042877-3.61555982749j)\n",
      "INFO:root:s=-2, l=14, found what I think is n=18, omega=(2.29396476051-3.84673980376j)\n",
      "INFO:root:s=-2, l=14, found what I think is n=19, omega=(2.2571706685-4.08042143909j)\n",
      "INFO:root:s=-2, l=15, found what I think is n=0, omega=(2.96679474073-0.0960603009118j)\n",
      "INFO:root:s=-2, l=15, found what I think is n=1, omega=(2.9633306655-0.288326949742j)\n",
      "INFO:root:s=-2, l=15, found what I think is n=2, omega=(2.95642898645-0.48103095439j)\n",
      "INFO:root:s=-2, l=15, found what I think is n=3, omega=(2.94614293168-0.674461178049j)\n",
      "INFO:root:s=-2, l=15, found what I think is n=4, omega=(2.93255299748-0.868902114592j)\n",
      "INFO:root:s=-2, l=15, found what I think is n=5, omega=(2.91576756887-1.06463154928j)\n",
      "INFO:root:s=-2, l=15, found what I think is n=6, omega=(2.89592347665-1.26191768889j)\n",
      "INFO:root:s=-2, l=15, found what I think is n=7, omega=(2.8731862705-1.46101570238j)\n",
      "INFO:root:s=-2, l=15, found what I think is n=8, omega=(2.847749954-1.66216368899j)\n",
      "INFO:root:s=-2, l=15, found what I think is n=9, omega=(2.8198359178-1.86557818469j)\n",
      "INFO:root:s=-2, l=15, found what I think is n=10, omega=(2.7896908318-2.07144942172j)\n",
      "INFO:root:s=-2, l=15, found what I think is n=11, omega=(2.75758332425-2.27993665783j)\n",
      "INFO:root:s=-2, l=15, found what I think is n=12, omega=(2.723799387-2.49116397022j)\n",
      "INFO:root:s=-2, l=15, found what I think is n=13, omega=(2.68863659403-2.70521694414j)\n",
      "INFO:root:s=-2, l=15, found what I think is n=14, omega=(2.65239738402-2.92214065941j)\n",
      "INFO:root:s=-2, l=15, found what I think is n=15, omega=(2.61538180844-3.14193928103j)\n",
      "INFO:root:s=-2, l=15, found what I think is n=16, omega=(2.57788025212-3.3645774037j)\n",
      "INFO:root:s=-2, l=15, found what I think is n=17, omega=(2.54016666574-3.58998310621j)\n",
      "INFO:root:s=-2, l=15, found what I think is n=18, omega=(2.5024927983-3.8180524802j)\n",
      "INFO:root:s=-2, l=15, found what I think is n=19, omega=(2.4650838067-4.04865524456j)\n",
      "INFO:root:s=-2, l=16, found what I think is n=0, omega=(3.16022876243-0.0960797526128j)\n",
      "INFO:root:s=-2, l=16, found what I think is n=1, omega=(3.15697631234-0.288368055603j)\n",
      "INFO:root:s=-2, l=16, found what I think is n=2, omega=(3.15049333779-0.481042141173j)\n",
      "INFO:root:s=-2, l=16, found what I think is n=3, omega=(3.1408238996-0.674357100159j)\n",
      "INFO:root:s=-2, l=16, found what I think is n=4, omega=(3.12803457461-0.868564664698j)\n"
     ]
    },
    {
     "name": "stderr",
     "output_type": "stream",
     "text": [
      "INFO:root:s=-2, l=16, found what I think is n=5, omega=(3.11221493248-1.06391145504j)\n",
      "INFO:root:s=-2, l=16, found what I think is n=6, omega=(3.09347799631-1.26063685319j)\n",
      "INFO:root:s=-2, l=16, found what I think is n=7, omega=(3.07196054321-1.45897045203j)\n",
      "INFO:root:s=-2, l=16, found what I think is n=8, omega=(3.04782307566-1.65912907419j)\n",
      "INFO:root:s=-2, l=16, found what I think is n=9, omega=(3.02124928226-1.86131341167j)\n",
      "INFO:root:s=-2, l=16, found what I think is n=10, omega=(2.99244481276-2.06570440303j)\n",
      "INFO:root:s=-2, l=16, found what I think is n=11, omega=(2.9616352224-2.27245953263j)\n",
      "INFO:root:s=-2, l=16, found what I think is n=12, omega=(2.92906299785-2.48170929694j)\n",
      "INFO:root:s=-2, l=16, found what I think is n=13, omega=(2.89498366021-2.69355412331j)\n",
      "INFO:root:s=-2, l=16, found what I think is n=14, omega=(2.85966104153-2.90806203676j)\n",
      "INFO:root:s=-2, l=16, found what I think is n=15, omega=(2.82336193762-3.12526733916j)\n",
      "INFO:root:s=-2, l=16, found what I think is n=16, omega=(2.78635043194-3.34517049193j)\n",
      "INFO:root:s=-2, l=16, found what I think is n=17, omega=(2.74888224636-3.56773928651j)\n",
      "INFO:root:s=-2, l=16, found what I think is n=18, omega=(2.71119949071-3.79291126043j)\n",
      "INFO:root:s=-2, l=16, found what I think is n=19, omega=(2.67352614076-4.02059719226j)\n",
      "INFO:root:s=-2, l=17, found what I think is n=0, omega=(3.35354982761-0.0960959481346j)\n",
      "INFO:root:s=-2, l=17, found what I think is n=1, omega=(3.35048455138-0.288402281545j)\n",
      "INFO:root:s=-2, l=17, found what I think is n=2, omega=(3.3443723636-0.481051444237j)\n",
      "INFO:root:s=-2, l=17, found what I think is n=3, omega=(3.33525015025-0.674270338488j)\n",
      "INFO:root:s=-2, l=17, found what I think is n=4, omega=(3.32317360662-0.868283241217j)\n",
      "INFO:root:s=-2, l=17, found what I think is n=5, omega=(3.30821760661-1.06331046416j)\n",
      "INFO:root:s=-2, l=17, found what I think is n=6, omega=(3.29047657914-1.25956674695j)\n",
      "INFO:root:s=-2, l=17, found what I think is n=7, omega=(3.27006479522-1.45725934079j)\n",
      "INFO:root:s=-2, l=17, found what I think is n=8, omega=(3.24711645122-1.65658576859j)\n",
      "INFO:root:s=-2, l=17, found what I think is n=9, omega=(3.22178542263-1.85773128254j)\n",
      "INFO:root:s=-2, l=17, found what I think is n=10, omega=(3.19424456143-2.06086608229j)\n",
      "INFO:root:s=-2, l=17, found what I think is n=11, omega=(3.16468442303-2.26614240138j)\n",
      "INFO:root:s=-2, l=17, found what I think is n=12, omega=(3.13331133775-2.47369161355j)\n",
      "INFO:root:s=-2, l=17, found what I think is n=13, omega=(3.10034478796-2.68362154538j)\n",
      "INFO:root:s=-2, l=17, found what I think is n=14, omega=(3.0660141126-2.8960142019j)\n",
      "INFO:root:s=-2, l=17, found what I think is n=15, omega=(3.03055463054-3.11092410935j)\n",
      "INFO:root:s=-2, l=17, found what I think is n=16, omega=(2.99420334309-3.32837745073j)\n",
      "INFO:root:s=-2, l=17, found what I think is n=17, omega=(2.95719443416-3.54837211578j)\n",
      "INFO:root:s=-2, l=17, found what I think is n=18, omega=(2.91975482173-3.77087871238j)\n",
      "INFO:root:s=-2, l=17, found what I think is n=19, omega=(2.8821000223-3.99584250197j)\n",
      "INFO:root:s=-2, l=18, found what I think is n=0, omega=(3.54677635459-0.0961095764242j)\n",
      "INFO:root:s=-2, l=18, found what I think is n=1, omega=(3.54387781921-0.288431082936j)\n",
      "INFO:root:s=-2, l=18, found what I think is n=2, omega=(3.53809628393-0.481059264726j)\n",
      "INFO:root:s=-2, l=18, found what I think is n=3, omega=(3.5294629386-0.674197255152j)\n",
      "INFO:root:s=-2, l=18, found what I think is n=4, omega=(3.51802484832-0.86804610505j)\n",
      "INFO:root:s=-2, l=18, found what I think is n=5, omega=(3.50384524208-1.06280374108j)\n",
      "INFO:root:s=-2, l=18, found what I think is n=6, omega=(3.48700381904-1.25866372977j)\n",
      "INFO:root:s=-2, l=18, found what I think is n=7, omega=(3.46759700651-1.4558138133j)\n",
      "INFO:root:s=-2, l=18, found what I think is n=8, omega=(3.44573809071-1.65443420072j)\n",
      "INFO:root:s=-2, l=18, found what I think is n=9, omega=(3.42155713235-1.85469562095j)\n",
      "INFO:root:s=-2, l=18, found what I think is n=10, omega=(3.395200575-2.05675717072j)\n",
      "INFO:root:s=-2, l=18, found what I think is n=11, omega=(3.36683045947-2.26076402067j)\n",
      "INFO:root:s=-2, l=18, found what I think is n=12, omega=(3.33662317121-2.46684507327j)\n",
      "INFO:root:s=-2, l=18, found what I think is n=13, omega=(3.30476767332-2.6751106937j)\n",
      "INFO:root:s=-2, l=18, found what I think is n=14, omega=(3.27146321384-2.88565065494j)\n",
      "INFO:root:s=-2, l=18, found what I think is n=15, omega=(3.23691653967-3.09853244666j)\n",
      "INFO:root:s=-2, l=18, found what I think is n=16, omega=(3.20133869764-3.31380009048j)\n",
      "INFO:root:s=-2, l=18, found what I think is n=17, omega=(3.16494154909-3.53147357978j)\n",
      "INFO:root:s=-2, l=18, found what I think is n=18, omega=(3.12793416053-3.75154902237j)\n",
      "INFO:root:s=-2, l=18, found what I think is n=19, omega=(3.09051925466-3.97399951185j)\n",
      "INFO:root:s=-2, l=19, found what I think is n=0, omega=(3.73992295959-0.0961211532428j)\n",
      "INFO:root:s=-2, l=19, found what I think is n=1, omega=(3.73717391338-0.288455549386j)\n",
      "INFO:root:s=-2, l=19, found what I think is n=2, omega=(3.73168908011-0.48106590226j)\n",
      "INFO:root:s=-2, l=19, found what I think is n=3, omega=(3.72349506976-0.674135119519j)\n",
      "INFO:root:s=-2, l=19, found what I think is n=4, omega=(3.71263201449-0.867844435239j)\n",
      "INFO:root:s=-2, l=19, found what I think is n=5, omega=(3.69915379651-1.06237258768j)\n",
      "INFO:root:s=-2, l=19, found what I think is n=6, omega=(3.68312829717-1.25789485356j)\n",
      "INFO:root:s=-2, l=19, found what I think is n=7, omega=(3.66463762195-1.4545819119j)\n",
      "INFO:root:s=-2, l=19, found what I think is n=8, omega=(3.64377824567-1.65259852175j)\n",
      "INFO:root:s=-2, l=19, found what I think is n=9, omega=(3.62066101564-1.85210201297j)\n",
      "INFO:root:s=-2, l=19, found what I think is n=10, omega=(3.59541094599-2.05324060691j)\n",
      "INFO:root:s=-2, l=19, found what I think is n=11, omega=(3.56816673756-2.25615160369j)\n",
      "INFO:root:s=-2, l=19, found what I think is n=12, omega=(3.53907996424-2.46095949432j)\n",
      "INFO:root:s=-2, l=19, found what I think is n=13, omega=(3.50831388076-2.66777407608j)\n",
      "INFO:root:s=-2, l=19, found what I think is n=14, omega=(3.47604182763-2.8766886669j)\n",
      "INFO:root:s=-2, l=19, found what I think is n=15, omega=(3.44244523653-3.08777852522j)\n",
      "INFO:root:s=-2, l=19, found what I think is n=16, omega=(3.40771127145-3.30109958419j)\n",
      "INFO:root:s=-2, l=19, found what I think is n=17, omega=(3.37203017386-3.51668760075j)\n",
      "INFO:root:s=-2, l=19, found what I think is n=18, omega=(3.3355924111-3.73455779995j)\n",
      "INFO:root:s=-2, l=19, found what I think is n=19, omega=(3.29858575044-3.95470506562j)\n",
      "INFO:root:s=-1, l=1, found what I think is n=0, omega=(0.248263264178-0.0924877179529j)\n",
      "INFO:root:s=-1, l=1, found what I think is n=1, omega=(0.214515419565-0.293667645547j)\n",
      "INFO:root:s=-1, l=1, found what I think is n=2, omega=(0.174773567578-0.525187599398j)\n",
      "INFO:root:s=-1, l=1, found what I think is n=3, omega=(0.146176699401-0.77190892405j)\n",
      "INFO:root:s=-1, l=1, found what I think is n=4, omega=(0.126554146014-1.02255028375j)\n",
      "INFO:root:s=-1, l=1, found what I think is n=5, omega=(0.112252790776-1.27392561943j)\n",
      "INFO:root:s=-1, l=1, found what I think is n=6, omega=(0.101214705594-1.52526633341j)\n",
      "INFO:root:s=-1, l=1, found what I think is n=7, omega=(0.0923237478591-1.7763992333j)\n",
      "INFO:root:s=-1, l=1, found what I think is n=8, omega=(0.0849349702162-2.0273060697j)\n",
      "INFO:root:s=-1, l=1, found what I think is n=9, omega=(0.0786496344779-2.27800881278j)\n",
      "INFO:root:s=-1, l=1, found what I think is n=10, omega=(0.0732066454485-2.52853726407j)\n",
      "INFO:root:s=-1, l=1, found what I think is n=11, omega=(0.0684268057407-2.77891950344j)\n",
      "INFO:root:s=-1, l=1, found what I think is n=12, omega=(0.0641811493334-3.02918056509j)\n",
      "INFO:root:s=-1, l=1, found what I think is n=13, omega=(0.0603782759507-3.27933609813j)\n",
      "INFO:root:s=-1, l=1, found what I think is n=14, omega=(0.0569372458377-3.52940722903j)\n",
      "INFO:root:s=-1, l=1, found what I think is n=15, omega=(0.0538130763622-3.77940275133j)\n",
      "INFO:root:s=-1, l=1, found what I think is n=16, omega=(0.0509905132486-4.02934530652j)\n",
      "INFO:root:s=-1, l=1, found what I think is n=17, omega=(0.0483202357184-4.27928950087j)\n",
      "INFO:root:s=-1, l=1, found what I think is n=18, omega=(0.0460147796647-4.52908754539j)\n",
      "INFO:root:s=-1, l=1, found what I think is n=19, omega=(0.0437020663989-4.77879442034j)\n"
     ]
    },
    {
     "name": "stderr",
     "output_type": "stream",
     "text": [
      "INFO:root:s=-1, l=2, found what I think is n=0, omega=(0.45759551163-0.0950044258195j)\n",
      "INFO:root:s=-1, l=2, found what I think is n=1, omega=(0.436542385751-0.29071014312j)\n",
      "INFO:root:s=-1, l=2, found what I think is n=2, omega=(0.401186733916-0.501587346343j)\n",
      "INFO:root:s=-1, l=2, found what I think is n=3, omega=(0.362595032332-0.730198514286j)\n",
      "INFO:root:s=-1, l=2, found what I think is n=4, omega=(0.328736671137-0.971609378934j)\n",
      "INFO:root:s=-1, l=2, found what I think is n=5, omega=(0.3014929957-1.21971524975j)\n",
      "INFO:root:s=-1, l=2, found what I think is n=6, omega=(0.279844916748-1.47079320168j)\n",
      "INFO:root:s=-1, l=2, found what I think is n=7, omega=(0.262379087713-1.72307157216j)\n",
      "INFO:root:s=-1, l=2, found what I think is n=8, omega=(0.247978763566-1.97576344716j)\n",
      "INFO:root:s=-1, l=2, found what I think is n=9, omega=(0.235855297638-2.22852324715j)\n",
      "INFO:root:s=-1, l=2, found what I think is n=10, omega=(0.225460818293-2.48120132574j)\n",
      "INFO:root:s=-1, l=2, found what I think is n=11, omega=(0.216409885972-2.73373675408j)\n",
      "INFO:root:s=-1, l=2, found what I think is n=12, omega=(0.208425499872-2.98610953081j)\n",
      "INFO:root:s=-1, l=2, found what I think is n=13, omega=(0.2013039908-3.23831858484j)\n",
      "INFO:root:s=-1, l=2, found what I think is n=14, omega=(0.194892300551-3.49037134597j)\n",
      "INFO:root:s=-1, l=2, found what I think is n=15, omega=(0.189073080249-3.74227869922j)\n",
      "INFO:root:s=-1, l=2, found what I think is n=16, omega=(0.183754723603-3.99405252697j)\n",
      "INFO:root:s=-1, l=2, found what I think is n=17, omega=(0.178864558182-4.24570453208j)\n",
      "INFO:root:s=-1, l=2, found what I think is n=18, omega=(0.174344096378-4.49724570287j)\n",
      "INFO:root:s=-1, l=2, found what I think is n=19, omega=(0.170145656609-4.7486861042j)\n",
      "INFO:root:s=-1, l=3, found what I think is n=0, omega=(0.656898670462-0.0956162179282j)\n",
      "INFO:root:s=-1, l=3, found what I think is n=1, omega=(0.641737435968-0.289728401728j)\n",
      "INFO:root:s=-1, l=3, found what I think is n=2, omega=(0.613832026334-0.492066258238j)\n",
      "INFO:root:s=-1, l=3, found what I think is n=3, omega=(0.577918506078-0.706330830287j)\n",
      "INFO:root:s=-1, l=3, found what I think is n=4, omega=(0.539768526157-0.933179717615j)\n",
      "INFO:root:s=-1, l=3, found what I think is n=5, omega=(0.503901745408-1.17035588905j)\n",
      "INFO:root:s=-1, l=3, found what I think is n=6, omega=(0.47241235199-1.41453562397j)\n",
      "INFO:root:s=-1, l=3, found what I think is n=7, omega=(0.445558183778-1.66291953556j)\n",
      "INFO:root:s=-1, l=3, found what I think is n=8, omega=(0.42279092939-1.91365755977j)\n",
      "INFO:root:s=-1, l=3, found what I think is n=9, omega=(0.403385082223-2.16565388382j)\n",
      "INFO:root:s=-1, l=3, found what I think is n=10, omega=(0.386681643014-2.41828671437j)\n",
      "INFO:root:s=-1, l=3, found what I think is n=11, omega=(0.372146140841-2.67120774114j)\n",
      "INFO:root:s=-1, l=3, found what I think is n=12, omega=(0.35936174773-2.92422248319j)\n",
      "INFO:root:s=-1, l=3, found what I think is n=13, omega=(0.34800662433-3.17722298104j)\n",
      "INFO:root:s=-1, l=3, found what I think is n=14, omega=(0.337831601615-3.43015039726j)\n",
      "INFO:root:s=-1, l=3, found what I think is n=15, omega=(0.328642156898-3.68297408896j)\n",
      "INFO:root:s=-1, l=3, found what I think is n=16, omega=(0.320284802957-3.93567972689j)\n",
      "INFO:root:s=-1, l=3, found what I think is n=17, omega=(0.312637047397-4.18826244093j)\n",
      "INFO:root:s=-1, l=3, found what I think is n=18, omega=(0.305600026183-4.44072280337j)\n",
      "INFO:root:s=-1, l=3, found what I think is n=19, omega=(0.299093079711-4.69306444692j)\n",
      "INFO:root:s=-1, l=4, found what I think is n=0, omega=(0.853095192998-0.095859934828j)\n",
      "INFO:root:s=-1, l=4, found what I think is n=1, omega=(0.841267060607-0.289314673377j)\n",
      "INFO:root:s=-1, l=4, found what I think is n=2, omega=(0.818728379909-0.48783829852j)\n",
      "INFO:root:s=-1, l=4, found what I think is n=3, omega=(0.787748336474-0.694242415664j)\n",
      "INFO:root:s=-1, l=4, found what I think is n=4, omega=(0.751548632736-0.910241889212j)\n",
      "INFO:root:s=-1, l=4, found what I think is n=5, omega=(0.713633555453-1.13600395668j)\n",
      "INFO:root:s=-1, l=4, found what I think is n=6, omega=(0.676890091488-1.37028300806j)\n",
      "INFO:root:s=-1, l=4, found what I think is n=7, omega=(0.643057686405-1.61111812314j)\n",
      "INFO:root:s=-1, l=4, found what I think is n=8, omega=(0.612803243532-1.85656036633j)\n",
      "INFO:root:s=-1, l=4, found what I think is n=9, omega=(0.58610880615-2.10505179066j)\n",
      "INFO:root:s=-1, l=4, found what I think is n=10, omega=(0.562636035873-2.35548552037j)\n",
      "INFO:root:s=-1, l=4, found what I think is n=11, omega=(0.541950619982-2.60712237453j)\n",
      "INFO:root:s=-1, l=4, found what I think is n=12, omega=(0.52362944166-2.85948321339j)\n",
      "INFO:root:s=-1, l=4, found what I think is n=13, omega=(0.507300479688-3.11226128394j)\n",
      "INFO:root:s=-1, l=4, found what I think is n=14, omega=(0.492651058169-3.36526100751j)\n",
      "INFO:root:s=-1, l=4, found what I think is n=15, omega=(0.479423471811-3.61835789143j)\n",
      "INFO:root:s=-1, l=4, found what I think is n=16, omega=(0.467406763433-3.87147293591j)\n",
      "INFO:root:s=-1, l=4, found what I think is n=17, omega=(0.4564282527-4.12455641183j)\n",
      "INFO:root:s=-1, l=4, found what I think is n=18, omega=(0.446346087629-4.37757754745j)\n",
      "INFO:root:s=-1, l=4, found what I think is n=19, omega=(0.437043102958-4.63051792453j)\n",
      "INFO:root:s=-1, l=5, found what I think is n=0, omega=(1.04791278193-0.0959816720295j)\n",
      "INFO:root:s=-1, l=5, found what I think is n=1, omega=(1.03822088787-0.289103859673j)\n",
      "INFO:root:s=-1, l=5, found what I think is n=2, omega=(1.01944230406-0.485645532504j)\n",
      "INFO:root:s=-1, l=5, found what I think is n=3, omega=(0.992812695184-0.687657854838j)\n",
      "INFO:root:s=-1, l=5, found what I think is n=4, omega=(0.960174515028-0.896746735748j)\n",
      "INFO:root:s=-1, l=5, found what I think is n=5, omega=(0.923800301979-1.11380089272j)\n",
      "INFO:root:s=-1, l=5, found what I think is n=6, omega=(0.886032565375-1.33883244524j)\n",
      "INFO:root:s=-1, l=5, found what I think is n=7, omega=(0.848867230121-1.57106728189j)\n",
      "INFO:root:s=-1, l=5, found what I think is n=8, omega=(0.813684752829-1.80925816765j)\n",
      "INFO:root:s=-1, l=5, found what I think is n=9, omega=(0.781223044767-2.05204424136j)\n",
      "INFO:root:s=-1, l=5, found what I think is n=10, omega=(0.751721052075-2.29820113945j)\n",
      "INFO:root:s=-1, l=5, found what I think is n=11, omega=(0.725107047006-2.54674593635j)\n",
      "INFO:root:s=-1, l=5, found what I think is n=12, omega=(0.701152352488-2.79694182856j)\n",
      "INFO:root:s=-1, l=5, found what I think is n=13, omega=(0.679570384366-3.04825815218j)\n",
      "INFO:root:s=-1, l=5, found what I think is n=14, omega=(0.660070878319-3.30032102043j)\n",
      "INFO:root:s=-1, l=5, found what I think is n=15, omega=(0.642385323527-3.55286990178j)\n",
      "INFO:root:s=-1, l=5, found what I think is n=16, omega=(0.626276307509-3.80572413164j)\n",
      "INFO:root:s=-1, l=5, found what I think is n=17, omega=(0.611538773237-4.0587586583j)\n",
      "INFO:root:s=-1, l=5, found what I think is n=18, omega=(0.597997665905-4.31188701316j)\n",
      "INFO:root:s=-1, l=5, found what I think is n=19, omega=(0.585504277551-4.56504952029j)\n",
      "INFO:root:s=-1, l=6, found what I think is n=0, omega=(1.2419958996-0.0960512144709j)\n",
      "INFO:root:s=-1, l=6, found what I think is n=1, omega=(1.23378824478-0.288982296365j)\n",
      "INFO:root:s=-1, l=6, found what I think is n=2, omega=(1.21773690908-0.484371238637j)\n",
      "INFO:root:s=-1, l=6, found what I think is n=3, omega=(1.19458409571-0.683748128404j)\n",
      "INFO:root:s=-1, l=6, found what I think is n=4, omega=(1.16545450541-0.888436526187j)\n",
      "INFO:root:s=-1, l=6, found what I think is n=5, omega=(1.13180938663-1.09941329243j)\n",
      "INFO:root:s=-1, l=6, found what I think is n=6, omega=(1.09531752727-1.31717621669j)\n",
      "INFO:root:s=-1, l=6, found what I think is n=7, omega=(1.05765137297-1.54168435888j)\n",
      "INFO:root:s=-1, l=6, found what I think is n=8, omega=(1.02027030818-1.77241595677j)\n",
      "INFO:root:s=-1, l=6, found what I think is n=9, omega=(0.984271426065-2.00852749642j)\n",
      "INFO:root:s=-1, l=6, found what I think is n=10, omega=(0.95034926654-2.24904587127j)\n",
      "INFO:root:s=-1, l=6, found what I think is n=11, omega=(0.91884691822-2.4930254385j)\n",
      "INFO:root:s=-1, l=6, found what I think is n=12, omega=(0.889850132676-2.7396398498j)\n",
      "INFO:root:s=-1, l=6, found what I think is n=13, omega=(0.863282204759-2.98821509045j)\n",
      "INFO:root:s=-1, l=6, found what I think is n=14, omega=(0.838978521442-3.23822533947j)\n"
     ]
    },
    {
     "name": "stderr",
     "output_type": "stream",
     "text": [
      "INFO:root:s=-1, l=6, found what I think is n=15, omega=(0.816736852824-3.48927172036j)\n",
      "INFO:root:s=-1, l=6, found what I think is n=16, omega=(0.796347638695-3.74105672673j)\n",
      "INFO:root:s=-1, l=6, found what I think is n=17, omega=(0.777610383522-3.9933605813j)\n",
      "INFO:root:s=-1, l=6, found what I think is n=18, omega=(0.760341367071-4.24602173819j)\n",
      "INFO:root:s=-1, l=6, found what I think is n=19, omega=(0.744376335526-4.49892172863j)\n",
      "INFO:root:s=-1, l=7, found what I think is n=0, omega=(1.43564094176-0.0960946736473j)\n",
      "INFO:root:s=-1, l=7, found what I think is n=1, omega=(1.42852398071-0.288905931367j)\n",
      "INFO:root:s=-1, l=7, found what I think is n=2, omega=(1.41452583516-0.483567479257j)\n",
      "INFO:root:s=-1, l=7, found what I think is n=3, omega=(1.39412605321-0.681254900553j)\n",
      "INFO:root:s=-1, l=7, found what I think is n=4, omega=(1.36805482803-0.883036705743j)\n",
      "INFO:root:s=-1, l=7, found what I think is n=5, omega=(1.3372823987-1.08980064795j)\n",
      "INFO:root:s=-1, l=7, found what I think is n=6, omega=(1.30297324679-1.30217128938j)\n",
      "INFO:root:s=-1, l=7, found what I think is n=7, omega=(1.26639665844-1.52044316595j)\n",
      "INFO:root:s=-1, l=7, found what I think is n=8, omega=(1.22880497603-1.74455826389j)\n",
      "INFO:root:s=-1, l=7, found what I think is n=9, omega=(1.19131054962-1.97414368657j)\n",
      "INFO:root:s=-1, l=7, found what I think is n=10, omega=(1.15479682638-2.20860027379j)\n",
      "INFO:root:s=-1, l=7, found what I think is n=11, omega=(1.11988348816-2.44721256661j)\n",
      "INFO:root:s=-1, l=7, found what I think is n=12, omega=(1.08694194284-2.68924809396j)\n",
      "INFO:root:s=-1, l=7, found what I think is n=13, omega=(1.05614183088-2.93402692311j)\n",
      "INFO:root:s=-1, l=7, found what I think is n=14, omega=(1.0275072521-3.18095848375j)\n",
      "INFO:root:s=-1, l=7, found what I think is n=15, omega=(1.00096815241-3.42955274359j)\n",
      "INFO:root:s=-1, l=7, found what I think is n=16, omega=(0.976400475866-3.67941555934j)\n",
      "INFO:root:s=-1, l=7, found what I think is n=17, omega=(0.953654360773-3.93023642646j)\n",
      "INFO:root:s=-1, l=7, found what I think is n=18, omega=(0.932572348006-4.18177398934j)\n",
      "INFO:root:s=-1, l=7, found what I think is n=19, omega=(0.91300025288-4.43384219223j)\n",
      "INFO:root:s=-1, l=8, found what I think is n=0, omega=(1.62900354453-0.096123645212j)\n",
      "INFO:root:s=-1, l=8, found what I think is n=1, omega=(1.62272173307-0.288854860314j)\n",
      "INFO:root:s=-1, l=8, found what I think is n=2, omega=(1.6103195274-0.483028658107j)\n",
      "INFO:root:s=-1, l=8, found what I think is n=3, omega=(1.59212440603-0.6795730097j)\n",
      "INFO:root:s=-1, l=8, found what I think is n=4, omega=(1.56863535444-0.879355259609j)\n",
      "INFO:root:s=-1, l=8, found what I think is n=5, omega=(1.54052193652-1.08314127672j)\n",
      "INFO:root:s=-1, l=8, found what I think is n=6, omega=(1.50860813877-1.29154621941j)\n",
      "INFO:root:s=-1, l=8, found what I think is n=7, omega=(1.47383387593-1.50498567173j)\n",
      "INFO:root:s=-1, l=8, found what I think is n=8, omega=(1.43719333419-1.72364069054j)\n",
      "INFO:root:s=-1, l=8, found what I think is n=9, omega=(1.39965866942-1.94744994819j)\n",
      "INFO:root:s=-1, l=8, found what I think is n=10, omega=(1.36210526299-2.17613492762j)\n",
      "INFO:root:s=-1, l=8, found what I think is n=11, omega=(1.32525566463-2.40925292374j)\n",
      "INFO:root:s=-1, l=8, found what I think is n=12, omega=(1.2896524959-2.64626370058j)\n",
      "INFO:root:s=-1, l=8, found what I think is n=13, omega=(1.25566024283-2.88659373858j)\n",
      "INFO:root:s=-1, l=8, found what I think is n=14, omega=(1.2234878973-3.1296866824j)\n",
      "INFO:root:s=-1, l=8, found what I think is n=15, omega=(1.19322175234-3.37503576923j)\n",
      "INFO:root:s=-1, l=8, found what I think is n=16, omega=(1.16485940124-3.62219976131j)\n",
      "INFO:root:s=-1, l=8, found what I think is n=17, omega=(1.13833952955-3.8708067002j)\n",
      "INFO:root:s=-1, l=8, found what I think is n=18, omega=(1.1135653403-4.12055014652j)\n",
      "INFO:root:s=-1, l=8, found what I think is n=19, omega=(1.09042157144-4.37118164969j)\n",
      "INFO:root:s=-1, l=9, found what I think is n=0, omega=(1.82217335572-0.0961439249993j)\n",
      "INFO:root:s=-1, l=9, found what I think is n=1, omega=(1.81655145287-0.288819035415j)\n",
      "INFO:root:s=-1, l=9, found what I think is n=2, omega=(1.80542298521-0.482650112429j)\n",
      "INFO:root:s=-1, l=9, found what I think is n=3, omega=(1.78902144-0.678386800805j)\n",
      "INFO:root:s=-1, l=9, found what I think is n=4, omega=(1.76770230057-0.876741944439j)\n",
      "INFO:root:s=-1, l=9, found what I think is n=5, omega=(1.74194453568-1.07836762972j)\n",
      "INFO:root:s=-1, l=9, found what I think is n=6, omega=(1.71234524705-1.28382533673j)\n",
      "INFO:root:s=-1, l=9, found what I think is n=7, omega=(1.67960306332-1.49355332276j)\n",
      "INFO:root:s=-1, l=9, found what I think is n=8, omega=(1.64448774617-1.70783718117j)\n",
      "INFO:root:s=-1, l=9, found what I think is n=9, omega=(1.60779720852-1.92679102189j)\n",
      "INFO:root:s=-1, l=9, found what I think is n=10, omega=(1.57030763655-2.15035558461j)\n",
      "INFO:root:s=-1, l=9, found what I think is n=11, omega=(1.53272559009-2.37831559267j)\n",
      "INFO:root:s=-1, l=9, found what I think is n=12, omega=(1.49565099728-2.61033328206j)\n",
      "INFO:root:s=-1, l=9, found what I think is n=13, omega=(1.45955667779-2.84599080716j)\n",
      "INFO:root:s=-1, l=9, found what I think is n=14, omega=(1.42478512903-3.08483297537j)\n",
      "INFO:root:s=-1, l=9, found what I think is n=15, omega=(1.39155913587-3.32640351648j)\n",
      "INFO:root:s=-1, l=9, found what I think is n=16, omega=(1.36000075553-3.57027138537j)\n",
      "INFO:root:s=-1, l=9, found what I think is n=17, omega=(1.33015338438-3.81604673575j)\n",
      "INFO:root:s=-1, l=9, found what I think is n=18, omega=(1.30200303119-4.0633882178j)\n",
      "INFO:root:s=-1, l=9, found what I think is n=19, omega=(1.2754966223-4.31200403278j)\n",
      "INFO:root:s=-1, l=10, found what I think is n=0, omega=(2.01520568371-0.0961586738754j)\n",
      "INFO:root:s=-1, l=10, found what I think is n=1, omega=(2.01011832455-0.288792942608j)\n",
      "INFO:root:s=-1, l=10, found what I think is n=2, omega=(2.00002887442-0.482374115116j)\n",
      "INFO:root:s=-1, l=10, found what I think is n=3, omega=(1.98510963948-0.677519701496j)\n",
      "INFO:root:s=-1, l=10, found what I think is n=4, omega=(1.96562261892-0.874823598798j)\n",
      "INFO:root:s=-1, l=10, found what I think is n=5, omega=(1.94192133121-1.07484129801j)\n",
      "INFO:root:s=-1, l=10, found what I think is n=6, omega=(1.91444945302-1.27807122118j)\n",
      "INFO:root:s=-1, l=10, found what I think is n=7, omega=(1.88373369489-1.48493327166j)\n",
      "INFO:root:s=-1, l=10, found what I think is n=8, omega=(1.85036884195-1.69574717234j)\n",
      "INFO:root:s=-1, l=10, found what I think is n=9, omega=(1.81499429624-1.91071439109j)\n",
      "INFO:root:s=-1, l=10, found what I think is n=10, omega=(1.77826359416-2.12990779394j)\n",
      "INFO:root:s=-1, l=10, found what I think is n=11, omega=(1.74081059526-2.35327216815j)\n",
      "INFO:root:s=-1, l=10, found what I think is n=12, omega=(1.70321742394-2.58063650732j)\n",
      "INFO:root:s=-1, l=10, found what I think is n=13, omega=(1.66598909641-2.81173620688j)\n",
      "INFO:root:s=-1, l=10, found what I think is n=14, omega=(1.62953808855-3.04624116307j)\n",
      "INFO:root:s=-1, l=10, found what I think is n=15, omega=(1.59417961599-3.28378498721j)\n",
      "INFO:root:s=-1, l=10, found what I think is n=16, omega=(1.56013614125-3.52399121502j)\n",
      "INFO:root:s=-1, l=10, found what I think is n=17, omega=(1.52754827458-3.76649395161j)\n",
      "INFO:root:s=-1, l=10, found what I think is n=18, omega=(1.49648896678-4.01095209794j)\n",
      "INFO:root:s=-1, l=10, found what I think is n=19, omega=(1.46697839334-4.25705761233j)\n",
      "INFO:root:s=-1, l=11, found what I think is n=0, omega=(2.20813651349-0.0961697355391j)\n",
      "INFO:root:s=-1, l=11, found what I think is n=1, omega=(2.2034909351-0.288773352035j)\n",
      "INFO:root:s=-1, l=11, found what I think is n=2, omega=(2.19426459123-0.482166742246j)\n",
      "INFO:root:s=-1, l=11, found what I think is n=3, omega=(2.18058826193-0.67686702481j)\n",
      "INFO:root:s=-1, l=11, found what I think is n=4, omega=(2.16266053364-0.873375471085j)\n",
      "INFO:root:s=-1, l=11, found what I think is n=5, omega=(2.14074940695-1.07216794825j)\n",
      "INFO:root:s=-1, l=11, found what I think is n=6, omega=(2.11519237902-1.27368284563j)\n",
      "INFO:root:s=-1, l=11, found what I think is n=7, omega=(2.08639349856-1.47830681937j)\n",
      "INFO:root:s=-1, l=11, found what I think is n=8, omega=(2.0548159832-1.68635947035j)\n",
      "INFO:root:s=-1, l=11, found what I think is n=9, omega=(2.02096949998-1.89807883946j)\n",
      "INFO:root:s=-1, l=11, found what I think is n=10, omega=(1.98539215784-2.11361010665j)\n"
     ]
    },
    {
     "name": "stderr",
     "output_type": "stream",
     "text": [
      "INFO:root:s=-1, l=11, found what I think is n=11, omega=(1.94862847877-2.33299984056j)\n",
      "INFO:root:s=-1, l=11, found what I think is n=12, omega=(1.91120574905-2.55619741886j)\n",
      "INFO:root:s=-1, l=11, found what I think is n=13, omega=(1.87361177998-2.78306394242j)\n",
      "INFO:root:s=-1, l=11, found what I think is n=14, omega=(1.83627694951-3.01338748836j)\n",
      "INFO:root:s=-1, l=11, found what I think is n=15, omega=(1.7995624909-3.2469023841j)\n",
      "INFO:root:s=-1, l=11, found what I think is n=16, omega=(1.76375565977-3.48330969753j)\n",
      "INFO:root:s=-1, l=11, found what I think is n=17, omega=(1.72907115062-3.72229638686j)\n",
      "INFO:root:s=-1, l=11, found what I think is n=18, omega=(1.69565725766-3.96355131626j)\n",
      "INFO:root:s=-1, l=11, found what I think is n=19, omega=(1.66360495587-4.20677727814j)\n",
      "INFO:root:s=-1, l=12, found what I think is n=0, omega=(2.40099027245-0.0961782445327j)\n",
      "INFO:root:s=-1, l=12, found what I think is n=1, omega=(2.39671591763-0.28875827023j)\n",
      "INFO:root:s=-1, l=12, found what I think is n=2, omega=(2.38821762287-0.482007009156j)\n",
      "INFO:root:s=-1, l=12, found what I think is n=3, omega=(2.37559699446-0.676363629799j)\n",
      "INFO:root:s=-1, l=12, found what I think is n=4, omega=(2.35900812107-0.872256265134j)\n",
      "INFO:root:s=-1, l=12, found what I think is n=5, omega=(2.33865886401-1.07009559245j)\n",
      "INFO:root:s=-1, l=12, found what I think is n=6, omega=(2.31481140796-1.27026676082j)\n",
      "INFO:root:s=-1, l=12, found what I think is n=7, omega=(2.28778118026-1.47311972964j)\n",
      "INFO:root:s=-1, l=12, found what I think is n=8, omega=(2.25793322515-1.67895849637j)\n",
      "INFO:root:s=-1, l=12, found what I think is n=9, omega=(2.22567529326-1.88803014417j)\n",
      "INFO:root:s=-1, l=12, found what I think is n=10, omega=(2.19144731422-2.10051502518j)\n",
      "INFO:root:s=-1, l=12, found what I think is n=11, omega=(2.15570753295-2.31651957828j)\n",
      "INFO:root:s=-1, l=12, found what I think is n=12, omega=(2.11891629122-2.53607314048j)\n",
      "INFO:root:s=-1, l=12, found what I think is n=13, omega=(2.08151903288-2.75912961281j)\n",
      "INFO:root:s=-1, l=12, found what I think is n=14, omega=(2.04393040413-2.985574072j)\n",
      "INFO:root:s=-1, l=12, found what I think is n=15, omega=(2.00652119969-3.21523358655j)\n",
      "INFO:root:s=-1, l=12, found what I think is n=16, omega=(1.96960937363-3.44789083418j)\n",
      "INFO:root:s=-1, l=12, found what I think is n=17, omega=(1.93345561675-3.68329881418j)\n",
      "INFO:root:s=-1, l=12, found what I think is n=18, omega=(1.89826323156-3.92119502765j)\n",
      "INFO:root:s=-1, l=12, found what I think is n=19, omega=(1.86418150338-4.16131388355j)\n",
      "INFO:root:s=-1, l=13, found what I think is n=0, omega=(2.59378412777-0.0961849301918j)\n",
      "INFO:root:s=-1, l=13, found what I think is n=1, omega=(2.5898260847-0.288746412883j)\n",
      "INFO:root:s=-1, l=13, found what I think is n=2, omega=(2.58194998551-0.481881374616j)\n",
      "INFO:root:s=-1, l=13, found what I think is n=3, omega=(2.57023634101-0.67596730725j)\n",
      "INFO:root:s=-1, l=13, found what I think is n=4, omega=(2.55480710669-0.871373777628j)\n",
      "INFO:root:s=-1, l=13, found what I think is n=5, omega=(2.5358266854-1.06845796681j)\n",
      "INFO:root:s=-1, l=13, found what I think is n=6, omega=(2.51350257359-1.26755910663j)\n",
      "INFO:root:s=-1, l=13, found what I think is n=7, omega=(2.48808510899-1.46899178374j)\n",
      "INFO:root:s=-1, l=13, found what I think is n=8, omega=(2.4598657324-1.67303830867j)\n",
      "INFO:root:s=-1, l=13, found what I think is n=9, omega=(2.42917322651-1.87994061022j)\n",
      "INFO:root:s=-1, l=13, found what I think is n=10, omega=(2.39636756475-2.08989237136j)\n",
      "INFO:root:s=-1, l=13, found what I think is n=11, omega=(2.36183130117-2.30303230918j)\n",
      "INFO:root:s=-1, l=13, found what I think is n=12, omega=(2.32595882335-2.51943954739j)\n",
      "INFO:root:s=-1, l=13, found what I think is n=13, omega=(2.28914419959-2.73913188605j)\n",
      "INFO:root:s=-1, l=13, found what I think is n=14, omega=(2.25176867482-2.96206743699j)\n",
      "INFO:root:s=-1, l=13, found what I think is n=15, omega=(2.21418900896-3.18814962449j)\n",
      "INFO:root:s=-1, l=13, found what I think is n=16, omega=(2.17672776627-3.41723506139j)\n",
      "INFO:root:s=-1, l=13, found what I think is n=17, omega=(2.13966633321-3.64914341946j)\n",
      "INFO:root:s=-1, l=13, found what I think is n=18, omega=(2.10324105505-3.8836682192j)\n",
      "INFO:root:s=-1, l=13, found what I think is n=19, omega=(2.0676423792-4.12058747842j)\n",
      "INFO:root:s=-1, l=14, found what I think is n=0, omega=(2.78653049835-0.0961902787368j)\n",
      "INFO:root:s=-1, l=14, found what I think is n=1, omega=(2.78284519525-0.288736922366j)\n",
      "INFO:root:s=-1, l=14, found what I think is n=2, omega=(2.7755068382-0.481780785377j)\n",
      "INFO:root:s=-1, l=14, found what I think is n=3, omega=(2.76458030581-0.675649752277j)\n",
      "INFO:root:s=-1, l=14, found what I think is n=4, omega=(2.75016377401-0.870665866338j)\n",
      "INFO:root:s=-1, l=14, found what I think is n=5, omega=(2.73238948758-1.06714213875j)\n",
      "INFO:root:s=-1, l=14, found what I think is n=6, omega=(2.71142436663-1.26537860804j)\n",
      "INFO:root:s=-1, l=14, found what I think is n=7, omega=(2.68747010953-1.4656575943j)\n",
      "INFO:root:s=-1, l=14, found what I think is n=8, omega=(2.66076241257-1.66823822109j)\n",
      "INFO:root:s=-1, l=14, found what I think is n=9, omega=(2.6315689315-1.87335043208j)\n",
      "INFO:root:s=-1, l=14, found what I think is n=10, omega=(2.60018567905-2.08118889197j)\n",
      "INFO:root:s=-1, l=14, found what I think is n=11, omega=(2.56693169397-2.29190730316j)\n",
      "INFO:root:s=-1, l=14, found what I think is n=12, omega=(2.53214202635-2.50561375395j)\n",
      "INFO:root:s=-1, l=14, found what I think is n=13, omega=(2.49615933346-2.72236770566j)\n",
      "INFO:root:s=-1, l=14, found what I think is n=14, omega=(2.45932462331-2.94217910488j)\n",
      "INFO:root:s=-1, l=14, found what I think is n=15, omega=(2.42196786286-3.1650098805j)\n",
      "INFO:root:s=-1, l=14, found what I think is n=16, omega=(2.38439923579-3.39077779224j)\n",
      "INFO:root:s=-1, l=14, found what I think is n=17, omega=(2.34690176801-3.61936229799j)\n",
      "INFO:root:s=-1, l=14, found what I think is n=18, omega=(2.30972584818-3.85061186969j)\n",
      "INFO:root:s=-1, l=14, found what I think is n=19, omega=(2.27308591508-4.08435205831j)\n",
      "INFO:root:s=-1, l=15, found what I think is n=0, omega=(2.97923859087-0.0961946244432j)\n",
      "INFO:root:s=-1, l=15, found what I think is n=1, omega=(2.97579087572-0.288729208296j)\n",
      "INFO:root:s=-1, l=15, found what I think is n=2, omega=(2.96892183206-0.481699003599j)\n",
      "INFO:root:s=-1, l=15, found what I think is n=3, omega=(2.95868450843-0.675391418157j)\n",
      "INFO:root:s=-1, l=15, found what I think is n=4, omega=(2.94515910749-0.870089457614j)\n",
      "INFO:root:s=-1, l=15, found what I think is n=5, omega=(2.9284535798-1.06606938463j)\n",
      "INFO:root:s=-1, l=15, found what I think is n=6, omega=(2.90870414917-1.26359785868j)\n",
      "INFO:root:s=-1, l=15, found what I think is n=7, omega=(2.88607555303-1.46292849991j)\n",
      "INFO:root:s=-1, l=15, found what I think is n=8, omega=(2.86076074856-1.66429789504j)\n",
      "INFO:root:s=-1, l=15, found what I think is n=9, omega=(2.83297982636-1.86792115588j)\n",
      "INFO:root:s=-1, l=15, found what I think is n=10, omega=(2.80297789861-2.07398724228j)\n",
      "INFO:root:s=-1, l=15, found what I think is n=11, omega=(2.77102179448-2.28265436105j)\n",
      "INFO:root:s=-1, l=15, found what I think is n=12, omega=(2.73739550523-2.49404582804j)\n",
      "INFO:root:s=-1, l=15, found what I think is n=13, omega=(2.70239446611-2.70824681473j)\n",
      "INFO:root:s=-1, l=15, found what I think is n=14, omega=(2.66631892177-2.92530237312j)\n",
      "INFO:root:s=-1, l=15, found what I think is n=15, omega=(2.62946676921-3.14521703837j)\n",
      "INFO:root:s=-1, l=15, found what I think is n=16, omega=(2.59212637477-3.36795615547j)\n",
      "INFO:root:s=-1, l=15, found what I think is n=17, omega=(2.55456989373-3.5934488866j)\n",
      "INFO:root:s=-1, l=15, found what I think is n=18, omega=(2.51704756923-3.82159266962j)\n",
      "INFO:root:s=-1, l=15, found what I think is n=19, omega=(2.47978338638-4.05225874791j)\n",
      "INFO:root:s=-1, l=16, found what I think is n=0, omega=(3.17191537566-0.0961982032706j)\n",
      "INFO:root:s=-1, l=16, found what I think is n=1, omega=(3.16867647877-0.288722853503j)\n",
      "INFO:root:s=-1, l=16, found what I think is n=2, omega=(3.16222054885-0.481631618418j)\n",
      "INFO:root:s=-1, l=16, found what I think is n=3, omega=(3.15259151659-0.675178459021j)\n",
      "INFO:root:s=-1, l=16, found what I think is n=4, omega=(3.13985574796-0.869613954322j)\n",
      "INFO:root:s=-1, l=16, found what I think is n=5, omega=(3.12410250333-1.06518354589j)\n"
     ]
    },
    {
     "name": "stderr",
     "output_type": "stream",
     "text": [
      "INFO:root:s=-1, l=16, found what I think is n=6, omega=(3.10544437695-1.26212541607j)\n",
      "INFO:root:s=-1, l=16, found what I think is n=7, omega=(3.08401757492-1.46066795007j)\n",
      "INFO:root:s=-1, l=16, found what I think is n=8, omega=(3.05998186521-1.6610267771j)\n",
      "INFO:root:s=-1, l=16, found what I think is n=9, omega=(3.03352002178-1.86340144173j)\n",
      "INFO:root:s=-1, l=16, found what I think is n=10, omega=(3.00483659118-2.06797182125j)\n",
      "INFO:root:s=-1, l=16, found what I think is n=11, omega=(2.97415583994-2.27489447099j)\n",
      "INFO:root:s=-1, l=16, found what I think is n=12, omega=(2.94171879801-2.48429913878j)\n",
      "INFO:root:s=-1, l=16, found what I think is n=13, omega=(2.90777939459-2.69628572908j)\n",
      "INFO:root:s=-1, l=16, found what I think is n=14, omega=(2.87259978224-2.91092200662j)\n",
      "INFO:root:s=-1, l=16, found what I think is n=15, omega=(2.83644504894-3.12824229841j)\n",
      "INFO:root:s=-1, l=16, found what I think is n=16, omega=(2.79957760783-3.34824738174j)\n",
      "INFO:root:s=-1, l=16, found what I think is n=17, omega=(2.76225161405-3.57090564046j)\n",
      "INFO:root:s=-1, l=16, found what I think is n=18, omega=(2.72470777398-3.79615544827j)\n",
      "INFO:root:s=-1, l=16, found what I think is n=19, omega=(2.68716886911-4.02390861555j)\n",
      "INFO:root:s=-1, l=17, found what I think is n=0, omega=(3.36456622702-0.0962011856347j)\n",
      "INFO:root:s=-1, l=17, found what I think is n=1, omega=(3.3615123046-0.288717556445j)\n",
      "INFO:root:s=-1, l=17, found what I think is n=2, omega=(3.35542277853-0.481575439742j)\n",
      "INFO:root:s=-1, l=17, found what I think is n=3, omega=(3.34633443864-0.675000847271j)\n",
      "INFO:root:s=-1, l=17, found what I think is n=4, omega=(3.33430282551-0.869217148625j)\n",
      "INFO:root:s=-1, l=17, found what I think is n=5, omega=(3.31940258798-1.06444372913j)\n",
      "INFO:root:s=-1, l=17, found what I think is n=6, omega=(3.30172784512-1.26089438489j)\n",
      "INFO:root:s=-1, l=17, found what I think is n=7, omega=(3.28139245748-1.45877541385j)\n",
      "INFO:root:s=-1, l=17, found what I think is n=8, omega=(3.25853009491-1.65828338916j)\n",
      "INFO:root:s=-1, l=17, found what I think is n=9, omega=(3.23329397691-1.85960263653j)\n",
      "INFO:root:s=-1, l=17, found what I think is n=10, omega=(3.20585616108-2.06290247797j)\n",
      "INFO:root:s=-1, l=17, found what I think is n=11, omega=(3.17640626782-2.2683343488j)\n",
      "INFO:root:s=-1, l=17, found what I think is n=12, omega=(3.14514955808-2.47602893735j)\n",
      "INFO:root:s=-1, l=17, found what I think is n=13, omega=(3.11230432668-2.68609353118j)\n",
      "INFO:root:s=-1, l=17, found what I think is n=14, omega=(3.07809863336-2.89860977315j)\n",
      "INFO:root:s=-1, l=17, found what I think is n=15, omega=(3.04276646185-3.11363202778j)\n",
      "INFO:root:s=-1, l=17, found what I think is n=16, omega=(3.00654346541-3.33118653081j)\n",
      "INFO:root:s=-1, l=17, found what I think is n=17, omega=(2.96966251351-3.55127144084j)\n",
      "INFO:root:s=-1, l=17, found what I think is n=18, omega=(2.9323492896-3.77385783965j)\n",
      "INFO:root:s=-1, l=17, found what I think is n=19, omega=(2.89481819727-3.99889164416j)\n",
      "INFO:root:s=-1, l=18, found what I think is n=0, omega=(3.55719535544-0.096203697105j)\n",
      "INFO:root:s=-1, l=18, found what I think is n=1, omega=(3.55430642602-0.288713094782j)\n",
      "INFO:root:s=-1, l=18, found what I think is n=2, omega=(3.54854406796-0.48152811428j)\n",
      "INFO:root:s=-1, l=18, found what I think is n=3, omega=(3.5399393988-0.674851177518j)\n",
      "INFO:root:s=-1, l=18, found what I think is n=4, omega=(3.52853936802-0.868882611606j)\n",
      "INFO:root:s=-1, l=18, found what I think is n=5, omega=(3.51440703762-1.06381960511j)\n",
      "INFO:root:s=-1, l=18, found what I think is n=6, omega=(3.49762187839-1.2598549728j)\n",
      "INFO:root:s=-1, l=18, found what I think is n=7, omega=(3.47828001671-1.45717569554j)\n",
      "INFO:root:s=-1, l=18, found what I think is n=8, omega=(3.45649435404-1.65596121964j)\n",
      "INFO:root:s=-1, l=18, found what I think is n=9, omega=(3.43239447205-1.85638152221j)\n",
      "INFO:root:s=-1, l=18, found what I think is n=10, omega=(3.40612623313-2.05859497571j)\n",
      "INFO:root:s=-1, l=18, found what I think is n=11, omega=(3.37785099052-2.26274607431j)\n",
      "INFO:root:s=-1, l=18, found what I think is n=12, omega=(3.34774433673-2.46896311488j)\n",
      "INFO:root:s=-1, l=18, found what I think is n=13, omega=(3.31599434394-2.67735595214j)\n",
      "INFO:root:s=-1, l=18, found what I think is n=14, omega=(3.28279928537-2.88801396731j)\n",
      "INFO:root:s=-1, l=18, found what I think is n=15, omega=(3.24836487028-3.10100439768j)\n",
      "INFO:root:s=-1, l=18, found what I think is n=16, omega=(3.21290107222-3.31637116726j)\n",
      "INFO:root:s=-1, l=18, found what I think is n=17, omega=(3.17661867496-3.53413433512j)\n",
      "INFO:root:s=-1, l=18, found what I think is n=18, omega=(3.13972569677-3.75429023804j)\n",
      "INFO:root:s=-1, l=18, found what I think is n=19, omega=(3.10242387448-3.9768123531j)\n",
      "INFO:root:s=-1, l=19, found what I think is n=0, omega=(3.74980610651-0.0962058318593j)\n",
      "INFO:root:s=-1, l=19, found what I think is n=1, omega=(3.7470652597-0.288709301662j)\n",
      "INFO:root:s=-1, l=19, found what I think is n=2, omega=(3.74159679863-0.481487875385j)\n",
      "INFO:root:s=-1, l=19, found what I think is n=3, omega=(3.73342727802-0.674723885443j)\n",
      "INFO:root:s=-1, l=19, found what I think is n=4, omega=(3.72259674221-0.868597981559j)\n",
      "INFO:root:s=-1, l=19, found what I think is n=5, omega=(3.70915894734-1.06328830673j)\n",
      "INFO:root:s=-1, l=19, found what I think is n=6, omega=(3.69318160345-1.25896953158j)\n",
      "INFO:root:s=-1, l=19, found what I think is n=7, omega=(3.67474659143-1.45581172045j)\n",
      "INFO:root:s=-1, l=19, found what I think is n=8, omega=(3.65395009997-1.65397901417j)\n",
      "INFO:root:s=-1, l=19, found what I think is n=9, omega=(3.63090262072-1.85362812874j)\n",
      "INFO:root:s=-1, l=19, found what I think is n=10, omega=(3.60572873606-2.0549066868j)\n",
      "INFO:root:s=-1, l=19, found what I think is n=11, omega=(3.5785666344-2.25795141856j)\n",
      "INFO:root:s=-1, l=19, found what I think is n=12, omega=(3.54956729533-2.4628862898j)\n",
      "INFO:root:s=-1, l=19, found what I think is n=13, omega=(3.51889329996-2.66982063465j)\n",
      "INFO:root:s=-1, l=19, found what I think is n=14, omega=(3.4867172431-2.87884738762j)\n",
      "INFO:root:s=-1, l=19, found what I think is n=15, omega=(3.45321975073-3.09004152009j)\n",
      "INFO:root:s=-1, l=19, found what I think is n=16, omega=(3.41858713775-3.3034587888j)\n",
      "INFO:root:s=-1, l=19, found what I think is n=17, omega=(3.38300877386-3.51913489503j)\n",
      "INFO:root:s=-1, l=19, found what I think is n=18, omega=(3.34667425524-3.73708513409j)\n",
      "INFO:root:s=-1, l=19, found what I think is n=19, omega=(3.30977050319-3.95730458519j)\n",
      "INFO:root:s=0, l=0, found what I think is n=0, omega=(0.11045493908-0.104895717056j)\n",
      "INFO:root:s=0, l=0, found what I think is n=1, omega=(0.0861169182762-0.348052446818j)\n",
      "INFO:root:s=0, l=0, found what I think is n=2, omega=(0.075741935534-0.601078590104j)\n",
      "INFO:root:s=0, l=0, found what I think is n=3, omega=(0.0704101384756-0.853677318148j)\n",
      "INFO:root:s=0, l=0, found what I think is n=4, omega=(0.0670743043597-1.10563187975j)\n",
      "INFO:root:s=0, l=0, found what I think is n=5, omega=(0.0647417234189-1.35713946724j)\n",
      "INFO:root:s=0, l=0, found what I think is n=6, omega=(0.0629938132582-1.60834137093j)\n",
      "INFO:root:s=0, l=0, found what I think is n=7, omega=(0.0616211474215-1.8593268135j)\n",
      "INFO:root:s=0, l=0, found what I think is n=8, omega=(0.0605062619149-2.11015355008j)\n",
      "INFO:root:s=0, l=0, found what I think is n=9, omega=(0.0595767314781-2.36085951054j)\n",
      "INFO:root:s=0, l=0, found what I think is n=10, omega=(0.0587882742525-2.6114722023j)\n",
      "INFO:root:s=0, l=0, found what I think is n=11, omega=(0.0581067504376-2.86201038421j)\n",
      "INFO:root:s=0, l=0, found what I think is n=12, omega=(0.0575054004295-3.11248704207j)\n",
      "INFO:root:s=0, l=0, found what I think is n=13, omega=(0.056984824727-3.36291524922j)\n",
      "INFO:root:s=0, l=0, found what I think is n=14, omega=(0.0565157019522-3.61329558524j)\n",
      "INFO:root:s=0, l=0, found what I think is n=15, omega=(0.0560946390934-3.86365078111j)\n",
      "INFO:root:s=0, l=0, found what I think is n=16, omega=(0.0556911616365-4.11398070478j)\n",
      "INFO:root:s=0, l=0, found what I think is n=17, omega=(0.0553575375019-4.36424338314j)\n",
      "INFO:root:s=0, l=0, found what I think is n=18, omega=(0.0549999737319-4.61453541029j)\n",
      "INFO:root:s=0, l=0, found what I think is n=19, omega=(0.054721005994-4.86481599537j)\n",
      "INFO:root:s=0, l=1, found what I think is n=0, omega=(0.292936133267-0.0976599889136j)\n"
     ]
    },
    {
     "name": "stderr",
     "output_type": "stream",
     "text": [
      "INFO:root:s=0, l=1, found what I think is n=1, omega=(0.264448650605-0.306257391559j)\n",
      "INFO:root:s=0, l=1, found what I think is n=2, omega=(0.229539334931-0.540133425057j)\n",
      "INFO:root:s=0, l=1, found what I think is n=3, omega=(0.20325838622-0.788297822805j)\n",
      "INFO:root:s=0, l=1, found what I think is n=4, omega=(0.185109020302-1.04076211285j)\n",
      "INFO:root:s=0, l=1, found what I think is n=5, omega=(0.172076811239-1.29411969826j)\n",
      "INFO:root:s=0, l=1, found what I think is n=6, omega=(0.162225829305-1.54743989361j)\n",
      "INFO:root:s=0, l=1, found what I think is n=7, omega=(0.154457051787-1.80049029762j)\n",
      "INFO:root:s=0, l=1, found what I think is n=8, omega=(0.148126049753-2.05323646295j)\n",
      "INFO:root:s=0, l=1, found what I think is n=9, omega=(0.142833831916-2.30569978754j)\n",
      "INFO:root:s=0, l=1, found what I think is n=10, omega=(0.138320334128-2.55791462506j)\n",
      "INFO:root:s=0, l=1, found what I think is n=11, omega=(0.134408398374-2.80991507905j)\n",
      "INFO:root:s=0, l=1, found what I think is n=12, omega=(0.130972784397-3.06173128553j)\n",
      "INFO:root:s=0, l=1, found what I think is n=13, omega=(0.127922154242-3.31338881544j)\n",
      "INFO:root:s=0, l=1, found what I think is n=14, omega=(0.12518811783-3.56490905928j)\n",
      "INFO:root:s=0, l=1, found what I think is n=15, omega=(0.122718304089-3.81630985318j)\n",
      "INFO:root:s=0, l=1, found what I think is n=16, omega=(0.120471827707-4.0676060977j)\n",
      "INFO:root:s=0, l=1, found what I think is n=17, omega=(0.11841622851-4.31881030613j)\n",
      "INFO:root:s=0, l=1, found what I think is n=18, omega=(0.116525349038-4.56993300859j)\n",
      "INFO:root:s=0, l=1, found what I think is n=19, omega=(0.114777832162-4.82098319375j)\n",
      "INFO:root:s=0, l=2, found what I think is n=0, omega=(0.483643872211-0.0967587759782j)\n",
      "INFO:root:s=0, l=2, found what I think is n=1, omega=(0.46385057902-0.295603936988j)\n",
      "INFO:root:s=0, l=2, found what I think is n=2, omega=(0.430544054377-0.508558402155j)\n",
      "INFO:root:s=0, l=2, found what I think is n=3, omega=(0.393863062889-0.738096584781j)\n",
      "INFO:root:s=0, l=2, found what I think is n=4, omega=(0.361299191883-0.97992151949j)\n",
      "INFO:root:s=0, l=2, found what I think is n=5, omega=(0.334899534987-1.22841080385j)\n",
      "INFO:root:s=0, l=2, found what I think is n=6, omega=(0.313885913572-1.47995450509j)\n",
      "INFO:root:s=0, l=2, found what I think is n=7, omega=(0.296970507797-1.7327607867j)\n",
      "INFO:root:s=0, l=2, found what I think is n=8, omega=(0.283086460921-1.98600919019j)\n",
      "INFO:root:s=0, l=2, found what I think is n=9, omega=(0.271462834436-2.23933133241j)\n",
      "INFO:root:s=0, l=2, found what I think is n=10, omega=(0.261557401891-2.49256475823j)\n",
      "INFO:root:s=0, l=2, found what I think is n=11, omega=(0.252986129182-2.74564202493j)\n",
      "INFO:root:s=0, l=2, found what I think is n=12, omega=(0.245472073425-2.9985401986j)\n",
      "INFO:root:s=0, l=2, found what I think is n=13, omega=(0.238811308825-3.25125723505j)\n",
      "INFO:root:s=0, l=2, found what I think is n=14, omega=(0.232850549025-3.50380063581j)\n",
      "INFO:root:s=0, l=2, found what I think is n=15, omega=(0.227472337945-3.75618189216j)\n",
      "INFO:root:s=0, l=2, found what I think is n=16, omega=(0.222585086582-4.00841374759j)\n",
      "INFO:root:s=0, l=2, found what I think is n=17, omega=(0.21811624124-4.26050886453j)\n",
      "INFO:root:s=0, l=2, found what I think is n=18, omega=(0.214007508871-4.51247920543j)\n",
      "INFO:root:s=0, l=2, found what I think is n=19, omega=(0.210211453116-4.76433577881j)\n",
      "INFO:root:s=0, l=3, found what I think is n=0, omega=(0.675366232537-0.096499627734j)\n",
      "INFO:root:s=0, l=3, found what I think is n=1, omega=(0.660671497956-0.292284785138j)\n",
      "INFO:root:s=0, l=3, found what I think is n=2, omega=(0.633625807694-0.496008230403j)\n",
      "INFO:root:s=0, l=3, found what I think is n=3, omega=(0.5987732528-0.711221207371j)\n",
      "INFO:root:s=0, l=3, found what I think is n=4, omega=(0.561627289905-0.938592823647j)\n",
      "INFO:root:s=0, l=3, found what I think is n=5, omega=(0.526549798682-1.17603436649j)\n",
      "INFO:root:s=0, l=3, found what I think is n=6, omega=(0.495634129217-1.42039495193j)\n",
      "INFO:root:s=0, l=3, found what I think is n=7, omega=(0.469206943283-1.66896488561j)\n",
      "INFO:root:s=0, l=3, found what I think is n=8, omega=(0.446783497909-1.91991892204j)\n",
      "INFO:root:s=0, l=3, found what I think is n=9, omega=(0.427678057556-2.17215880382j)\n",
      "INFO:root:s=0, l=3, found what I think is n=10, omega=(0.411252918992-2.42505363136j)\n",
      "INFO:root:s=0, l=3, found what I think is n=11, omega=(0.396984188995-2.67824658719j)\n",
      "INFO:root:s=0, l=3, found what I think is n=12, omega=(0.384460040669-2.93153689481j)\n",
      "INFO:root:s=0, l=3, found what I think is n=13, omega=(0.373360873477-3.18481235516j)\n",
      "INFO:root:s=0, l=3, found what I think is n=14, omega=(0.363438430434-3.43801142649j)\n",
      "INFO:root:s=0, l=3, found what I think is n=15, omega=(0.35449848516-3.69110181994j)\n",
      "INFO:root:s=0, l=3, found what I think is n=16, omega=(0.346387579334-3.9440682651j)\n",
      "INFO:root:s=0, l=3, found what I think is n=17, omega=(0.33898314843-4.19690541027j)\n",
      "INFO:root:s=0, l=3, found what I think is n=18, omega=(0.332186233266-4.44961364277j)\n",
      "INFO:root:s=0, l=3, found what I think is n=19, omega=(0.325916089995-4.70219659873j)\n",
      "INFO:root:s=0, l=4, found what I think is n=0, omega=(0.867415641738-0.096391692348j)\n",
      "INFO:root:s=0, l=4, found what I think is n=1, omega=(0.855808035124-0.290876022533j)\n",
      "INFO:root:s=0, l=4, found what I think is n=2, omega=(0.833692132565-0.490324894616j)\n",
      "INFO:root:s=0, l=4, found what I think is n=3, omega=(0.803288112861-0.697481551234j)\n",
      "INFO:root:s=0, l=4, found what I think is n=4, omega=(0.767732623964-0.914019432463j)\n",
      "INFO:root:s=0, l=4, found what I think is n=5, omega=(0.730433557726-1.14011829866j)\n",
      "INFO:root:s=0, l=4, found what I think is n=6, omega=(0.694212641198-1.37459292045j)\n",
      "INFO:root:s=0, l=4, found what I think is n=7, omega=(0.660793481445-1.61555307782j)\n",
      "INFO:root:Trying inversion number 9\n",
      "INFO:root:s=0, l=4, found what I think is n=8, omega=(0.630860534262-1.86110054564j)\n",
      "INFO:root:s=0, l=4, found what I think is n=9, omega=(0.604422952408-2.10970283325j)\n",
      "INFO:root:s=0, l=4, found what I think is n=10, omega=(0.58116574453-2.3602614401j)\n",
      "INFO:root:s=0, l=4, found what I think is n=11, omega=(0.560670867135-2.61203723237j)\n",
      "INFO:root:s=0, l=4, found what I think is n=12, omega=(0.542525424486-2.86454812071j)\n",
      "INFO:root:s=0, l=4, found what I think is n=13, omega=(0.526363464099-3.11748389327j)\n",
      "INFO:root:s=0, l=4, found what I think is n=14, omega=(0.511875787833-3.37064593328j)\n",
      "INFO:root:s=0, l=4, found what I think is n=15, omega=(0.498806628542-3.62390736005j)\n",
      "INFO:root:s=0, l=4, found what I think is n=16, omega=(0.486946072828-3.87718740325j)\n",
      "INFO:root:s=0, l=4, found what I think is n=17, omega=(0.476121977724-4.13043506578j)\n",
      "INFO:root:s=0, l=4, found what I think is n=18, omega=(0.466192744794-4.38361869331j)\n",
      "INFO:root:s=0, l=4, found what I think is n=19, omega=(0.457041307759-4.6367192708j)\n",
      "INFO:root:s=0, l=5, found what I think is n=0, omega=(1.05961182081-0.0963367812571j)\n",
      "INFO:root:s=0, l=5, found what I think is n=1, omega=(1.05004094572-0.290154088213j)\n",
      "INFO:root:s=0, l=5, found what I think is n=2, omega=(1.0314982546-0.487344607681j)\n",
      "INFO:root:s=0, l=5, found what I think is n=3, omega=(1.00520346391-0.689927493921j)\n",
      "INFO:root:s=0, l=5, found what I think is n=4, omega=(0.972969358316-0.899481194589j)\n",
      "INFO:root:s=0, l=5, found what I think is n=5, omega=(0.937026750009-1.11688123441j)\n",
      "INFO:root:s=0, l=5, found what I think is n=6, omega=(0.899674759701-1.34214786909j)\n",
      "INFO:root:s=0, l=5, found what I think is n=7, omega=(0.862877878002-1.5745333378j)\n",
      "INFO:root:s=0, l=5, found what I think is n=8, omega=(0.828003895832-1.81282318727j)\n",
      "INFO:root:s=0, l=5, found what I think is n=9, omega=(0.795793672468-2.05568446948j)\n",
      "INFO:root:s=0, l=5, found what I think is n=10, omega=(0.766496971351-2.30191110393j)\n",
      "INFO:root:s=0, l=5, found what I think is n=11, omega=(0.740054328478-2.5505296494j)\n",
      "INFO:root:s=0, l=5, found what I think is n=12, omega=(0.716247543582-2.8008068942j)\n",
      "INFO:root:s=0, l=5, found what I think is n=13, omega=(0.694797856817-3.05221255125j)\n",
      "INFO:root:s=0, l=5, found what I think is n=14, omega=(0.675420426585-3.30437166727j)\n",
      "INFO:root:s=0, l=5, found what I think is n=15, omega=(0.657850336809-3.55702217888j)\n",
      "INFO:root:s=0, l=5, found what I think is n=16, omega=(0.6418524901-3.80998189257j)\n"
     ]
    },
    {
     "name": "stderr",
     "output_type": "stream",
     "text": [
      "INFO:root:s=0, l=5, found what I think is n=17, omega=(0.62722328969-4.0631244194j)\n",
      "INFO:root:s=0, l=5, found what I think is n=18, omega=(0.613788584502-4.31636219593j)\n",
      "INFO:root:s=0, l=5, found what I think is n=19, omega=(0.601400214071-4.56963468418j)\n",
      "INFO:root:s=0, l=6, found what I think is n=0, omega=(1.25188652971-0.0963051180415j)\n",
      "INFO:root:s=0, l=6, found what I think is n=1, omega=(1.24375226348-0.289736298403j)\n",
      "INFO:root:s=0, l=6, found what I think is n=2, omega=(1.22784518722-0.48560181173j)\n",
      "INFO:root:s=0, l=6, found what I think is n=3, omega=(1.20490122791-0.685415285647j)\n",
      "INFO:root:s=0, l=6, found what I think is n=4, omega=(1.17603332115-0.890484474562j)\n",
      "INFO:root:s=0, l=6, found what I think is n=5, omega=(1.14268472708-1.10177419148j)\n",
      "INFO:root:s=0, l=6, found what I think is n=6, omega=(1.10650185313-1.31977771948j)\n",
      "INFO:root:s=0, l=6, found what I think is n=7, omega=(1.06913492965-1.54445920574j)\n",
      "INFO:root:s=0, l=6, found what I think is n=8, omega=(1.03202645541-1.77531005265j)\n",
      "INFO:root:s=0, l=6, found what I think is n=9, omega=(0.996264836831-2.01150358507j)\n",
      "INFO:root:s=0, l=6, found what I think is n=10, omega=(0.962543603335-2.25208255903j)\n",
      "INFO:root:s=0, l=6, found what I think is n=11, omega=(0.931209846105-2.49611345363j)\n",
      "INFO:root:s=0, l=6, found what I think is n=12, omega=(0.902355446537-2.74277772654j)\n",
      "INFO:root:s=0, l=6, found what I think is n=13, omega=(0.875909948281-2.99140559813j)\n",
      "INFO:root:s=0, l=6, found what I think is n=14, omega=(0.851714112439-3.24147304102j)\n",
      "INFO:root:s=0, l=6, found what I think is n=15, omega=(0.829569918943-3.49258152286j)\n",
      "INFO:root:s=0, l=6, found what I think is n=16, omega=(0.809270923818-3.74443313036j)\n",
      "INFO:root:s=0, l=6, found what I think is n=17, omega=(0.790618856099-3.99680735926j)\n",
      "INFO:root:s=0, l=6, found what I think is n=18, omega=(0.773431545846-4.24954185627j)\n",
      "INFO:root:s=0, l=6, found what I think is n=19, omega=(0.757545800429-4.50251738476j)\n",
      "INFO:root:s=0, l=7, found what I think is n=0, omega=(1.44420818588-0.0962852225712j)\n",
      "INFO:root:s=0, l=7, found what I think is n=1, omega=(1.43713902514-0.289473240541j)\n",
      "INFO:root:s=0, l=7, found what I think is n=2, omega=(1.42323529614-0.484498354182j)\n",
      "INFO:root:s=0, l=7, found what I think is n=3, omega=(1.40297369981-0.682526926285j)\n",
      "INFO:root:s=0, l=7, found what I think is n=4, omega=(1.37707916374-0.884618215297j)\n",
      "INFO:root:s=0, l=7, found what I think is n=5, omega=(1.34651363635-1.09165172575j)\n",
      "INFO:root:s=0, l=7, found what I think is n=6, omega=(1.31243038815-1.30424636572j)\n",
      "INFO:root:s=0, l=7, found what I think is n=7, omega=(1.27608578511-1.52269515061j)\n",
      "INFO:root:s=0, l=7, found what I think is n=8, omega=(1.23871967708-1.74694331813j)\n",
      "INFO:root:s=0, l=7, found what I think is n=9, omega=(1.20143457369-1.97662522883j)\n",
      "INFO:root:s=0, l=7, found what I think is n=10, omega=(1.16510806883-2.2111511098j)\n",
      "INFO:root:s=0, l=7, found what I think is n=11, omega=(1.13035800299-2.44981492287j)\n",
      "INFO:root:s=0, l=7, found what I think is n=12, omega=(1.09755698925-2.69189214404j)\n",
      "INFO:root:s=0, l=7, found what I think is n=13, omega=(1.06687762082-2.93670867959j)\n",
      "INFO:root:s=0, l=7, found what I think is n=14, omega=(1.03834758266-3.18367774778j)\n",
      "INFO:root:s=0, l=7, found what I think is n=15, omega=(1.01190031167-3.43231146408j)\n",
      "INFO:root:s=0, l=7, found what I think is n=16, omega=(0.987414784871-3.68221668022j)\n",
      "INFO:root:s=0, l=7, found what I think is n=17, omega=(0.964743600424-3.93308315655j)\n",
      "INFO:root:s=0, l=7, found what I think is n=18, omega=(0.94373120736-4.18466938408j)\n",
      "INFO:root:s=0, l=7, found what I think is n=19, omega=(0.924224857375-4.43678894354j)\n",
      "INFO:root:s=0, l=8, found what I think is n=0, omega=(1.63656015081-0.0962719135153j)\n",
      "INFO:root:s=0, l=8, found what I think is n=1, omega=(1.63031118761-0.289297040731j)\n",
      "INFO:root:s=0, l=8, found what I think is n=2, omega=(1.61797406237-0.483756787741j)\n",
      "INFO:root:s=0, l=8, found what I think is n=3, omega=(1.59987481555-0.680573586142j)\n",
      "INFO:root:s=0, l=8, found what I think is n=4, omega=(1.57650982539-0.880609122154j)\n",
      "INFO:root:s=0, l=8, found what I think is n=5, omega=(1.54854452805-1.08462385575j)\n",
      "INFO:root:s=0, l=8, found what I think is n=6, omega=(1.51679710865-1.293228443j)\n",
      "INFO:root:s=0, l=8, found what I think is n=7, omega=(1.48220025493-1.50683567515j)\n",
      "INFO:root:s=0, l=8, found what I think is n=8, omega=(1.44574023281-1.72562618578j)\n",
      "INFO:root:s=0, l=8, found what I think is n=9, omega=(1.40838165531-1.94954079462j)\n",
      "INFO:root:s=0, l=8, found what I think is n=10, omega=(1.37099379644-2.1783052949j)\n",
      "INFO:root:s=0, l=8, found what I think is n=11, omega=(1.33429520761-2.41148257074j)\n",
      "INFO:root:s=0, l=8, found what I think is n=12, omega=(1.29882673402-2.64853823137j)\n",
      "INFO:root:s=0, l=8, found what I think is n=13, omega=(1.26495294497-2.88890403011j)\n",
      "INFO:root:s=0, l=8, found what I think is n=14, omega=(1.23288417685-3.13202784561j)\n",
      "INFO:root:s=0, l=8, found what I think is n=15, omega=(1.20270872755-3.37740599027j)\n",
      "INFO:root:s=0, l=8, found what I think is n=16, omega=(1.17442638867-3.62459925387j)\n",
      "INFO:root:s=0, l=8, found what I think is n=17, omega=(1.14797794035-3.87323687411j)\n",
      "INFO:root:s=0, l=8, found what I think is n=18, omega=(1.12326842439-4.12301300792j)\n",
      "INFO:root:s=0, l=8, found what I think is n=19, omega=(1.10018410982-4.37367940114j)\n",
      "INFO:root:s=0, l=9, found what I think is n=0, omega=(1.8289328219-0.0962625755246j)\n",
      "INFO:root:s=0, l=9, found what I think is n=1, omega=(1.82333445341-0.28917330711j)\n",
      "INFO:root:s=0, l=9, found what I think is n=2, omega=(1.81225270817-0.483234918449j)\n",
      "INFO:root:s=0, l=9, found what I think is n=3, omega=(1.79592028438-0.67919353343j)\n",
      "INFO:root:s=0, l=9, found what I think is n=4, omega=(1.77469126374-0.877758375398j)\n",
      "INFO:root:s=0, l=9, found what I think is n=5, omega=(1.74904240763-1.07957794906j)\n",
      "INFO:root:s=0, l=9, found what I think is n=6, omega=(1.71956766488-1.28521047183j)\n",
      "INFO:root:s=0, l=9, found what I think is n=7, omega=(1.68696157004-1.49509164863j)\n",
      "INFO:root:s=0, l=9, found what I think is n=8, omega=(1.65198906837-1.70950564223j)\n",
      "INFO:root:s=0, l=9, found what I think is n=9, omega=(1.61544297212-1.92856655086j)\n",
      "INFO:root:s=0, l=9, found what I think is n=10, omega=(1.57809465241-2.15221657934j)\n",
      "INFO:root:s=0, l=9, found what I think is n=11, omega=(1.5406466841-2.38024316482j)\n",
      "INFO:root:s=0, l=9, found what I think is n=12, omega=(1.50369620378-2.6123120542j)\n",
      "INFO:root:s=0, l=9, found what I think is n=13, omega=(1.4677145353-2.84800917617j)\n",
      "INFO:root:s=0, l=9, found what I think is n=14, omega=(1.43304383924-3.08688290775j)\n",
      "INFO:root:s=0, l=9, found what I think is n=15, omega=(1.39990743926-3.32848003188j)\n",
      "INFO:root:s=0, l=9, found what I think is n=16, omega=(1.36842848338-3.57237190181j)\n",
      "INFO:root:s=0, l=9, found what I think is n=17, omega=(1.33865172456-3.81817041441j)\n",
      "INFO:root:s=0, l=9, found what I think is n=18, omega=(1.31056458187-4.06553539067j)\n",
      "INFO:root:s=0, l=9, found what I think is n=19, omega=(1.28411531137-4.31417574745j)\n",
      "INFO:root:s=0, l=10, found what I think is n=0, omega=(2.02132026742-0.0962557730468j)\n",
      "INFO:root:s=0, l=10, found what I think is n=1, omega=(2.01625034152-0.289083115482j)\n",
      "INFO:root:s=0, l=10, found what I think is n=2, omega=(2.00619555107-0.482853961351j)\n",
      "INFO:root:s=0, l=10, found what I think is n=3, omega=(1.99132773998-0.678183478254j)\n",
      "INFO:root:s=0, l=10, found what I think is n=4, omega=(1.97190810186-0.875663150273j)\n",
      "INFO:root:s=0, l=10, found what I think is n=5, omega=(1.94828889886-1.07584603906j)\n",
      "INFO:root:s=0, l=10, found what I think is n=6, omega=(1.92091200537-1.27922824541j)\n",
      "INFO:root:s=0, l=10, found what I think is n=7, omega=(1.89030174051-1.4862276504j)\n",
      "INFO:root:s=0, l=10, found what I think is n=8, omega=(1.85704995744-1.6971624832j)\n",
      "INFO:root:s=0, l=10, found what I think is n=9, omega=(1.82179274825-1.91223346284j)\n",
      "INFO:root:s=0, l=10, found what I think is n=10, omega=(1.78518022736-2.13151359066j)\n",
      "INFO:root:s=0, l=10, found what I think is n=11, omega=(1.7478430399-2.35494868362j)\n",
      "INFO:root:s=0, l=10, found what I think is n=12, omega=(1.71036060236-2.58236952585j)\n",
      "INFO:root:s=0, l=10, found what I think is n=13, omega=(1.67323593611-2.81351381778j)\n"
     ]
    },
    {
     "name": "stderr",
     "output_type": "stream",
     "text": [
      "INFO:root:s=0, l=10, found what I think is n=14, omega=(1.63688031323-3.04805398051j)\n",
      "INFO:root:s=0, l=10, found what I think is n=15, omega=(1.6016084862-3.2856260965j)\n",
      "INFO:root:s=0, l=10, found what I think is n=16, omega=(1.56764305818-3.52585591567j)\n",
      "INFO:root:s=0, l=10, found what I think is n=17, omega=(1.53512520726-3.7683793854j)\n",
      "INFO:root:s=0, l=10, found what I think is n=18, omega=(1.50412870665-4.01285684156j)\n",
      "INFO:root:s=0, l=10, found what I think is n=19, omega=(1.4746746654-4.25898129211j)\n",
      "INFO:root:s=0, l=11, found what I think is n=0, omega=(2.21371862472-0.0962506649876j)\n",
      "INFO:root:s=0, l=11, found what I think is n=1, omega=(2.20908631741-0.289015359336j)\n",
      "INFO:root:s=0, l=11, found what I think is n=2, omega=(2.19988638598-0.482567468727j)\n",
      "INFO:root:s=0, l=11, found what I think is n=3, omega=(2.18624932498-0.677422493594j)\n",
      "INFO:root:s=0, l=11, found what I think is n=4, omega=(2.16837323173-0.874080039299j)\n",
      "INFO:root:s=0, l=11, found what I think is n=5, omega=(2.14652535275-1.07301428056j)\n",
      "INFO:root:s=0, l=11, found what I think is n=6, omega=(2.12104210538-1.27466194527j)\n",
      "INFO:root:s=0, l=11, found what I think is n=7, omega=(2.09232609084-1.4794081544j)\n",
      "INFO:root:s=0, l=11, found what I think is n=8, omega=(2.0608387088-1.68757122487j)\n",
      "INFO:root:s=0, l=11, found what I think is n=9, omega=(2.02708749096-1.89938830024j)\n",
      "INFO:root:s=0, l=11, found what I think is n=10, omega=(1.99160820806-2.11500416657j)\n",
      "INFO:root:s=0, l=11, found what I think is n=11, omega=(1.95494300613-2.33446556942j)\n",
      "INFO:root:s=0, l=11, found what I think is n=12, omega=(1.91761694536-2.55772262943j)\n",
      "INFO:root:s=0, l=11, found what I think is n=13, omega=(1.88011593381-2.784637675j)\n",
      "INFO:root:s=0, l=11, found what I think is n=14, omega=(1.84286889257-3.01500035352j)\n",
      "INFO:root:s=0, l=11, found what I think is n=15, omega=(1.80623609959-3.24854673466j)\n",
      "INFO:root:s=0, l=11, found what I think is n=16, omega=(1.77050434162-3.48497963527j)\n",
      "INFO:root:s=0, l=11, found what I think is n=17, omega=(1.7358882629-3.72398763676j)\n",
      "INFO:root:s=0, l=11, found what I think is n=18, omega=(1.70253642834-3.96526101396j)\n",
      "INFO:root:s=0, l=11, found what I think is n=19, omega=(1.67054030032-4.20850371652j)\n",
      "INFO:root:s=0, l=12, found what I think is n=0, omega=(2.40612527017-0.0962467320926j)\n",
      "INFO:root:s=0, l=12, found what I think is n=1, omega=(2.40186125035-0.288963173677j)\n",
      "INFO:root:s=0, l=12, found what I think is n=2, omega=(2.39338354085-0.482346641264j)\n",
      "INFO:root:s=0, l=12, found what I think is n=3, omega=(2.38079356384-0.67683514986j)\n",
      "INFO:root:s=0, l=12, found what I think is n=4, omega=(2.36424509717-0.872855646711j)\n",
      "INFO:root:s=0, l=12, found what I think is n=5, omega=(2.34394552856-1.07081759921j)\n",
      "INFO:root:s=0, l=12, found what I think is n=6, omega=(2.32015636796-1.27110494982j)\n",
      "INFO:root:s=0, l=12, found what I think is n=7, omega=(2.29319213498-1.47406650343j)\n",
      "INFO:root:s=0, l=12, found what I think is n=8, omega=(2.26341671816-1.68000522354j)\n",
      "INFO:root:s=0, l=12, found what I think is n=9, omega=(2.23123647656-1.88916736069j)\n",
      "INFO:root:s=0, l=12, found what I think is n=10, omega=(2.19708975792-2.10173271659j)\n",
      "INFO:root:s=0, l=12, found what I think is n=11, omega=(2.16143311447-2.31780752669j)\n",
      "INFO:root:s=0, l=12, found what I think is n=12, omega=(2.12472518949-2.53742130486j)\n",
      "INFO:root:s=0, l=12, found what I think is n=13, omega=(2.08740983719-2.7605285007j)\n",
      "INFO:root:s=0, l=12, found what I think is n=14, omega=(2.04990032825-2.98701505988j)\n",
      "INFO:root:s=0, l=12, found what I think is n=15, omega=(2.01256637007-3.21670915455j)\n",
      "INFO:root:s=0, l=12, found what I think is n=16, omega=(1.97572516162-3.44939469786j)\n",
      "INFO:root:s=0, l=12, found what I think is n=17, omega=(1.93963696407-3.68482595312j)\n",
      "INFO:root:s=0, l=12, found what I think is n=18, omega=(1.90450494452-3.92274162674j)\n",
      "INFO:root:s=0, l=12, found what I think is n=19, omega=(1.87047849163-4.16287721124j)\n",
      "INFO:root:s=0, l=13, found what I think is n=0, omega=(2.59853835908-0.0962436397524j)\n",
      "INFO:root:s=0, l=13, found what I think is n=1, omega=(2.59458852086-0.288922130687j)\n",
      "INFO:root:s=0, l=13, found what I think is n=2, omega=(2.58672877411-0.482172861972j)\n",
      "INFO:root:s=0, l=13, found what I think is n=3, omega=(2.5750395065-0.676372481159j)\n",
      "INFO:root:s=0, l=13, found what I think is n=4, omega=(2.55964246835-0.871889688821j)\n",
      "INFO:root:s=0, l=13, found what I think is n=5, omega=(2.54070175332-1.06908078045j)\n",
      "INFO:root:s=0, l=13, found what I think is n=6, omega=(2.51842442033-1.26828409639j)\n",
      "INFO:root:s=0, l=13, found what I think is n=7, omega=(2.49306021864-1.46981335166j)\n",
      "INFO:root:s=0, l=13, found what I think is n=8, omega=(2.46489983458-1.67395004307j)\n",
      "INFO:root:s=0, l=13, found what I think is n=9, omega=(2.4342711282-1.8809353914j)\n",
      "INFO:root:s=0, l=13, found what I think is n=10, omega=(2.40153299787-2.09096252963j)\n",
      "INFO:root:s=0, l=13, found what I think is n=11, omega=(2.36706680642-2.3041698319j)\n",
      "INFO:root:s=0, l=13, found what I think is n=12, omega=(2.3312656891-2.52063632285j)\n",
      "INFO:root:s=0, l=13, found what I think is n=13, omega=(2.2945224693-2.74037996394j)\n",
      "INFO:root:s=0, l=13, found what I think is n=14, omega=(2.25721722695-2.96335928041j)\n",
      "INFO:root:s=0, l=13, found what I think is n=15, omega=(2.21970570301-3.18947832844j)\n",
      "INFO:root:s=0, l=13, found what I think is n=16, omega=(2.18230963688-3.41859451768j)\n",
      "INFO:root:s=0, l=13, found what I think is n=17, omega=(2.14530981409-3.6505284171j)\n",
      "INFO:root:s=0, l=13, found what I think is n=18, omega=(2.1089422038-3.88507447857j)\n",
      "INFO:root:s=0, l=13, found what I think is n=19, omega=(2.07339708648-4.12201162707j)\n",
      "INFO:root:s=0, l=14, found what I think is n=0, omega=(2.79095655652-0.0962411644805j)\n",
      "INFO:root:s=0, l=14, found what I think is n=1, omega=(2.78727787549-0.288889270975j)\n",
      "INFO:root:s=0, l=14, found what I think is n=2, omega=(2.77995272272-0.482033667012j)\n",
      "INFO:root:s=0, l=14, found what I think is n=3, omega=(2.76904589193-0.676001604907j)\n",
      "INFO:root:s=0, l=14, found what I think is n=4, omega=(2.75465541914-0.871114480588j)\n",
      "INFO:root:s=0, l=14, found what I think is n=5, omega=(2.73691334046-1.06768464318j)\n",
      "INFO:root:s=0, l=14, found what I think is n=6, omega=(2.71598628286-1.26601146102j)\n",
      "INFO:root:s=0, l=14, found what I think is n=7, omega=(2.69207555157-1.46637658984j)\n",
      "INFO:root:s=0, l=14, found what I think is n=8, omega=(2.66541633725-1.66903851626j)\n",
      "INFO:root:s=0, l=14, found what I think is n=9, omega=(2.63627567159-1.87422660286j)\n",
      "INFO:root:s=0, l=14, found what I think is n=10, omega=(2.60494882821-2.08213502219j)\n",
      "INFO:root:s=0, l=14, found what I think is n=11, omega=(2.57175400702-2.29291710755j)\n",
      "INFO:root:s=0, l=14, found what I think is n=12, omega=(2.5370253471-2.50668073138j)\n",
      "INFO:root:s=0, l=14, found what I think is n=13, omega=(2.50110456113-2.72348531377j)\n",
      "INFO:root:s=0, l=14, found what I think is n=14, omega=(2.4643317247-2.94334094292j)\n",
      "INFO:root:s=0, l=14, found what I think is n=15, omega=(2.42703593176-3.16620986488j)\n",
      "INFO:root:s=0, l=14, found what I think is n=16, omega=(2.38952659531-3.3920103097j)\n",
      "INFO:root:s=0, l=14, found what I think is n=17, omega=(2.352086105-3.62062232399j)\n",
      "INFO:root:s=0, l=14, found what I think is n=18, omega=(2.31496436828-3.85189504513j)\n",
      "INFO:root:s=0, l=14, found what I think is n=19, omega=(2.27837550123-4.08565472268j)\n",
      "INFO:root:s=0, l=15, found what I think is n=0, omega=(2.9833788726-0.0962391524057j)\n",
      "INFO:root:s=0, l=15, found what I think is n=1, omega=(2.97993657898-0.28886255589j)\n",
      "INFO:root:s=0, l=15, found what I think is n=2, omega=(2.97307834998-0.481920459267j)\n",
      "INFO:root:s=0, l=15, found what I think is n=3, omega=(2.96285717402-0.675699787598j)\n",
      "INFO:root:s=0, l=15, found what I think is n=4, omega=(2.94935315568-0.870483053159j)\n",
      "INFO:root:s=0, l=15, found what I think is n=5, omega=(2.93267410058-1.06654601419j)\n",
      "INFO:root:s=0, l=15, found what I think is n=6, omega=(2.91295603045-1.26415481797j)\n",
      "INFO:root:s=0, l=15, found what I think is n=7, omega=(2.89036341278-1.46356257231j)\n",
      "INFO:root:s=0, l=15, found what I think is n=8, omega=(2.86508885745-1.66500536401j)\n",
      "INFO:root:s=0, l=15, found what I think is n=9, omega=(2.8373520242-1.86869783446j)\n"
     ]
    },
    {
     "name": "stderr",
     "output_type": "stream",
     "text": [
      "INFO:root:s=0, l=15, found what I think is n=10, omega=(2.80739750948-2.07482852355j)\n",
      "INFO:root:s=0, l=15, found what I think is n=11, omega=(2.77549154731-2.28355529133j)\n",
      "INFO:root:s=0, l=15, found what I think is n=12, omega=(2.74191746761-2.49500120262j)\n",
      "INFO:root:s=0, l=15, found what I think is n=13, omega=(2.70696999891-2.70925129246j)\n",
      "INFO:root:s=0, l=15, found what I think is n=14, omega=(2.67094866106-2.92635060367j)\n",
      "INFO:root:s=0, l=15, found what I think is n=15, omega=(2.63415063934-3.14630379342j)\n",
      "INFO:root:s=0, l=15, found what I think is n=16, omega=(2.59686363312-3.36907645391j)\n",
      "INFO:root:s=0, l=15, found what I think is n=17, omega=(2.55935920418-3.59459810448j)\n",
      "INFO:root:s=0, l=15, found what I think is n=18, omega=(2.52188709742-3.82276662684j)\n",
      "INFO:root:s=0, l=15, found what I think is n=19, omega=(2.48467090973-4.05345376725j)\n",
      "INFO:root:s=0, l=16, found what I think is n=0, omega=(3.1758045577-0.096237494786j)\n",
      "INFO:root:s=0, l=16, found what I think is n=1, omega=(3.17257015532-0.288840544081j)\n",
      "INFO:root:s=0, l=16, found what I think is n=2, omega=(3.1661231937-0.481827154305j)\n",
      "INFO:root:s=0, l=16, found what I think is n=3, omega=(3.15650756001-0.675450911468j)\n",
      "INFO:root:s=0, l=16, found what I think is n=4, omega=(3.14378954977-0.869962012023j)\n",
      "INFO:root:s=0, l=16, found what I think is n=5, omega=(3.12805832013-1.06560550671j)\n",
      "INFO:root:s=0, l=16, found what I think is n=6, omega=(3.1094263225-1.26261918034j)\n",
      "INFO:root:s=0, l=16, found what I think is n=7, omega=(3.088029573-1.46123101818j)\n",
      "INFO:root:s=0, l=16, found what I think is n=8, omega=(3.06402759561-1.66165625448j)\n",
      "INFO:root:s=0, l=16, found what I think is n=9, omega=(3.03760286078-1.8640940543j)\n",
      "INFO:root:s=0, l=16, found what I think is n=10, omega=(3.0089595493-2.0687239441j)\n",
      "INFO:root:s=0, l=16, found what I think is n=11, omega=(2.97832150087-2.27570217226j)\n",
      "INFO:root:s=0, l=16, found what I think is n=12, omega=(2.94592926323-2.48515823935j)\n",
      "INFO:root:s=0, l=16, found what I think is n=13, omega=(2.91203623884-2.69719187723j)\n",
      "INFO:root:s=0, l=16, found what I think is n=14, omega=(2.8769040248-2.91187076468j)\n",
      "INFO:root:s=0, l=16, found what I think is n=15, omega=(2.8407971443-3.12922923698j)\n",
      "INFO:root:s=0, l=16, found what I think is n=16, omega=(2.80397745811-3.34926817566j)\n",
      "INFO:root:s=0, l=16, found what I think is n=17, omega=(2.76669860316-3.57195616009j)\n",
      "INFO:root:s=0, l=16, found what I think is n=18, omega=(2.72920082139-3.79723183993j)\n",
      "INFO:root:s=0, l=16, found what I think is n=19, omega=(2.69170649888-4.02500736618j)\n",
      "INFO:root:s=0, l=17, found what I think is n=0, omega=(3.36823303374-0.0962361130104j)\n",
      "INFO:root:s=0, l=17, found what I think is n=1, omega=(3.36518287865-0.288822193213j)\n",
      "INFO:root:s=0, l=17, found what I think is n=2, omega=(3.35910087185-0.48174934852j)\n",
      "INFO:root:s=0, l=17, found what I think is n=3, omega=(3.35002377101-0.675243294953j)\n",
      "INFO:root:s=0, l=17, found what I think is n=4, omega=(3.33800706504-0.869527100912j)\n",
      "INFO:root:s=0, l=17, found what I think is n=5, omega=(3.32312532766-1.06481984432j)\n",
      "INFO:root:s=0, l=17, found what I think is n=6, omega=(3.30547257465-1.26133500839j)\n",
      "INFO:root:s=0, l=17, found what I think is n=7, omega=(3.28516252997-1.45927857505j)\n",
      "INFO:root:s=0, l=17, found what I think is n=8, omega=(3.26232868837-1.65884680285j)\n",
      "INFO:root:s=0, l=17, found what I think is n=9, omega=(3.23712405147-1.86022371069j)\n",
      "INFO:root:s=0, l=17, found what I think is n=10, omega=(3.20972041327-2.06357833013j)\n",
      "INFO:root:s=0, l=17, found what I think is n=11, omega=(3.18030708411-2.26906183245j)\n",
      "INFO:root:s=0, l=17, found what I think is n=12, omega=(3.14908897053-2.4768046793j)\n",
      "INFO:root:s=0, l=17, found what I think is n=13, omega=(3.11628397403-2.68691398008j)\n",
      "INFO:root:s=0, l=17, found what I think is n=14, omega=(3.08211973077-2.89947125793j)\n",
      "INFO:root:s=0, l=17, found what I think is n=15, omega=(3.04682978254-3.11453082396j)\n",
      "INFO:root:s=0, l=17, found what I think is n=16, omega=(3.0106493364-3.33211893129j)\n",
      "INFO:root:s=0, l=17, found what I think is n=17, omega=(2.97381082675-3.55223382738j)\n",
      "INFO:root:s=0, l=17, found what I think is n=18, omega=(2.93653952834-3.77484675052j)\n",
      "INFO:root:s=0, l=17, found what I think is n=19, omega=(2.89904947622-3.99990383426j)\n",
      "INFO:root:s=0, l=18, found what I think is n=0, omega=(3.56066384778-0.0962349491096j)\n",
      "INFO:root:s=0, l=18, found what I think is n=1, omega=(3.55777810728-0.288806734426j)\n",
      "INFO:root:s=0, l=18, found what I think is n=2, omega=(3.55202211544-0.48168379152j)\n",
      "INFO:root:s=0, l=18, found what I think is n=3, omega=(3.54342696562-0.675068305956j)\n",
      "INFO:root:s=0, l=18, found what I think is n=4, omega=(3.53203956867-0.869160364479j)\n",
      "INFO:root:s=0, l=18, found what I think is n=5, omega=(3.51792293087-1.06415691061j)\n",
      "INFO:root:s=0, l=18, found what I think is n=6, omega=(3.50115644685-1.26025050963j)\n",
      "INFO:root:s=0, l=18, found what I think is n=7, omega=(3.48183614279-1.45762788986j)\n",
      "INFO:root:s=0, l=18, found what I think is n=8, omega=(3.46007479211-1.65646824472j)\n",
      "INFO:root:s=0, l=18, found what I think is n=9, omega=(3.43600181727-1.85694130216j)\n",
      "INFO:root:s=0, l=18, found what I think is n=10, omega=(3.40976288762-2.05920519469j)\n",
      "INFO:root:s=0, l=18, found what I think is n=11, omega=(3.38151912818-2.26340419249j)\n",
      "INFO:root:s=0, l=18, found what I think is n=12, omega=(3.35144586848-2.46966639196j)\n",
      "INFO:root:s=0, l=18, found what I think is n=13, omega=(3.31973088528-2.67810147889j)\n",
      "INFO:root:s=0, l=18, found what I think is n=14, omega=(3.28657212873-2.8887987049j)\n",
      "INFO:root:s=0, l=18, found what I think is n=15, omega=(3.25217496434-3.10182522378j)\n",
      "INFO:root:s=0, l=18, found what I think is n=16, omega=(3.21674901008-3.31722492728j)\n",
      "INFO:root:s=0, l=18, found what I think is n=17, omega=(3.18050469282-3.53501789617j)\n",
      "INFO:root:s=0, l=18, found what I think is n=18, omega=(3.14364968363-3.75520054293j)\n",
      "INFO:root:s=0, l=18, found what I think is n=19, omega=(3.10638539268-3.97774647147j)\n",
      "INFO:root:s=0, l=19, found what I think is n=0, omega=(3.75309663987-0.0962339595781j)\n",
      "INFO:root:s=0, l=19, found what I think is n=1, omega=(3.75035851616-0.288793590559j)\n",
      "INFO:root:s=0, l=19, found what I think is n=2, omega=(3.7448954924-0.481628041994j)\n",
      "INFO:root:s=0, l=19, found what I think is n=3, omega=(3.73673410481-0.674919455128j)\n",
      "INFO:root:s=0, l=19, found what I think is n=4, omega=(3.72591436842-0.868848285527j)\n",
      "INFO:root:s=0, l=19, found what I think is n=5, omega=(3.71248999727-1.06359247847j)\n",
      "INFO:root:s=0, l=19, found what I think is n=6, omega=(3.69652864429-1.25932650332j)\n",
      "INFO:root:s=0, l=19, found what I think is n=7, omega=(3.67811211553-1.45622022039j)\n",
      "INFO:root:s=0, l=19, found what I think is n=8, omega=(3.65733650442-1.65443756542j)\n",
      "INFO:root:s=0, l=19, found what I think is n=9, omega=(3.63431218436-1.85413505078j)\n",
      "INFO:root:s=0, l=19, found what I think is n=10, omega=(3.60916359418-2.05546010063j)\n",
      "INFO:root:s=0, l=19, found what I think is n=11, omega=(3.58202875213-2.25854925631j)\n",
      "INFO:root:s=0, l=19, found what I think is n=12, omega=(3.55305844049-2.46352630957j)\n",
      "INFO:root:s=0, l=19, found what I think is n=13, omega=(3.52241501687-2.67050044115j)\n",
      "INFO:root:s=0, l=19, found what I think is n=14, omega=(3.49027082874-2.87956445856j)\n",
      "INFO:root:s=0, l=19, found what I think is n=15, omega=(3.45680623492-3.09079323819j)\n",
      "INFO:root:s=0, l=19, found what I think is n=16, omega=(3.42220726885-3.30424247837j)\n",
      "INFO:root:s=0, l=19, found what I think is n=17, omega=(3.38666301125-3.51994786193j)\n",
      "INFO:root:s=0, l=19, found what I think is n=18, omega=(3.35036276959-3.73792470745j)\n",
      "INFO:root:s=0, l=19, found what I think is n=19, omega=(3.31349318475-3.95816815879j)\n",
      "INFO:root:Writing Schw QNM dict to file ./data/Schw_table.pickle\n"
     ]
    }
   ],
   "source": [
    "my_dict = Schw_QNM_dict().load_dict()"
   ]
  },
  {
   "cell_type": "code",
   "execution_count": 36,
   "metadata": {
    "scrolled": false
   },
   "outputs": [
    {
     "data": {
      "text/plain": [
       "1880"
      ]
     },
     "execution_count": 36,
     "metadata": {},
     "output_type": "execute_result"
    }
   ],
   "source": [
    "len(my_dict.keys())"
   ]
  },
  {
   "cell_type": "code",
   "execution_count": 37,
   "metadata": {
    "scrolled": true
   },
   "outputs": [
    {
     "data": {
      "text/plain": [
       "196888"
      ]
     },
     "execution_count": 37,
     "metadata": {},
     "output_type": "execute_result"
    }
   ],
   "source": [
    "import sys\n",
    "sys.getsizeof(my_dict)"
   ]
  },
  {
   "cell_type": "code",
   "execution_count": 38,
   "metadata": {
    "scrolled": true
   },
   "outputs": [
    {
     "data": {
      "text/plain": [
       "[(-2, 2, 0),\n",
       " (-2, 2, 1),\n",
       " (-2, 2, 2),\n",
       " (-2, 2, 3),\n",
       " (-2, 2, 4),\n",
       " (-2, 2, 5),\n",
       " (-2, 2, 6),\n",
       " (-2, 2, 7),\n",
       " (-2, 2, 8),\n",
       " (-2, 2, 9),\n",
       " (-2, 2, 10),\n",
       " (-2, 2, 11),\n",
       " (-2, 2, 12),\n",
       " (-2, 2, 13),\n",
       " (-2, 2, 14),\n",
       " (-2, 2, 15),\n",
       " (-2, 2, 16),\n",
       " (-2, 2, 17),\n",
       " (-2, 2, 18),\n",
       " (-2, 2, 19)]"
      ]
     },
     "execution_count": 38,
     "metadata": {},
     "output_type": "execute_result"
    }
   ],
   "source": [
    "sorted([ (s,l,n) for (s,l,n) in my_dict.keys() if (s==-2) and (l==2) ])"
   ]
  },
  {
   "cell_type": "code",
   "execution_count": 39,
   "metadata": {
    "scrolled": false
   },
   "outputs": [
    {
     "data": {
      "image/png": "[encoded data removed]",
      "text/plain": [
       "<Figure size 576x576 with 1 Axes>"
      ]
     },
     "metadata": {},
     "output_type": "display_data"
    }
   ],
   "source": [
    "oms = [ my_dict[(s,l,n)][0] for (s,l,n) in my_dict.keys() if (s==-2)  ]\n",
    "plt.figure(figsize=(8,8))\n",
    "plt.scatter(np.real(oms),np.imag(oms))\n",
    "plt.gca().invert_yaxis()\n",
    "plt.show()"
   ]
  },
  {
   "cell_type": "code",
   "execution_count": 40,
   "metadata": {
    "scrolled": true
   },
   "outputs": [
    {
     "name": "stdout",
     "output_type": "stream",
     "text": [
      "((3.870659847869805e-10-2.0135205580891924j), 0.002181314657764067, 5999)\n"
     ]
    }
   ],
   "source": [
    "print(my_dict[(-2,2,8)])"
   ]
  },
  {
   "cell_type": "code",
   "execution_count": 44,
   "metadata": {
    "scrolled": false
   },
   "outputs": [
    {
     "data": {
      "text/plain": [
       "[(0.3736716844180418-0.08896231568893515j),\n",
       " (0.3467109968790926-0.27391487529119934j),\n",
       " (0.30105345461261107-0.47827698322149526j),\n",
       " (0.2515049622258513-0.705148202441857j),\n",
       " (0.20751457982999358-0.9468448909054135j),\n",
       " (0.16929940306986252-1.1956080540906069j),\n",
       " (0.13325234019851326-1.4479106262097026j),\n",
       " (0.09282233375215646-1.7038411721306006j),\n",
       " (3.870659847869805e-10-2.0135205580891924j),\n",
       " (0.06326335759487339-2.302644633983424j),\n",
       " (0.07655349367110527-2.560826598926406j),\n",
       " (0.08259814292538446-2.8154423471638568j),\n",
       " (0.08572794732911967-3.068694729401907j),\n",
       " (0.08739422640436784-3.321230257102201j),\n",
       " (0.08823895836530314-3.573320756665281j),\n",
       " (0.08859040300377727-3.825105301051019j),\n",
       " (0.08863276180595221-4.076664626865472j),\n",
       " (0.08847687505885984-4.328050064046966j),\n",
       " (0.08819051455848587-4.5792969741857386j),\n",
       " (0.08782009805943558-4.83043023921786j)]"
      ]
     },
     "execution_count": 44,
     "metadata": {},
     "output_type": "execute_result"
    }
   ],
   "source": [
    "[my_dict[(-2,2,n)][0] for n in np.arange(0,20)]"
   ]
  },
  {
   "cell_type": "markdown",
   "metadata": {},
   "source": [
    "# Testing the Lentz method for continued fractions"
   ]
  },
  {
   "cell_type": "code",
   "execution_count": 35,
   "metadata": {},
   "outputs": [],
   "source": [
    "import cont_frac"
   ]
  },
  {
   "cell_type": "code",
   "execution_count": 36,
   "metadata": {},
   "outputs": [
    {
     "data": {
      "text/plain": [
       "<module 'cont_frac' from 'cont_frac.pyc'>"
      ]
     },
     "execution_count": 36,
     "metadata": {},
     "output_type": "execute_result"
    }
   ],
   "source": [
    "reload(cont_frac)"
   ]
  },
  {
   "cell_type": "code",
   "execution_count": 37,
   "metadata": {},
   "outputs": [
    {
     "data": {
      "text/plain": [
       "(1.4142135623638004, 4.488287519421874e-11, 14)"
      ]
     },
     "execution_count": 37,
     "metadata": {},
     "output_type": "execute_result"
    }
   ],
   "source": [
    "def rt2b(n):\n",
    "    if (n==0):\n",
    "        return 1\n",
    "    return 2\n",
    "\n",
    "def rt2a(n): return 1\n",
    "\n",
    "cont_frac.Lentz(rt2a, rt2b)"
   ]
  },
  {
   "cell_type": "code",
   "execution_count": 38,
   "metadata": {},
   "outputs": [
    {
     "data": {
      "text/plain": [
       "(1.6180339887802424, 6.785971784495359e-11, 25)"
      ]
     },
     "execution_count": 38,
     "metadata": {},
     "output_type": "execute_result"
    }
   ],
   "source": [
    "phia = rt2a\n",
    "phib = rt2a\n",
    "\n",
    "cont_frac.Lentz(phia, phib)"
   ]
  },
  {
   "cell_type": "code",
   "execution_count": 40,
   "metadata": {},
   "outputs": [
    {
     "data": {
      "text/plain": [
       "(3.1415926535897922, 8.881784197001252e-16, 21)"
      ]
     },
     "execution_count": 40,
     "metadata": {},
     "output_type": "execute_result"
    }
   ],
   "source": [
    "def pia(n):\n",
    "    if (n==1):\n",
    "        return 4.\n",
    "    return (n-1.)*(n-1.)\n",
    "    \n",
    "def pib(n):\n",
    "    if (n==0):\n",
    "        return 0.\n",
    "    return 2*n-1.\n",
    "\n",
    "cont_frac.Lentz(pia, pib, tol=1.e-15)"
   ]
  },
  {
   "cell_type": "code",
   "execution_count": 41,
   "metadata": {},
   "outputs": [
    {
     "data": {
      "text/plain": [
       "(2.7182818284590464, 3.3306690738754696e-16, 16)"
      ]
     },
     "execution_count": 41,
     "metadata": {},
     "output_type": "execute_result"
    }
   ],
   "source": [
    "def e_a(n):\n",
    "    if (n==1):\n",
    "        return 1.\n",
    "    return (n-1.)\n",
    "    \n",
    "def e_b(n):\n",
    "    if (n==0):\n",
    "        return 2.\n",
    "    return n\n",
    "\n",
    "cont_frac.Lentz(e_a, e_b, tol=1.e-15)"
   ]
  },
  {
   "cell_type": "code",
   "execution_count": 42,
   "metadata": {},
   "outputs": [
    {
     "name": "stdout",
     "output_type": "stream",
     "text": [
      "0.6420926159343308\n"
     ]
    },
    {
     "data": {
      "text/plain": [
       "(0.6420926159343306, 1.1102230246251565e-16, 9)"
      ]
     },
     "execution_count": 42,
     "metadata": {},
     "output_type": "execute_result"
    }
   ],
   "source": [
    "def cot1_a(n):\n",
    "    return -1.\n",
    "    \n",
    "def cot1_b(n):\n",
    "    return 2.*n+1.\n",
    "\n",
    "print(1./np.tan(1.))\n",
    "cont_frac.Lentz(cot1_a, cot1_b, tol=1.e-15)"
   ]
  },
  {
   "cell_type": "code",
   "execution_count": 21,
   "metadata": {},
   "outputs": [
    {
     "data": {
      "text/plain": [
       "array([  2.,  10.,  30.,  70., 140., 252.])"
      ]
     },
     "execution_count": 21,
     "metadata": {},
     "output_type": "execute_result"
    }
   ],
   "source": [
    "ells = np.arange(2,8)\n",
    "(ells-1.)*ells*(ells+1.)*(ells+2.)/12."
   ]
  },
  {
   "cell_type": "code",
   "execution_count": null,
   "metadata": {},
   "outputs": [],
   "source": []
  }
 ],
 "metadata": {
  "kernelspec": {
   "display_name": "Python 3",
   "language": "python",
   "name": "python3"
  },
  "language_info": {
   "codemirror_mode": {
    "name": "ipython",
    "version": 2
   },
   "file_extension": ".py",
   "mimetype": "text/x-python",
   "name": "python",
   "nbconvert_exporter": "python",
   "pygments_lexer": "ipython2",
   "version": "2.7.15"
  }
 },
 "nbformat": 4,
 "nbformat_minor": 2
}
