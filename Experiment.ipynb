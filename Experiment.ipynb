{
 "cells": [
  {
   "cell_type": "code",
   "execution_count": 1,
   "metadata": {},
   "outputs": [],
   "source": [
    "import radial\n",
    "import angular"
   ]
  },
  {
   "cell_type": "code",
   "execution_count": 6,
   "metadata": {},
   "outputs": [],
   "source": [
    "import numpy as np\n",
    "import matplotlib.pyplot as plt"
   ]
  },
  {
   "cell_type": "code",
   "execution_count": 3,
   "metadata": {},
   "outputs": [
    {
     "data": {
      "text/plain": [
       "(-3.7832264403820357-1.8368923380529323j)"
      ]
     },
     "execution_count": 3,
     "metadata": {},
     "output_type": "execute_result"
    }
   ],
   "source": [
    "radial.Leaver_Cf_trunc_inversion(0.4-0.2j, 0., -2, 2, 4.+0.j, 0, 300, 1.+0.j)"
   ]
  },
  {
   "cell_type": "code",
   "execution_count": 8,
   "metadata": {},
   "outputs": [],
   "source": [
    "Npts=100\n",
    "omegar=np.arange(0.2, .5, .3/Npts)\n",
    "omegai=np.arange(-0.2, -0., .2/Npts)\n",
    "Or, Oi = np.meshgrid(omegar, omegai)\n",
    "Os = Or + 1.j*Oi"
   ]
  },
  {
   "cell_type": "code",
   "execution_count": 9,
   "metadata": {
    "scrolled": true
   },
   "outputs": [],
   "source": [
    "leav1 = lambda omega: radial.Leaver_Cf_trunc_inversion(omega, 0., -2, 2, 4.+0.j, 0, 300, 0.j)\n",
    "leavf = np.vectorize(leav1)\n",
    "Leavers = np.abs(leavf(Os))"
   ]
  },
  {
   "cell_type": "code",
   "execution_count": 10,
   "metadata": {},
   "outputs": [
    {
     "data": {
      "image/png": "[encoded data removed]",
      "text/plain": [
       "<Figure size 432x288 with 2 Axes>"
      ]
     },
     "metadata": {},
     "output_type": "display_data"
    }
   ],
   "source": [
    "CS = plt.contourf(Or, Oi, np.exp(-Leavers))\n",
    "plt.colorbar(CS)\n",
    "plt.show()"
   ]
  },
  {
   "cell_type": "code",
   "execution_count": 11,
   "metadata": {},
   "outputs": [
    {
     "data": {
      "text/plain": [
       "(3.7252106530184745+0j)"
      ]
     },
     "execution_count": 11,
     "metadata": {},
     "output_type": "execute_result"
    }
   ],
   "source": [
    "angular.sep_const_closest(4., -2, 0.1, 2, 20)"
   ]
  },
  {
   "cell_type": "code",
   "execution_count": 23,
   "metadata": {},
   "outputs": [],
   "source": [
    "Npts=100\n",
    "omegar=np.arange(0.35, .45, .1/Npts)\n",
    "omegai=np.arange(-0.15, -0., .15/Npts)\n",
    "Or, Oi = np.meshgrid(omegar, omegai)\n",
    "Os = Or + 1.j*Oi"
   ]
  },
  {
   "cell_type": "code",
   "execution_count": 24,
   "metadata": {},
   "outputs": [],
   "source": [
    "a = 0.2\n",
    "s = -2\n",
    "m = 2\n",
    "\n",
    "n_inv = 2\n",
    "Nr = 300\n",
    "r_N = 0.\n",
    "l_max = 20\n",
    "\n",
    "leav1 = lambda omega: radial.Leaver_Cf_trunc_inversion(omega, a, s, m, \n",
    "                                                       angular.sep_const_closest(4., s, a*omega, m, l_max),\n",
    "                                                       n_inv, Nr, r_N)\n",
    "leavf = np.vectorize(leav1)\n",
    "Leavers = np.abs(leavf(Os))"
   ]
  },
  {
   "cell_type": "code",
   "execution_count": 27,
   "metadata": {},
   "outputs": [
    {
     "data": {
      "image/png": "[encoded data removed]",
      "text/plain": [
       "<Figure size 432x288 with 2 Axes>"
      ]
     },
     "metadata": {},
     "output_type": "display_data"
    }
   ],
   "source": [
    "CS = plt.contourf(Or, Oi, np.exp(-Leavers))\n",
    "plt.colorbar(CS)\n",
    "plt.show()"
   ]
  },
  {
   "cell_type": "code",
   "execution_count": 32,
   "metadata": {},
   "outputs": [],
   "source": [
    "from scipy import optimize"
   ]
  },
  {
   "cell_type": "code",
   "execution_count": 98,
   "metadata": {
    "scrolled": false
   },
   "outputs": [
    {
     "name": "stdout",
     "output_type": "stream",
     "text": [
      "    fjac: array([[-0.91722661, -0.39836584],\n",
      "       [ 0.39836584, -0.91722661]])\n",
      "     fun: array([5.40678613e-14, 2.41140441e-13])\n",
      " message: 'The solution converged.'\n",
      "    nfev: 13\n",
      "     qtf: array([-6.27731530e-10, -9.19897731e-10])\n",
      "       r: array([-38.67272047,  -0.09025114, -38.46615684])\n",
      "  status: 1\n",
      " success: True\n",
      "       x: array([ 0.41791282, -0.44296165])\n",
      "(0.41791281746869824-0.44296164988174275j)\n"
     ]
    }
   ],
   "source": [
    "a = 0.5\n",
    "s = -2\n",
    "m = 2\n",
    "\n",
    "n_inv = 3\n",
    "Nr = 300\n",
    "r_N = 0.\n",
    "l_max = 20\n",
    "\n",
    "A0 = 4.\n",
    "\n",
    "def leavA(x):\n",
    "    omega = x[0] + 1.j*x[1]\n",
    "    A = angular.sep_const_closest(A0, s, a*omega, m, l_max)\n",
    "    Leav_err = radial.Leaver_Cf_trunc_inversion(omega, a, s, m, A, n_inv, Nr, r_N)\n",
    "    return [np.real(Leav_err), np.imag(Leav_err)]\n",
    "\n",
    "sol = optimize.root(leavA, [0.4, 0.08], tol=1e-10)\n",
    "print(sol)\n",
    "omega_sol = sol.x[0] + 1.j*sol.x[1]\n",
    "print(omega_sol)"
   ]
  },
  {
   "cell_type": "code",
   "execution_count": 99,
   "metadata": {},
   "outputs": [
    {
     "data": {
      "text/plain": [
       "array([  3.44807369+0.66621887j,   9.72352054+0.32944044j,\n",
       "        17.83439067+0.2087013j ,  27.8902988 +0.15193687j,\n",
       "        39.92235868+0.12064507j,  53.94242625+0.10152497j,\n",
       "        69.95581388+0.08896951j,  87.96518835+0.08027339j,\n",
       "       107.97200729+0.07399758j, 129.97712192+0.06931793j,\n",
       "       153.98105641+0.06573423j, 179.98414785+0.06292833j,\n",
       "       207.986621  +0.0606899j , 237.98863043+0.05887534j,\n",
       "       269.99028525+0.0573838j , 303.99166425+0.0561428j ,\n",
       "       339.99282551+0.05509913j, 377.99380023+0.05421445j,\n",
       "       417.99413655+0.04477179j])"
      ]
     },
     "execution_count": 99,
     "metadata": {},
     "output_type": "execute_result"
    }
   ],
   "source": [
    "angular.sep_consts(s, a*omega_sol, m, l_max)"
   ]
  },
  {
   "cell_type": "code",
   "execution_count": null,
   "metadata": {},
   "outputs": [],
   "source": []
  }
 ],
 "metadata": {
  "kernelspec": {
   "display_name": "Python 3",
   "language": "python",
   "name": "python3"
  },
  "language_info": {
   "codemirror_mode": {
    "name": "ipython",
    "version": 2
   },
   "file_extension": ".py",
   "mimetype": "text/x-python",
   "name": "python",
   "nbconvert_exporter": "python",
   "pygments_lexer": "ipython2",
   "version": "2.7.15"
  }
 },
 "nbformat": 4,
 "nbformat_minor": 2
}
